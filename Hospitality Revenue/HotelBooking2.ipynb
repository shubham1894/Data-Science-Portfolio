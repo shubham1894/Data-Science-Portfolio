{
 "cells": [
  {
   "cell_type": "code",
   "execution_count": 41,
   "id": "dc4f228e",
   "metadata": {
    "executionInfo": {
     "elapsed": 1672,
     "status": "ok",
     "timestamp": 1664163947102,
     "user": {
      "displayName": "Shubham Sah",
      "userId": "09185991809667538600"
     },
     "user_tz": -330
    },
    "id": "dc4f228e"
   },
   "outputs": [],
   "source": [
    "## importing Dependencies\n",
    "import pandas as pd\n",
    "import numpy as np\n",
    "import matplotlib.pyplot as plt\n",
    "import seaborn as sns\n",
    "%matplotlib inline"
   ]
  },
  {
   "cell_type": "code",
   "execution_count": 111,
   "id": "e4b41f07",
   "metadata": {
    "colab": {
     "base_uri": "https://localhost:8080/",
     "height": 206
    },
    "executionInfo": {
     "elapsed": 69,
     "status": "ok",
     "timestamp": 1664163955898,
     "user": {
      "displayName": "Shubham Sah",
      "userId": "09185991809667538600"
     },
     "user_tz": -330
    },
    "id": "e4b41f07",
    "outputId": "95db4406-7cea-411a-cb34-c77d4f27b363"
   },
   "outputs": [
    {
     "data": {
      "text/html": [
       "<div>\n",
       "<style scoped>\n",
       "    .dataframe tbody tr th:only-of-type {\n",
       "        vertical-align: middle;\n",
       "    }\n",
       "\n",
       "    .dataframe tbody tr th {\n",
       "        vertical-align: top;\n",
       "    }\n",
       "\n",
       "    .dataframe thead th {\n",
       "        text-align: right;\n",
       "    }\n",
       "</style>\n",
       "<table border=\"1\" class=\"dataframe\">\n",
       "  <thead>\n",
       "    <tr style=\"text-align: right;\">\n",
       "      <th></th>\n",
       "      <th>date</th>\n",
       "      <th>mmm yy</th>\n",
       "      <th>week no</th>\n",
       "      <th>day_type</th>\n",
       "    </tr>\n",
       "  </thead>\n",
       "  <tbody>\n",
       "    <tr>\n",
       "      <th>0</th>\n",
       "      <td>01-May-22</td>\n",
       "      <td>May 22</td>\n",
       "      <td>W 19</td>\n",
       "      <td>weekend</td>\n",
       "    </tr>\n",
       "    <tr>\n",
       "      <th>1</th>\n",
       "      <td>02-May-22</td>\n",
       "      <td>May 22</td>\n",
       "      <td>W 19</td>\n",
       "      <td>weekeday</td>\n",
       "    </tr>\n",
       "    <tr>\n",
       "      <th>2</th>\n",
       "      <td>03-May-22</td>\n",
       "      <td>May 22</td>\n",
       "      <td>W 19</td>\n",
       "      <td>weekeday</td>\n",
       "    </tr>\n",
       "    <tr>\n",
       "      <th>3</th>\n",
       "      <td>04-May-22</td>\n",
       "      <td>May 22</td>\n",
       "      <td>W 19</td>\n",
       "      <td>weekeday</td>\n",
       "    </tr>\n",
       "    <tr>\n",
       "      <th>4</th>\n",
       "      <td>05-May-22</td>\n",
       "      <td>May 22</td>\n",
       "      <td>W 19</td>\n",
       "      <td>weekeday</td>\n",
       "    </tr>\n",
       "  </tbody>\n",
       "</table>\n",
       "</div>"
      ],
      "text/plain": [
       "        date  mmm yy week no  day_type\n",
       "0  01-May-22  May 22    W 19   weekend\n",
       "1  02-May-22  May 22    W 19  weekeday\n",
       "2  03-May-22  May 22    W 19  weekeday\n",
       "3  04-May-22  May 22    W 19  weekeday\n",
       "4  05-May-22  May 22    W 19  weekeday"
      ]
     },
     "execution_count": 111,
     "metadata": {},
     "output_type": "execute_result"
    }
   ],
   "source": [
    "df_date = pd.read_csv(r\"C:\\Users\\Shubham\\Music\\Codebasics\\Input Files\\Input Files\\dim_date.csv\")\n",
    "df_date.head()"
   ]
  },
  {
   "cell_type": "code",
   "execution_count": 168,
   "id": "f37674d5",
   "metadata": {
    "colab": {
     "base_uri": "https://localhost:8080/"
    },
    "executionInfo": {
     "elapsed": 63,
     "status": "ok",
     "timestamp": 1664163955898,
     "user": {
      "displayName": "Shubham Sah",
      "userId": "09185991809667538600"
     },
     "user_tz": -330
    },
    "id": "f37674d5",
    "outputId": "fbd849ec-3d74-4f0c-9dff-b6378a7ffb47"
   },
   "outputs": [
    {
     "data": {
      "text/plain": [
       "weekeday    65\n",
       "weekend     27\n",
       "Name: day_type, dtype: int64"
      ]
     },
     "execution_count": 168,
     "metadata": {},
     "output_type": "execute_result"
    }
   ],
   "source": [
    "df_date['day_type'].value_counts()"
   ]
  },
  {
   "cell_type": "code",
   "execution_count": 113,
   "id": "681382d6",
   "metadata": {},
   "outputs": [],
   "source": [
    "# df_date.isnull().sum()"
   ]
  },
  {
   "cell_type": "code",
   "execution_count": 114,
   "id": "30a5a68a",
   "metadata": {
    "colab": {
     "base_uri": "https://localhost:8080/",
     "height": 206
    },
    "executionInfo": {
     "elapsed": 55,
     "status": "ok",
     "timestamp": 1664163955899,
     "user": {
      "displayName": "Shubham Sah",
      "userId": "09185991809667538600"
     },
     "user_tz": -330
    },
    "id": "30a5a68a",
    "outputId": "4b6563a2-3d6a-4f25-d617-1d7d52af8c8c"
   },
   "outputs": [
    {
     "data": {
      "text/html": [
       "<div>\n",
       "<style scoped>\n",
       "    .dataframe tbody tr th:only-of-type {\n",
       "        vertical-align: middle;\n",
       "    }\n",
       "\n",
       "    .dataframe tbody tr th {\n",
       "        vertical-align: top;\n",
       "    }\n",
       "\n",
       "    .dataframe thead th {\n",
       "        text-align: right;\n",
       "    }\n",
       "</style>\n",
       "<table border=\"1\" class=\"dataframe\">\n",
       "  <thead>\n",
       "    <tr style=\"text-align: right;\">\n",
       "      <th></th>\n",
       "      <th>property_id</th>\n",
       "      <th>property_name</th>\n",
       "      <th>category</th>\n",
       "      <th>city</th>\n",
       "    </tr>\n",
       "  </thead>\n",
       "  <tbody>\n",
       "    <tr>\n",
       "      <th>0</th>\n",
       "      <td>16558</td>\n",
       "      <td>Atliq Grands</td>\n",
       "      <td>Luxury</td>\n",
       "      <td>Delhi</td>\n",
       "    </tr>\n",
       "    <tr>\n",
       "      <th>1</th>\n",
       "      <td>16559</td>\n",
       "      <td>Atliq Exotica</td>\n",
       "      <td>Luxury</td>\n",
       "      <td>Mumbai</td>\n",
       "    </tr>\n",
       "    <tr>\n",
       "      <th>2</th>\n",
       "      <td>16560</td>\n",
       "      <td>Atliq City</td>\n",
       "      <td>Business</td>\n",
       "      <td>Delhi</td>\n",
       "    </tr>\n",
       "    <tr>\n",
       "      <th>3</th>\n",
       "      <td>16561</td>\n",
       "      <td>Atliq Blu</td>\n",
       "      <td>Luxury</td>\n",
       "      <td>Delhi</td>\n",
       "    </tr>\n",
       "    <tr>\n",
       "      <th>4</th>\n",
       "      <td>16562</td>\n",
       "      <td>Atliq Bay</td>\n",
       "      <td>Luxury</td>\n",
       "      <td>Delhi</td>\n",
       "    </tr>\n",
       "  </tbody>\n",
       "</table>\n",
       "</div>"
      ],
      "text/plain": [
       "   property_id  property_name  category    city\n",
       "0        16558   Atliq Grands    Luxury   Delhi\n",
       "1        16559  Atliq Exotica    Luxury  Mumbai\n",
       "2        16560     Atliq City  Business   Delhi\n",
       "3        16561      Atliq Blu    Luxury   Delhi\n",
       "4        16562      Atliq Bay    Luxury   Delhi"
      ]
     },
     "execution_count": 114,
     "metadata": {},
     "output_type": "execute_result"
    }
   ],
   "source": [
    "df_hotel = pd.read_csv(r\"C:\\Users\\Shubham\\Music\\Codebasics\\Input Files\\Input Files\\dim_hotels.csv\")\n",
    "df_hotel.head()"
   ]
  },
  {
   "cell_type": "code",
   "execution_count": 115,
   "id": "65712e86",
   "metadata": {
    "colab": {
     "base_uri": "https://localhost:8080/"
    },
    "executionInfo": {
     "elapsed": 51,
     "status": "ok",
     "timestamp": 1664163955899,
     "user": {
      "displayName": "Shubham Sah",
      "userId": "09185991809667538600"
     },
     "user_tz": -330
    },
    "id": "65712e86",
    "outputId": "eefbf8a0-945d-4a9a-bde0-cc7cc75a4fa5"
   },
   "outputs": [
    {
     "data": {
      "text/plain": [
       "(25, 4)"
      ]
     },
     "execution_count": 115,
     "metadata": {},
     "output_type": "execute_result"
    }
   ],
   "source": [
    "df_hotel.shape"
   ]
  },
  {
   "cell_type": "code",
   "execution_count": 116,
   "id": "7146cfa2",
   "metadata": {
    "colab": {
     "base_uri": "https://localhost:8080/"
    },
    "executionInfo": {
     "elapsed": 48,
     "status": "ok",
     "timestamp": 1664163955900,
     "user": {
      "displayName": "Shubham Sah",
      "userId": "09185991809667538600"
     },
     "user_tz": -330
    },
    "id": "7146cfa2",
    "outputId": "3f130c9e-af98-4352-e6a9-33e7cdd4be9a"
   },
   "outputs": [
    {
     "name": "stdout",
     "output_type": "stream",
     "text": [
      "<class 'pandas.core.frame.DataFrame'>\n",
      "RangeIndex: 25 entries, 0 to 24\n",
      "Data columns (total 4 columns):\n",
      " #   Column         Non-Null Count  Dtype \n",
      "---  ------         --------------  ----- \n",
      " 0   property_id    25 non-null     int64 \n",
      " 1   property_name  25 non-null     object\n",
      " 2   category       25 non-null     object\n",
      " 3   city           25 non-null     object\n",
      "dtypes: int64(1), object(3)\n",
      "memory usage: 928.0+ bytes\n"
     ]
    }
   ],
   "source": [
    "df_hotel.info()"
   ]
  },
  {
   "cell_type": "code",
   "execution_count": 117,
   "id": "b603b02b",
   "metadata": {},
   "outputs": [
    {
     "data": {
      "text/html": [
       "<div>\n",
       "<style scoped>\n",
       "    .dataframe tbody tr th:only-of-type {\n",
       "        vertical-align: middle;\n",
       "    }\n",
       "\n",
       "    .dataframe tbody tr th {\n",
       "        vertical-align: top;\n",
       "    }\n",
       "\n",
       "    .dataframe thead th {\n",
       "        text-align: right;\n",
       "    }\n",
       "</style>\n",
       "<table border=\"1\" class=\"dataframe\">\n",
       "  <thead>\n",
       "    <tr style=\"text-align: right;\">\n",
       "      <th></th>\n",
       "      <th>property_id</th>\n",
       "    </tr>\n",
       "  </thead>\n",
       "  <tbody>\n",
       "    <tr>\n",
       "      <th>count</th>\n",
       "      <td>25.000000</td>\n",
       "    </tr>\n",
       "    <tr>\n",
       "      <th>mean</th>\n",
       "      <td>18040.640000</td>\n",
       "    </tr>\n",
       "    <tr>\n",
       "      <th>std</th>\n",
       "      <td>1122.436371</td>\n",
       "    </tr>\n",
       "    <tr>\n",
       "      <th>min</th>\n",
       "      <td>16558.000000</td>\n",
       "    </tr>\n",
       "    <tr>\n",
       "      <th>25%</th>\n",
       "      <td>17558.000000</td>\n",
       "    </tr>\n",
       "    <tr>\n",
       "      <th>50%</th>\n",
       "      <td>17564.000000</td>\n",
       "    </tr>\n",
       "    <tr>\n",
       "      <th>75%</th>\n",
       "      <td>18563.000000</td>\n",
       "    </tr>\n",
       "    <tr>\n",
       "      <th>max</th>\n",
       "      <td>19563.000000</td>\n",
       "    </tr>\n",
       "  </tbody>\n",
       "</table>\n",
       "</div>"
      ],
      "text/plain": [
       "        property_id\n",
       "count     25.000000\n",
       "mean   18040.640000\n",
       "std     1122.436371\n",
       "min    16558.000000\n",
       "25%    17558.000000\n",
       "50%    17564.000000\n",
       "75%    18563.000000\n",
       "max    19563.000000"
      ]
     },
     "execution_count": 117,
     "metadata": {},
     "output_type": "execute_result"
    }
   ],
   "source": [
    "df_hotel.describe() "
   ]
  },
  {
   "cell_type": "code",
   "execution_count": 118,
   "id": "791dfe79",
   "metadata": {
    "colab": {
     "base_uri": "https://localhost:8080/",
     "height": 175
    },
    "executionInfo": {
     "elapsed": 45,
     "status": "ok",
     "timestamp": 1664163955900,
     "user": {
      "displayName": "Shubham Sah",
      "userId": "09185991809667538600"
     },
     "user_tz": -330
    },
    "id": "791dfe79",
    "outputId": "08ba27b5-e45a-41ca-db94-2edefaa7d1aa"
   },
   "outputs": [
    {
     "data": {
      "text/html": [
       "<div>\n",
       "<style scoped>\n",
       "    .dataframe tbody tr th:only-of-type {\n",
       "        vertical-align: middle;\n",
       "    }\n",
       "\n",
       "    .dataframe tbody tr th {\n",
       "        vertical-align: top;\n",
       "    }\n",
       "\n",
       "    .dataframe thead th {\n",
       "        text-align: right;\n",
       "    }\n",
       "</style>\n",
       "<table border=\"1\" class=\"dataframe\">\n",
       "  <thead>\n",
       "    <tr style=\"text-align: right;\">\n",
       "      <th></th>\n",
       "      <th>room_id</th>\n",
       "      <th>room_class</th>\n",
       "    </tr>\n",
       "  </thead>\n",
       "  <tbody>\n",
       "    <tr>\n",
       "      <th>0</th>\n",
       "      <td>RT1</td>\n",
       "      <td>Standard</td>\n",
       "    </tr>\n",
       "    <tr>\n",
       "      <th>1</th>\n",
       "      <td>RT2</td>\n",
       "      <td>Elite</td>\n",
       "    </tr>\n",
       "    <tr>\n",
       "      <th>2</th>\n",
       "      <td>RT3</td>\n",
       "      <td>Premium</td>\n",
       "    </tr>\n",
       "    <tr>\n",
       "      <th>3</th>\n",
       "      <td>RT4</td>\n",
       "      <td>Presidential</td>\n",
       "    </tr>\n",
       "  </tbody>\n",
       "</table>\n",
       "</div>"
      ],
      "text/plain": [
       "  room_id    room_class\n",
       "0     RT1      Standard\n",
       "1     RT2         Elite\n",
       "2     RT3       Premium\n",
       "3     RT4  Presidential"
      ]
     },
     "execution_count": 118,
     "metadata": {},
     "output_type": "execute_result"
    }
   ],
   "source": [
    "df_room = pd.read_csv(r\"C:\\Users\\Shubham\\Music\\Codebasics\\Input Files\\Input Files\\dim_rooms.csv\")\n",
    "df_room.head()"
   ]
  },
  {
   "cell_type": "code",
   "execution_count": 119,
   "id": "6d8b05db",
   "metadata": {
    "colab": {
     "base_uri": "https://localhost:8080/"
    },
    "executionInfo": {
     "elapsed": 43,
     "status": "ok",
     "timestamp": 1664163955900,
     "user": {
      "displayName": "Shubham Sah",
      "userId": "09185991809667538600"
     },
     "user_tz": -330
    },
    "id": "6d8b05db",
    "outputId": "e28880c4-f5d7-40be-e94c-9fc58d27d82b"
   },
   "outputs": [
    {
     "name": "stdout",
     "output_type": "stream",
     "text": [
      "<class 'pandas.core.frame.DataFrame'>\n",
      "RangeIndex: 4 entries, 0 to 3\n",
      "Data columns (total 2 columns):\n",
      " #   Column      Non-Null Count  Dtype \n",
      "---  ------      --------------  ----- \n",
      " 0   room_id     4 non-null      object\n",
      " 1   room_class  4 non-null      object\n",
      "dtypes: object(2)\n",
      "memory usage: 192.0+ bytes\n"
     ]
    }
   ],
   "source": [
    "df_room.info()"
   ]
  },
  {
   "cell_type": "code",
   "execution_count": 120,
   "id": "20c7271e",
   "metadata": {
    "colab": {
     "base_uri": "https://localhost:8080/"
    },
    "executionInfo": {
     "elapsed": 41,
     "status": "ok",
     "timestamp": 1664163955901,
     "user": {
      "displayName": "Shubham Sah",
      "userId": "09185991809667538600"
     },
     "user_tz": -330
    },
    "id": "20c7271e",
    "outputId": "cfe18590-86c2-4ce3-de65-7367ed5d1509"
   },
   "outputs": [
    {
     "data": {
      "text/plain": [
       "(4, 2)"
      ]
     },
     "execution_count": 120,
     "metadata": {},
     "output_type": "execute_result"
    }
   ],
   "source": [
    "df_room.shape"
   ]
  },
  {
   "cell_type": "code",
   "execution_count": 121,
   "id": "be64b9a1",
   "metadata": {
    "colab": {
     "base_uri": "https://localhost:8080/",
     "height": 206
    },
    "executionInfo": {
     "elapsed": 39,
     "status": "ok",
     "timestamp": 1664163955901,
     "user": {
      "displayName": "Shubham Sah",
      "userId": "09185991809667538600"
     },
     "user_tz": -330
    },
    "id": "be64b9a1",
    "outputId": "a97e7558-6726-4abd-b0c6-47c6958396d4"
   },
   "outputs": [
    {
     "data": {
      "text/html": [
       "<div>\n",
       "<style scoped>\n",
       "    .dataframe tbody tr th:only-of-type {\n",
       "        vertical-align: middle;\n",
       "    }\n",
       "\n",
       "    .dataframe tbody tr th {\n",
       "        vertical-align: top;\n",
       "    }\n",
       "\n",
       "    .dataframe thead th {\n",
       "        text-align: right;\n",
       "    }\n",
       "</style>\n",
       "<table border=\"1\" class=\"dataframe\">\n",
       "  <thead>\n",
       "    <tr style=\"text-align: right;\">\n",
       "      <th></th>\n",
       "      <th>property_id</th>\n",
       "      <th>check_in_date</th>\n",
       "      <th>room_category</th>\n",
       "      <th>successful_bookings</th>\n",
       "      <th>capacity</th>\n",
       "    </tr>\n",
       "  </thead>\n",
       "  <tbody>\n",
       "    <tr>\n",
       "      <th>0</th>\n",
       "      <td>16559</td>\n",
       "      <td>01-May-22</td>\n",
       "      <td>RT1</td>\n",
       "      <td>25</td>\n",
       "      <td>30</td>\n",
       "    </tr>\n",
       "    <tr>\n",
       "      <th>1</th>\n",
       "      <td>19562</td>\n",
       "      <td>01-May-22</td>\n",
       "      <td>RT1</td>\n",
       "      <td>28</td>\n",
       "      <td>30</td>\n",
       "    </tr>\n",
       "    <tr>\n",
       "      <th>2</th>\n",
       "      <td>19563</td>\n",
       "      <td>01-May-22</td>\n",
       "      <td>RT1</td>\n",
       "      <td>23</td>\n",
       "      <td>30</td>\n",
       "    </tr>\n",
       "    <tr>\n",
       "      <th>3</th>\n",
       "      <td>17558</td>\n",
       "      <td>01-May-22</td>\n",
       "      <td>RT1</td>\n",
       "      <td>13</td>\n",
       "      <td>19</td>\n",
       "    </tr>\n",
       "    <tr>\n",
       "      <th>4</th>\n",
       "      <td>16558</td>\n",
       "      <td>01-May-22</td>\n",
       "      <td>RT1</td>\n",
       "      <td>18</td>\n",
       "      <td>19</td>\n",
       "    </tr>\n",
       "  </tbody>\n",
       "</table>\n",
       "</div>"
      ],
      "text/plain": [
       "   property_id check_in_date room_category  successful_bookings  capacity\n",
       "0        16559     01-May-22           RT1                   25        30\n",
       "1        19562     01-May-22           RT1                   28        30\n",
       "2        19563     01-May-22           RT1                   23        30\n",
       "3        17558     01-May-22           RT1                   13        19\n",
       "4        16558     01-May-22           RT1                   18        19"
      ]
     },
     "execution_count": 121,
     "metadata": {},
     "output_type": "execute_result"
    }
   ],
   "source": [
    "df_agg = pd.read_csv(r\"C:\\Users\\Shubham\\Music\\Codebasics\\Input Files\\Input Files\\fact_aggregated_bookings.csv\")\n",
    "df_agg.head()"
   ]
  },
  {
   "cell_type": "code",
   "execution_count": 122,
   "id": "76265161",
   "metadata": {
    "colab": {
     "base_uri": "https://localhost:8080/"
    },
    "executionInfo": {
     "elapsed": 38,
     "status": "ok",
     "timestamp": 1664163955902,
     "user": {
      "displayName": "Shubham Sah",
      "userId": "09185991809667538600"
     },
     "user_tz": -330
    },
    "id": "76265161",
    "outputId": "cfe7f270-9995-429d-f4ad-1e21bde3d207"
   },
   "outputs": [
    {
     "data": {
      "text/plain": [
       "(9200, 5)"
      ]
     },
     "execution_count": 122,
     "metadata": {},
     "output_type": "execute_result"
    }
   ],
   "source": [
    "df_agg.shape"
   ]
  },
  {
   "cell_type": "code",
   "execution_count": 123,
   "id": "6cc65fac",
   "metadata": {
    "colab": {
     "base_uri": "https://localhost:8080/"
    },
    "executionInfo": {
     "elapsed": 37,
     "status": "ok",
     "timestamp": 1664163955903,
     "user": {
      "displayName": "Shubham Sah",
      "userId": "09185991809667538600"
     },
     "user_tz": -330
    },
    "id": "6cc65fac",
    "outputId": "208964c1-5932-4f95-898f-a7d901311df0"
   },
   "outputs": [
    {
     "name": "stdout",
     "output_type": "stream",
     "text": [
      "<class 'pandas.core.frame.DataFrame'>\n",
      "RangeIndex: 9200 entries, 0 to 9199\n",
      "Data columns (total 5 columns):\n",
      " #   Column               Non-Null Count  Dtype \n",
      "---  ------               --------------  ----- \n",
      " 0   property_id          9200 non-null   int64 \n",
      " 1   check_in_date        9200 non-null   object\n",
      " 2   room_category        9200 non-null   object\n",
      " 3   successful_bookings  9200 non-null   int64 \n",
      " 4   capacity             9200 non-null   int64 \n",
      "dtypes: int64(3), object(2)\n",
      "memory usage: 359.5+ KB\n"
     ]
    }
   ],
   "source": [
    "df_agg.info()"
   ]
  },
  {
   "cell_type": "code",
   "execution_count": 124,
   "id": "67218354",
   "metadata": {
    "colab": {
     "base_uri": "https://localhost:8080/",
     "height": 270
    },
    "executionInfo": {
     "elapsed": 36,
     "status": "ok",
     "timestamp": 1664163955904,
     "user": {
      "displayName": "Shubham Sah",
      "userId": "09185991809667538600"
     },
     "user_tz": -330
    },
    "id": "67218354",
    "outputId": "875a200f-9d04-4e45-ff36-294ec66fd880"
   },
   "outputs": [
    {
     "data": {
      "text/html": [
       "<div>\n",
       "<style scoped>\n",
       "    .dataframe tbody tr th:only-of-type {\n",
       "        vertical-align: middle;\n",
       "    }\n",
       "\n",
       "    .dataframe tbody tr th {\n",
       "        vertical-align: top;\n",
       "    }\n",
       "\n",
       "    .dataframe thead th {\n",
       "        text-align: right;\n",
       "    }\n",
       "</style>\n",
       "<table border=\"1\" class=\"dataframe\">\n",
       "  <thead>\n",
       "    <tr style=\"text-align: right;\">\n",
       "      <th></th>\n",
       "      <th>booking_id</th>\n",
       "      <th>property_id</th>\n",
       "      <th>booking_date</th>\n",
       "      <th>check_in_date</th>\n",
       "      <th>checkout_date</th>\n",
       "      <th>no_guests</th>\n",
       "      <th>room_category</th>\n",
       "      <th>booking_platform</th>\n",
       "      <th>ratings_given</th>\n",
       "      <th>booking_status</th>\n",
       "      <th>revenue_generated</th>\n",
       "      <th>revenue_realized</th>\n",
       "    </tr>\n",
       "  </thead>\n",
       "  <tbody>\n",
       "    <tr>\n",
       "      <th>0</th>\n",
       "      <td>May012216558RT11</td>\n",
       "      <td>16558</td>\n",
       "      <td>2022-04-27</td>\n",
       "      <td>2022-05-01</td>\n",
       "      <td>2022-05-02</td>\n",
       "      <td>3</td>\n",
       "      <td>RT1</td>\n",
       "      <td>direct online</td>\n",
       "      <td>1.0</td>\n",
       "      <td>Checked Out</td>\n",
       "      <td>10010</td>\n",
       "      <td>10010</td>\n",
       "    </tr>\n",
       "    <tr>\n",
       "      <th>1</th>\n",
       "      <td>May012216558RT12</td>\n",
       "      <td>16558</td>\n",
       "      <td>2022-04-30</td>\n",
       "      <td>2022-05-01</td>\n",
       "      <td>2022-05-02</td>\n",
       "      <td>2</td>\n",
       "      <td>RT1</td>\n",
       "      <td>others</td>\n",
       "      <td>NaN</td>\n",
       "      <td>Cancelled</td>\n",
       "      <td>9100</td>\n",
       "      <td>3640</td>\n",
       "    </tr>\n",
       "    <tr>\n",
       "      <th>2</th>\n",
       "      <td>May012216558RT13</td>\n",
       "      <td>16558</td>\n",
       "      <td>2022-04-28</td>\n",
       "      <td>2022-05-01</td>\n",
       "      <td>2022-05-04</td>\n",
       "      <td>2</td>\n",
       "      <td>RT1</td>\n",
       "      <td>logtrip</td>\n",
       "      <td>5.0</td>\n",
       "      <td>Checked Out</td>\n",
       "      <td>9100</td>\n",
       "      <td>9100</td>\n",
       "    </tr>\n",
       "    <tr>\n",
       "      <th>3</th>\n",
       "      <td>May012216558RT14</td>\n",
       "      <td>16558</td>\n",
       "      <td>2022-04-28</td>\n",
       "      <td>2022-05-01</td>\n",
       "      <td>2022-05-02</td>\n",
       "      <td>2</td>\n",
       "      <td>RT1</td>\n",
       "      <td>others</td>\n",
       "      <td>NaN</td>\n",
       "      <td>Cancelled</td>\n",
       "      <td>9100</td>\n",
       "      <td>3640</td>\n",
       "    </tr>\n",
       "    <tr>\n",
       "      <th>4</th>\n",
       "      <td>May012216558RT15</td>\n",
       "      <td>16558</td>\n",
       "      <td>2022-04-27</td>\n",
       "      <td>2022-05-01</td>\n",
       "      <td>2022-05-02</td>\n",
       "      <td>4</td>\n",
       "      <td>RT1</td>\n",
       "      <td>direct online</td>\n",
       "      <td>5.0</td>\n",
       "      <td>Checked Out</td>\n",
       "      <td>10920</td>\n",
       "      <td>10920</td>\n",
       "    </tr>\n",
       "  </tbody>\n",
       "</table>\n",
       "</div>"
      ],
      "text/plain": [
       "         booking_id  property_id booking_date check_in_date checkout_date  \\\n",
       "0  May012216558RT11        16558   2022-04-27    2022-05-01    2022-05-02   \n",
       "1  May012216558RT12        16558   2022-04-30    2022-05-01    2022-05-02   \n",
       "2  May012216558RT13        16558   2022-04-28    2022-05-01    2022-05-04   \n",
       "3  May012216558RT14        16558   2022-04-28    2022-05-01    2022-05-02   \n",
       "4  May012216558RT15        16558   2022-04-27    2022-05-01    2022-05-02   \n",
       "\n",
       "   no_guests room_category booking_platform  ratings_given booking_status  \\\n",
       "0          3           RT1    direct online            1.0    Checked Out   \n",
       "1          2           RT1           others            NaN      Cancelled   \n",
       "2          2           RT1          logtrip            5.0    Checked Out   \n",
       "3          2           RT1           others            NaN      Cancelled   \n",
       "4          4           RT1    direct online            5.0    Checked Out   \n",
       "\n",
       "   revenue_generated  revenue_realized  \n",
       "0              10010             10010  \n",
       "1               9100              3640  \n",
       "2               9100              9100  \n",
       "3               9100              3640  \n",
       "4              10920             10920  "
      ]
     },
     "execution_count": 124,
     "metadata": {},
     "output_type": "execute_result"
    }
   ],
   "source": [
    "df_fact = pd.read_csv(r\"C:\\Users\\Shubham\\Music\\Codebasics\\Input Files\\Input Files\\fact_bookings.csv\")\n",
    "df_fact.head()"
   ]
  },
  {
   "cell_type": "code",
   "execution_count": 125,
   "id": "f50c6ad6",
   "metadata": {
    "colab": {
     "base_uri": "https://localhost:8080/"
    },
    "executionInfo": {
     "elapsed": 36,
     "status": "ok",
     "timestamp": 1664163955905,
     "user": {
      "displayName": "Shubham Sah",
      "userId": "09185991809667538600"
     },
     "user_tz": -330
    },
    "id": "f50c6ad6",
    "outputId": "27b00014-5759-46e5-b5ba-550f7e262ebe"
   },
   "outputs": [
    {
     "data": {
      "text/plain": [
       "(134590, 12)"
      ]
     },
     "execution_count": 125,
     "metadata": {},
     "output_type": "execute_result"
    }
   ],
   "source": [
    "df_fact.shape"
   ]
  },
  {
   "cell_type": "code",
   "execution_count": 151,
   "id": "4b63c46b",
   "metadata": {},
   "outputs": [
    {
     "data": {
      "text/plain": [
       "others            55066\n",
       "makeyourtrip      26898\n",
       "logtrip           14756\n",
       "direct online     13379\n",
       "tripster           9630\n",
       "journey            8106\n",
       "direct offline     6755\n",
       "Name: booking_platform, dtype: int64"
      ]
     },
     "execution_count": 151,
     "metadata": {},
     "output_type": "execute_result"
    }
   ],
   "source": [
    "df_fact['booking_platform'].value_counts()"
   ]
  },
  {
   "cell_type": "code",
   "execution_count": 126,
   "id": "56fea760",
   "metadata": {
    "colab": {
     "base_uri": "https://localhost:8080/"
    },
    "executionInfo": {
     "elapsed": 34,
     "status": "ok",
     "timestamp": 1664163955906,
     "user": {
      "displayName": "Shubham Sah",
      "userId": "09185991809667538600"
     },
     "user_tz": -330
    },
    "id": "56fea760",
    "outputId": "4ebe2c26-70e8-4080-923f-12df4926e7a1"
   },
   "outputs": [
    {
     "name": "stdout",
     "output_type": "stream",
     "text": [
      "<class 'pandas.core.frame.DataFrame'>\n",
      "RangeIndex: 134590 entries, 0 to 134589\n",
      "Data columns (total 12 columns):\n",
      " #   Column             Non-Null Count   Dtype  \n",
      "---  ------             --------------   -----  \n",
      " 0   booking_id         134590 non-null  object \n",
      " 1   property_id        134590 non-null  int64  \n",
      " 2   booking_date       134590 non-null  object \n",
      " 3   check_in_date      134590 non-null  object \n",
      " 4   checkout_date      134590 non-null  object \n",
      " 5   no_guests          134590 non-null  int64  \n",
      " 6   room_category      134590 non-null  object \n",
      " 7   booking_platform   134590 non-null  object \n",
      " 8   ratings_given      56683 non-null   float64\n",
      " 9   booking_status     134590 non-null  object \n",
      " 10  revenue_generated  134590 non-null  int64  \n",
      " 11  revenue_realized   134590 non-null  int64  \n",
      "dtypes: float64(1), int64(4), object(7)\n",
      "memory usage: 12.3+ MB\n"
     ]
    }
   ],
   "source": [
    "df_fact.info()"
   ]
  },
  {
   "cell_type": "code",
   "execution_count": 167,
   "id": "e6dc0fb5",
   "metadata": {
    "colab": {
     "base_uri": "https://localhost:8080/",
     "height": 206
    },
    "executionInfo": {
     "elapsed": 33,
     "status": "ok",
     "timestamp": 1664163955907,
     "user": {
      "displayName": "Shubham Sah",
      "userId": "09185991809667538600"
     },
     "user_tz": -330
    },
    "id": "e6dc0fb5",
    "outputId": "2984070c-0eb1-4305-f3c7-0841a35828b4"
   },
   "outputs": [
    {
     "data": {
      "text/html": [
       "<div>\n",
       "<style scoped>\n",
       "    .dataframe tbody tr th:only-of-type {\n",
       "        vertical-align: middle;\n",
       "    }\n",
       "\n",
       "    .dataframe tbody tr th {\n",
       "        vertical-align: top;\n",
       "    }\n",
       "\n",
       "    .dataframe thead th {\n",
       "        text-align: right;\n",
       "    }\n",
       "</style>\n",
       "<table border=\"1\" class=\"dataframe\">\n",
       "  <thead>\n",
       "    <tr style=\"text-align: right;\">\n",
       "      <th></th>\n",
       "      <th>property_id</th>\n",
       "      <th>property_name</th>\n",
       "      <th>category</th>\n",
       "      <th>city</th>\n",
       "      <th>check_in_date</th>\n",
       "      <th>room_category</th>\n",
       "      <th>successful_bookings</th>\n",
       "      <th>capacity</th>\n",
       "    </tr>\n",
       "  </thead>\n",
       "  <tbody>\n",
       "    <tr>\n",
       "      <th>0</th>\n",
       "      <td>16558</td>\n",
       "      <td>Atliq Grands</td>\n",
       "      <td>Luxury</td>\n",
       "      <td>Delhi</td>\n",
       "      <td>01-May-22</td>\n",
       "      <td>RT1</td>\n",
       "      <td>18</td>\n",
       "      <td>19</td>\n",
       "    </tr>\n",
       "    <tr>\n",
       "      <th>1</th>\n",
       "      <td>16558</td>\n",
       "      <td>Atliq Grands</td>\n",
       "      <td>Luxury</td>\n",
       "      <td>Delhi</td>\n",
       "      <td>01-May-22</td>\n",
       "      <td>RT2</td>\n",
       "      <td>21</td>\n",
       "      <td>22</td>\n",
       "    </tr>\n",
       "    <tr>\n",
       "      <th>2</th>\n",
       "      <td>16558</td>\n",
       "      <td>Atliq Grands</td>\n",
       "      <td>Luxury</td>\n",
       "      <td>Delhi</td>\n",
       "      <td>01-May-22</td>\n",
       "      <td>RT3</td>\n",
       "      <td>8</td>\n",
       "      <td>8</td>\n",
       "    </tr>\n",
       "    <tr>\n",
       "      <th>3</th>\n",
       "      <td>16558</td>\n",
       "      <td>Atliq Grands</td>\n",
       "      <td>Luxury</td>\n",
       "      <td>Delhi</td>\n",
       "      <td>01-May-22</td>\n",
       "      <td>RT4</td>\n",
       "      <td>3</td>\n",
       "      <td>3</td>\n",
       "    </tr>\n",
       "    <tr>\n",
       "      <th>4</th>\n",
       "      <td>16558</td>\n",
       "      <td>Atliq Grands</td>\n",
       "      <td>Luxury</td>\n",
       "      <td>Delhi</td>\n",
       "      <td>02-May-22</td>\n",
       "      <td>RT1</td>\n",
       "      <td>12</td>\n",
       "      <td>19</td>\n",
       "    </tr>\n",
       "    <tr>\n",
       "      <th>5</th>\n",
       "      <td>16558</td>\n",
       "      <td>Atliq Grands</td>\n",
       "      <td>Luxury</td>\n",
       "      <td>Delhi</td>\n",
       "      <td>02-May-22</td>\n",
       "      <td>RT2</td>\n",
       "      <td>14</td>\n",
       "      <td>22</td>\n",
       "    </tr>\n",
       "    <tr>\n",
       "      <th>6</th>\n",
       "      <td>16558</td>\n",
       "      <td>Atliq Grands</td>\n",
       "      <td>Luxury</td>\n",
       "      <td>Delhi</td>\n",
       "      <td>02-May-22</td>\n",
       "      <td>RT3</td>\n",
       "      <td>5</td>\n",
       "      <td>8</td>\n",
       "    </tr>\n",
       "    <tr>\n",
       "      <th>7</th>\n",
       "      <td>16558</td>\n",
       "      <td>Atliq Grands</td>\n",
       "      <td>Luxury</td>\n",
       "      <td>Delhi</td>\n",
       "      <td>02-May-22</td>\n",
       "      <td>RT4</td>\n",
       "      <td>2</td>\n",
       "      <td>3</td>\n",
       "    </tr>\n",
       "    <tr>\n",
       "      <th>8</th>\n",
       "      <td>16558</td>\n",
       "      <td>Atliq Grands</td>\n",
       "      <td>Luxury</td>\n",
       "      <td>Delhi</td>\n",
       "      <td>03-May-22</td>\n",
       "      <td>RT1</td>\n",
       "      <td>14</td>\n",
       "      <td>19</td>\n",
       "    </tr>\n",
       "    <tr>\n",
       "      <th>9</th>\n",
       "      <td>16558</td>\n",
       "      <td>Atliq Grands</td>\n",
       "      <td>Luxury</td>\n",
       "      <td>Delhi</td>\n",
       "      <td>03-May-22</td>\n",
       "      <td>RT2</td>\n",
       "      <td>14</td>\n",
       "      <td>22</td>\n",
       "    </tr>\n",
       "  </tbody>\n",
       "</table>\n",
       "</div>"
      ],
      "text/plain": [
       "   property_id property_name category   city check_in_date room_category  \\\n",
       "0        16558  Atliq Grands   Luxury  Delhi     01-May-22           RT1   \n",
       "1        16558  Atliq Grands   Luxury  Delhi     01-May-22           RT2   \n",
       "2        16558  Atliq Grands   Luxury  Delhi     01-May-22           RT3   \n",
       "3        16558  Atliq Grands   Luxury  Delhi     01-May-22           RT4   \n",
       "4        16558  Atliq Grands   Luxury  Delhi     02-May-22           RT1   \n",
       "5        16558  Atliq Grands   Luxury  Delhi     02-May-22           RT2   \n",
       "6        16558  Atliq Grands   Luxury  Delhi     02-May-22           RT3   \n",
       "7        16558  Atliq Grands   Luxury  Delhi     02-May-22           RT4   \n",
       "8        16558  Atliq Grands   Luxury  Delhi     03-May-22           RT1   \n",
       "9        16558  Atliq Grands   Luxury  Delhi     03-May-22           RT2   \n",
       "\n",
       "   successful_bookings  capacity  \n",
       "0                   18        19  \n",
       "1                   21        22  \n",
       "2                    8         8  \n",
       "3                    3         3  \n",
       "4                   12        19  \n",
       "5                   14        22  \n",
       "6                    5         8  \n",
       "7                    2         3  \n",
       "8                   14        19  \n",
       "9                   14        22  "
      ]
     },
     "execution_count": 167,
     "metadata": {},
     "output_type": "execute_result"
    }
   ],
   "source": [
    "df_hotel_agg = pd.merge(df2,df4, on= 'property_id', how= 'inner')\n",
    "df_hotel_agg.head(10)"
   ]
  },
  {
   "cell_type": "code",
   "execution_count": 128,
   "id": "97a89533",
   "metadata": {
    "colab": {
     "base_uri": "https://localhost:8080/"
    },
    "executionInfo": {
     "elapsed": 31,
     "status": "ok",
     "timestamp": 1664163955907,
     "user": {
      "displayName": "Shubham Sah",
      "userId": "09185991809667538600"
     },
     "user_tz": -330
    },
    "id": "97a89533",
    "outputId": "cfb94289-ff2d-4dff-9672-5c522fb9faa2"
   },
   "outputs": [
    {
     "name": "stdout",
     "output_type": "stream",
     "text": [
      "<class 'pandas.core.frame.DataFrame'>\n",
      "Int64Index: 9200 entries, 0 to 9199\n",
      "Data columns (total 8 columns):\n",
      " #   Column               Non-Null Count  Dtype \n",
      "---  ------               --------------  ----- \n",
      " 0   property_id          9200 non-null   int64 \n",
      " 1   property_name        9200 non-null   object\n",
      " 2   category             9200 non-null   object\n",
      " 3   city                 9200 non-null   object\n",
      " 4   check_in_date        9200 non-null   object\n",
      " 5   room_category        9200 non-null   object\n",
      " 6   successful_bookings  9200 non-null   int64 \n",
      " 7   capacity             9200 non-null   int64 \n",
      "dtypes: int64(3), object(5)\n",
      "memory usage: 646.9+ KB\n"
     ]
    }
   ],
   "source": [
    "df_hotel_agg.info()"
   ]
  },
  {
   "cell_type": "code",
   "execution_count": 129,
   "id": "058558fe",
   "metadata": {
    "colab": {
     "base_uri": "https://localhost:8080/"
    },
    "executionInfo": {
     "elapsed": 29,
     "status": "ok",
     "timestamp": 1664163955907,
     "user": {
      "displayName": "Shubham Sah",
      "userId": "09185991809667538600"
     },
     "user_tz": -330
    },
    "id": "058558fe",
    "outputId": "3ebc3693-2c44-4504-9011-4b6855f567df"
   },
   "outputs": [
    {
     "data": {
      "text/plain": [
       "(9200, 8)"
      ]
     },
     "execution_count": 129,
     "metadata": {},
     "output_type": "execute_result"
    }
   ],
   "source": [
    "df_hotel_agg.shape"
   ]
  },
  {
   "cell_type": "code",
   "execution_count": 152,
   "id": "777ccdf1",
   "metadata": {
    "scrolled": true
   },
   "outputs": [
    {
     "data": {
      "text/plain": [
       "Mumbai       2944\n",
       "Hyderabad    2208\n",
       "Bangalore    2208\n",
       "Delhi        1840\n",
       "Name: city, dtype: int64"
      ]
     },
     "execution_count": 152,
     "metadata": {},
     "output_type": "execute_result"
    }
   ],
   "source": [
    "df_hotel_agg['city'].value_counts()"
   ]
  },
  {
   "cell_type": "code",
   "execution_count": 153,
   "id": "f1ea6998",
   "metadata": {},
   "outputs": [
    {
     "data": {
      "text/plain": [
       "Atliq Grands     1472\n",
       "Atliq Exotica    1472\n",
       "Atliq City       1472\n",
       "Atliq Blu        1472\n",
       "Atliq Bay        1472\n",
       "Atliq Palace     1472\n",
       "Atliq Seasons     368\n",
       "Name: property_name, dtype: int64"
      ]
     },
     "execution_count": 153,
     "metadata": {},
     "output_type": "execute_result"
    }
   ],
   "source": [
    "df_hotel_agg['property_name'].value_counts()"
   ]
  },
  {
   "cell_type": "code",
   "execution_count": 158,
   "id": "cda00492",
   "metadata": {},
   "outputs": [
    {
     "data": {
      "text/plain": [
       "Luxury      5888\n",
       "Business    3312\n",
       "Name: category, dtype: int64"
      ]
     },
     "execution_count": 158,
     "metadata": {},
     "output_type": "execute_result"
    }
   ],
   "source": [
    "df_hotel_agg['category'].value_counts()"
   ]
  },
  {
   "cell_type": "code",
   "execution_count": 159,
   "id": "54f4dd36",
   "metadata": {},
   "outputs": [
    {
     "data": {
      "text/plain": [
       "16558    368\n",
       "18559    368\n",
       "19563    368\n",
       "19562    368\n",
       "19561    368\n",
       "19560    368\n",
       "19559    368\n",
       "19558    368\n",
       "18563    368\n",
       "18562    368\n",
       "18561    368\n",
       "18560    368\n",
       "18558    368\n",
       "16559    368\n",
       "17563    368\n",
       "17562    368\n",
       "17561    368\n",
       "17560    368\n",
       "17559    368\n",
       "17558    368\n",
       "16563    368\n",
       "16562    368\n",
       "16561    368\n",
       "16560    368\n",
       "17564    368\n",
       "Name: property_id, dtype: int64"
      ]
     },
     "execution_count": 159,
     "metadata": {},
     "output_type": "execute_result"
    }
   ],
   "source": [
    "df_hotel_agg['property_id'].value_counts()"
   ]
  },
  {
   "cell_type": "code",
   "execution_count": 160,
   "id": "5746b0d7",
   "metadata": {
    "executionInfo": {
     "elapsed": 705,
     "status": "ok",
     "timestamp": 1664163956588,
     "user": {
      "displayName": "Shubham Sah",
      "userId": "09185991809667538600"
     },
     "user_tz": -330
    },
    "id": "5746b0d7"
   },
   "outputs": [],
   "source": [
    "df_hotel_fact = pd.merge(df2,df5, on= 'property_id', how= 'inner')"
   ]
  },
  {
   "cell_type": "code",
   "execution_count": 161,
   "id": "bb0d8a77",
   "metadata": {
    "colab": {
     "base_uri": "https://localhost:8080/"
    },
    "executionInfo": {
     "elapsed": 37,
     "status": "ok",
     "timestamp": 1664163956589,
     "user": {
      "displayName": "Shubham Sah",
      "userId": "09185991809667538600"
     },
     "user_tz": -330
    },
    "id": "bb0d8a77",
    "outputId": "c1ae8d60-3a78-4d0a-8d62-8400749fb8fa"
   },
   "outputs": [
    {
     "data": {
      "text/plain": [
       "(134590, 15)"
      ]
     },
     "execution_count": 161,
     "metadata": {},
     "output_type": "execute_result"
    }
   ],
   "source": [
    "df_hotel_fact.shape"
   ]
  },
  {
   "cell_type": "code",
   "execution_count": 162,
   "id": "3dcd7999",
   "metadata": {
    "colab": {
     "base_uri": "https://localhost:8080/"
    },
    "executionInfo": {
     "elapsed": 35,
     "status": "ok",
     "timestamp": 1664163956590,
     "user": {
      "displayName": "Shubham Sah",
      "userId": "09185991809667538600"
     },
     "user_tz": -330
    },
    "id": "3dcd7999",
    "outputId": "226b72f9-0825-431a-cf96-584fc07f09be"
   },
   "outputs": [
    {
     "name": "stdout",
     "output_type": "stream",
     "text": [
      "<class 'pandas.core.frame.DataFrame'>\n",
      "Int64Index: 134590 entries, 0 to 134589\n",
      "Data columns (total 15 columns):\n",
      " #   Column             Non-Null Count   Dtype  \n",
      "---  ------             --------------   -----  \n",
      " 0   property_id        134590 non-null  int64  \n",
      " 1   property_name      134590 non-null  object \n",
      " 2   category           134590 non-null  object \n",
      " 3   city               134590 non-null  object \n",
      " 4   booking_id         134590 non-null  object \n",
      " 5   booking_date       134590 non-null  object \n",
      " 6   check_in_date      134590 non-null  object \n",
      " 7   checkout_date      134590 non-null  object \n",
      " 8   no_guests          134590 non-null  int64  \n",
      " 9   room_category      134590 non-null  object \n",
      " 10  booking_platform   134590 non-null  object \n",
      " 11  ratings_given      56683 non-null   float64\n",
      " 12  booking_status     134590 non-null  object \n",
      " 13  revenue_generated  134590 non-null  int64  \n",
      " 14  revenue_realized   134590 non-null  int64  \n",
      "dtypes: float64(1), int64(4), object(10)\n",
      "memory usage: 16.4+ MB\n"
     ]
    }
   ],
   "source": [
    "df_hotel_fact.info()"
   ]
  },
  {
   "cell_type": "code",
   "execution_count": 163,
   "id": "34dc2311",
   "metadata": {
    "colab": {
     "base_uri": "https://localhost:8080/",
     "height": 270
    },
    "executionInfo": {
     "elapsed": 29,
     "status": "ok",
     "timestamp": 1664163956590,
     "user": {
      "displayName": "Shubham Sah",
      "userId": "09185991809667538600"
     },
     "user_tz": -330
    },
    "id": "34dc2311",
    "outputId": "c3ee28b9-1983-4a81-d768-26fae7654156"
   },
   "outputs": [
    {
     "data": {
      "text/html": [
       "<div>\n",
       "<style scoped>\n",
       "    .dataframe tbody tr th:only-of-type {\n",
       "        vertical-align: middle;\n",
       "    }\n",
       "\n",
       "    .dataframe tbody tr th {\n",
       "        vertical-align: top;\n",
       "    }\n",
       "\n",
       "    .dataframe thead th {\n",
       "        text-align: right;\n",
       "    }\n",
       "</style>\n",
       "<table border=\"1\" class=\"dataframe\">\n",
       "  <thead>\n",
       "    <tr style=\"text-align: right;\">\n",
       "      <th></th>\n",
       "      <th>property_id</th>\n",
       "      <th>property_name</th>\n",
       "      <th>category</th>\n",
       "      <th>city</th>\n",
       "      <th>booking_id</th>\n",
       "      <th>booking_date</th>\n",
       "      <th>check_in_date</th>\n",
       "      <th>checkout_date</th>\n",
       "      <th>no_guests</th>\n",
       "      <th>room_category</th>\n",
       "      <th>booking_platform</th>\n",
       "      <th>ratings_given</th>\n",
       "      <th>booking_status</th>\n",
       "      <th>revenue_generated</th>\n",
       "      <th>revenue_realized</th>\n",
       "    </tr>\n",
       "  </thead>\n",
       "  <tbody>\n",
       "    <tr>\n",
       "      <th>0</th>\n",
       "      <td>16558</td>\n",
       "      <td>Atliq Grands</td>\n",
       "      <td>Luxury</td>\n",
       "      <td>Delhi</td>\n",
       "      <td>May012216558RT11</td>\n",
       "      <td>2022-04-27</td>\n",
       "      <td>2022-05-01</td>\n",
       "      <td>2022-05-02</td>\n",
       "      <td>3</td>\n",
       "      <td>RT1</td>\n",
       "      <td>direct online</td>\n",
       "      <td>1.0</td>\n",
       "      <td>Checked Out</td>\n",
       "      <td>10010</td>\n",
       "      <td>10010</td>\n",
       "    </tr>\n",
       "    <tr>\n",
       "      <th>1</th>\n",
       "      <td>16558</td>\n",
       "      <td>Atliq Grands</td>\n",
       "      <td>Luxury</td>\n",
       "      <td>Delhi</td>\n",
       "      <td>May012216558RT12</td>\n",
       "      <td>2022-04-30</td>\n",
       "      <td>2022-05-01</td>\n",
       "      <td>2022-05-02</td>\n",
       "      <td>2</td>\n",
       "      <td>RT1</td>\n",
       "      <td>others</td>\n",
       "      <td>NaN</td>\n",
       "      <td>Cancelled</td>\n",
       "      <td>9100</td>\n",
       "      <td>3640</td>\n",
       "    </tr>\n",
       "    <tr>\n",
       "      <th>2</th>\n",
       "      <td>16558</td>\n",
       "      <td>Atliq Grands</td>\n",
       "      <td>Luxury</td>\n",
       "      <td>Delhi</td>\n",
       "      <td>May012216558RT13</td>\n",
       "      <td>2022-04-28</td>\n",
       "      <td>2022-05-01</td>\n",
       "      <td>2022-05-04</td>\n",
       "      <td>2</td>\n",
       "      <td>RT1</td>\n",
       "      <td>logtrip</td>\n",
       "      <td>5.0</td>\n",
       "      <td>Checked Out</td>\n",
       "      <td>9100</td>\n",
       "      <td>9100</td>\n",
       "    </tr>\n",
       "    <tr>\n",
       "      <th>3</th>\n",
       "      <td>16558</td>\n",
       "      <td>Atliq Grands</td>\n",
       "      <td>Luxury</td>\n",
       "      <td>Delhi</td>\n",
       "      <td>May012216558RT14</td>\n",
       "      <td>2022-04-28</td>\n",
       "      <td>2022-05-01</td>\n",
       "      <td>2022-05-02</td>\n",
       "      <td>2</td>\n",
       "      <td>RT1</td>\n",
       "      <td>others</td>\n",
       "      <td>NaN</td>\n",
       "      <td>Cancelled</td>\n",
       "      <td>9100</td>\n",
       "      <td>3640</td>\n",
       "    </tr>\n",
       "    <tr>\n",
       "      <th>4</th>\n",
       "      <td>16558</td>\n",
       "      <td>Atliq Grands</td>\n",
       "      <td>Luxury</td>\n",
       "      <td>Delhi</td>\n",
       "      <td>May012216558RT15</td>\n",
       "      <td>2022-04-27</td>\n",
       "      <td>2022-05-01</td>\n",
       "      <td>2022-05-02</td>\n",
       "      <td>4</td>\n",
       "      <td>RT1</td>\n",
       "      <td>direct online</td>\n",
       "      <td>5.0</td>\n",
       "      <td>Checked Out</td>\n",
       "      <td>10920</td>\n",
       "      <td>10920</td>\n",
       "    </tr>\n",
       "  </tbody>\n",
       "</table>\n",
       "</div>"
      ],
      "text/plain": [
       "   property_id property_name category   city        booking_id booking_date  \\\n",
       "0        16558  Atliq Grands   Luxury  Delhi  May012216558RT11   2022-04-27   \n",
       "1        16558  Atliq Grands   Luxury  Delhi  May012216558RT12   2022-04-30   \n",
       "2        16558  Atliq Grands   Luxury  Delhi  May012216558RT13   2022-04-28   \n",
       "3        16558  Atliq Grands   Luxury  Delhi  May012216558RT14   2022-04-28   \n",
       "4        16558  Atliq Grands   Luxury  Delhi  May012216558RT15   2022-04-27   \n",
       "\n",
       "  check_in_date checkout_date  no_guests room_category booking_platform  \\\n",
       "0    2022-05-01    2022-05-02          3           RT1    direct online   \n",
       "1    2022-05-01    2022-05-02          2           RT1           others   \n",
       "2    2022-05-01    2022-05-04          2           RT1          logtrip   \n",
       "3    2022-05-01    2022-05-02          2           RT1           others   \n",
       "4    2022-05-01    2022-05-02          4           RT1    direct online   \n",
       "\n",
       "   ratings_given booking_status  revenue_generated  revenue_realized  \n",
       "0            1.0    Checked Out              10010             10010  \n",
       "1            NaN      Cancelled               9100              3640  \n",
       "2            5.0    Checked Out               9100              9100  \n",
       "3            NaN      Cancelled               9100              3640  \n",
       "4            5.0    Checked Out              10920             10920  "
      ]
     },
     "execution_count": 163,
     "metadata": {},
     "output_type": "execute_result"
    }
   ],
   "source": [
    "df_hotel_fact.head()"
   ]
  },
  {
   "cell_type": "code",
   "execution_count": null,
   "id": "9ac016ff",
   "metadata": {},
   "outputs": [],
   "source": []
  },
  {
   "cell_type": "code",
   "execution_count": 164,
   "id": "56fdec6c",
   "metadata": {
    "scrolled": true
   },
   "outputs": [
    {
     "data": {
      "text/plain": [
       "Mumbai       43455\n",
       "Hyderabad    34888\n",
       "Bangalore    32016\n",
       "Delhi        24231\n",
       "Name: city, dtype: int64"
      ]
     },
     "execution_count": 164,
     "metadata": {},
     "output_type": "execute_result"
    }
   ],
   "source": [
    "df_hotel_fact['city'].value_counts()"
   ]
  },
  {
   "cell_type": "markdown",
   "id": "92bbba53",
   "metadata": {
    "id": "92bbba53"
   },
   "source": [
    "### Total sum of Revenue_Realized"
   ]
  },
  {
   "cell_type": "code",
   "execution_count": 134,
   "id": "bee5f69f",
   "metadata": {
    "colab": {
     "base_uri": "https://localhost:8080/"
    },
    "executionInfo": {
     "elapsed": 24,
     "status": "ok",
     "timestamp": 1664163956591,
     "user": {
      "displayName": "Shubham Sah",
      "userId": "09185991809667538600"
     },
     "user_tz": -330
    },
    "id": "bee5f69f",
    "outputId": "6e948608-8d92-44b2-b686-544e61d5d65e"
   },
   "outputs": [
    {
     "data": {
      "text/plain": [
       "1708771229"
      ]
     },
     "execution_count": 134,
     "metadata": {},
     "output_type": "execute_result"
    }
   ],
   "source": [
    "df_hotel_fact['revenue_realized'].sum()"
   ]
  },
  {
   "cell_type": "markdown",
   "id": "6b680f99",
   "metadata": {
    "id": "6b680f99"
   },
   "source": [
    "### Total sum of Revenue_Realized from each room_category"
   ]
  },
  {
   "cell_type": "code",
   "execution_count": 136,
   "id": "f7a2e3a1",
   "metadata": {
    "colab": {
     "base_uri": "https://localhost:8080/",
     "height": 206
    },
    "executionInfo": {
     "elapsed": 17,
     "status": "ok",
     "timestamp": 1664163956592,
     "user": {
      "displayName": "Shubham Sah",
      "userId": "09185991809667538600"
     },
     "user_tz": -330
    },
    "id": "f7a2e3a1",
    "outputId": "234e3c93-9726-47df-9192-38993324e0a8"
   },
   "outputs": [
    {
     "data": {
      "text/html": [
       "<div>\n",
       "<style scoped>\n",
       "    .dataframe tbody tr th:only-of-type {\n",
       "        vertical-align: middle;\n",
       "    }\n",
       "\n",
       "    .dataframe tbody tr th {\n",
       "        vertical-align: top;\n",
       "    }\n",
       "\n",
       "    .dataframe thead th {\n",
       "        text-align: right;\n",
       "    }\n",
       "</style>\n",
       "<table border=\"1\" class=\"dataframe\">\n",
       "  <thead>\n",
       "    <tr style=\"text-align: right;\">\n",
       "      <th>category</th>\n",
       "      <th>Business</th>\n",
       "      <th>Luxury</th>\n",
       "    </tr>\n",
       "    <tr>\n",
       "      <th>room_category</th>\n",
       "      <th></th>\n",
       "      <th></th>\n",
       "    </tr>\n",
       "  </thead>\n",
       "  <tbody>\n",
       "    <tr>\n",
       "      <th>RT1</th>\n",
       "      <td>116611001</td>\n",
       "      <td>192969894</td>\n",
       "    </tr>\n",
       "    <tr>\n",
       "      <th>RT2</th>\n",
       "      <td>214553502</td>\n",
       "      <td>345717702</td>\n",
       "    </tr>\n",
       "    <tr>\n",
       "      <th>RT3</th>\n",
       "      <td>158360568</td>\n",
       "      <td>303805776</td>\n",
       "    </tr>\n",
       "    <tr>\n",
       "      <th>RT4</th>\n",
       "      <td>166494226</td>\n",
       "      <td>210258560</td>\n",
       "    </tr>\n",
       "  </tbody>\n",
       "</table>\n",
       "</div>"
      ],
      "text/plain": [
       "category        Business     Luxury\n",
       "room_category                      \n",
       "RT1            116611001  192969894\n",
       "RT2            214553502  345717702\n",
       "RT3            158360568  303805776\n",
       "RT4            166494226  210258560"
      ]
     },
     "execution_count": 136,
     "metadata": {},
     "output_type": "execute_result"
    }
   ],
   "source": [
    "df_hotel_fact.groupby(['room_category','category'])['revenue_realized'].sum().unstack()"
   ]
  },
  {
   "cell_type": "markdown",
   "id": "4UhepMwS6Ess",
   "metadata": {
    "id": "4UhepMwS6Ess"
   },
   "source": [
    "## Count Of booking Id in Fact_bookings?"
   ]
  },
  {
   "cell_type": "code",
   "execution_count": 137,
   "id": "049faf63",
   "metadata": {
    "colab": {
     "base_uri": "https://localhost:8080/"
    },
    "executionInfo": {
     "elapsed": 647,
     "status": "ok",
     "timestamp": 1664164191937,
     "user": {
      "displayName": "Shubham Sah",
      "userId": "09185991809667538600"
     },
     "user_tz": -330
    },
    "id": "049faf63",
    "outputId": "2310af0a-9bc4-4ca4-93de-6c7adc62b7ec"
   },
   "outputs": [
    {
     "data": {
      "text/plain": [
       "134590"
      ]
     },
     "execution_count": 137,
     "metadata": {},
     "output_type": "execute_result"
    }
   ],
   "source": [
    "df_fact['booking_id'].nunique()"
   ]
  },
  {
   "cell_type": "markdown",
   "id": "8XaSbBqH6sGj",
   "metadata": {
    "id": "8XaSbBqH6sGj"
   },
   "source": [
    "## Average Of Rating given"
   ]
  },
  {
   "cell_type": "code",
   "execution_count": 138,
   "id": "t_su-hXw6gQP",
   "metadata": {
    "colab": {
     "base_uri": "https://localhost:8080/"
    },
    "executionInfo": {
     "elapsed": 506,
     "status": "ok",
     "timestamp": 1664166253150,
     "user": {
      "displayName": "Shubham Sah",
      "userId": "09185991809667538600"
     },
     "user_tz": -330
    },
    "id": "t_su-hXw6gQP",
    "outputId": "80cb47ca-cade-4e08-b9a6-69af5daeaf4b"
   },
   "outputs": [
    {
     "data": {
      "text/plain": [
       "3.619003934160154"
      ]
     },
     "execution_count": 138,
     "metadata": {},
     "output_type": "execute_result"
    }
   ],
   "source": [
    "df_hotel_fact['ratings_given'].mean()"
   ]
  },
  {
   "cell_type": "markdown",
   "id": "xECmvcskCqkR",
   "metadata": {
    "id": "xECmvcskCqkR"
   },
   "source": [
    "## Sum of capacity"
   ]
  },
  {
   "cell_type": "code",
   "execution_count": 139,
   "id": "zN9Pa0PpB-bf",
   "metadata": {
    "executionInfo": {
     "elapsed": 630,
     "status": "ok",
     "timestamp": 1664166735453,
     "user": {
      "displayName": "Shubham Sah",
      "userId": "09185991809667538600"
     },
     "user_tz": -330
    },
    "id": "zN9Pa0PpB-bf"
   },
   "outputs": [
    {
     "data": {
      "text/plain": [
       "232576"
      ]
     },
     "execution_count": 139,
     "metadata": {},
     "output_type": "execute_result"
    }
   ],
   "source": [
    "total_capacity = df_agg['capacity'].sum()\n",
    "total_capacity"
   ]
  },
  {
   "cell_type": "markdown",
   "id": "BKLQnUpuDg1F",
   "metadata": {
    "id": "BKLQnUpuDg1F"
   },
   "source": [
    "## Sum of successful_bookings from fact_bookings"
   ]
  },
  {
   "cell_type": "code",
   "execution_count": 140,
   "id": "cbeu8Du1C1On",
   "metadata": {
    "executionInfo": {
     "elapsed": 665,
     "status": "ok",
     "timestamp": 1664166761213,
     "user": {
      "displayName": "Shubham Sah",
      "userId": "09185991809667538600"
     },
     "user_tz": -330
    },
    "id": "cbeu8Du1C1On"
   },
   "outputs": [
    {
     "data": {
      "text/plain": [
       "134590"
      ]
     },
     "execution_count": 140,
     "metadata": {},
     "output_type": "execute_result"
    }
   ],
   "source": [
    "Total_successful_bking = df_agg['successful_bookings'].sum()\n",
    "Total_successful_bking"
   ]
  },
  {
   "cell_type": "markdown",
   "id": "9tCZBmyPELV_",
   "metadata": {
    "id": "9tCZBmyPELV_"
   },
   "source": [
    "## Ratio of Total Successful Bookings to Total Capacity"
   ]
  },
  {
   "cell_type": "code",
   "execution_count": 141,
   "id": "9VR6tgV_Dv6t",
   "metadata": {
    "executionInfo": {
     "elapsed": 455,
     "status": "ok",
     "timestamp": 1664166884144,
     "user": {
      "displayName": "Shubham Sah",
      "userId": "09185991809667538600"
     },
     "user_tz": -330
    },
    "id": "9VR6tgV_Dv6t"
   },
   "outputs": [],
   "source": [
    "Occupancy_ratio = Total_successful_bking / total_capacity"
   ]
  },
  {
   "cell_type": "code",
   "execution_count": 142,
   "id": "lR1WqITUEfTP",
   "metadata": {
    "colab": {
     "base_uri": "https://localhost:8080/"
    },
    "executionInfo": {
     "elapsed": 517,
     "status": "ok",
     "timestamp": 1664166891214,
     "user": {
      "displayName": "Shubham Sah",
      "userId": "09185991809667538600"
     },
     "user_tz": -330
    },
    "id": "lR1WqITUEfTP",
    "outputId": "b6e41bb8-f9da-4f5f-809a-c651e57c552e"
   },
   "outputs": [
    {
     "data": {
      "text/plain": [
       "0.5786925564116676"
      ]
     },
     "execution_count": 142,
     "metadata": {},
     "output_type": "execute_result"
    }
   ],
   "source": [
    "Occupancy_ratio"
   ]
  },
  {
   "cell_type": "markdown",
   "id": "bmG4AxjFG3vP",
   "metadata": {
    "id": "bmG4AxjFG3vP"
   },
   "source": [
    "## Count of booking_id in which booking_status = \"Cancelled\""
   ]
  },
  {
   "cell_type": "code",
   "execution_count": 143,
   "id": "SseOkTMZKIw9",
   "metadata": {
    "colab": {
     "base_uri": "https://localhost:8080/",
     "height": 143
    },
    "executionInfo": {
     "elapsed": 460,
     "status": "ok",
     "timestamp": 1664168279452,
     "user": {
      "displayName": "Shubham Sah",
      "userId": "09185991809667538600"
     },
     "user_tz": -330
    },
    "id": "SseOkTMZKIw9",
    "outputId": "471018cf-500a-4ba4-f8b9-309ed4e1f94b"
   },
   "outputs": [
    {
     "data": {
      "text/html": [
       "<div>\n",
       "<style scoped>\n",
       "    .dataframe tbody tr th:only-of-type {\n",
       "        vertical-align: middle;\n",
       "    }\n",
       "\n",
       "    .dataframe tbody tr th {\n",
       "        vertical-align: top;\n",
       "    }\n",
       "\n",
       "    .dataframe thead th {\n",
       "        text-align: right;\n",
       "    }\n",
       "</style>\n",
       "<table border=\"1\" class=\"dataframe\">\n",
       "  <thead>\n",
       "    <tr style=\"text-align: right;\">\n",
       "      <th></th>\n",
       "      <th>booking_status</th>\n",
       "      <th>booking_id</th>\n",
       "    </tr>\n",
       "  </thead>\n",
       "  <tbody>\n",
       "    <tr>\n",
       "      <th>0</th>\n",
       "      <td>Cancelled</td>\n",
       "      <td>33420</td>\n",
       "    </tr>\n",
       "    <tr>\n",
       "      <th>1</th>\n",
       "      <td>Checked Out</td>\n",
       "      <td>94411</td>\n",
       "    </tr>\n",
       "    <tr>\n",
       "      <th>2</th>\n",
       "      <td>No Show</td>\n",
       "      <td>6759</td>\n",
       "    </tr>\n",
       "  </tbody>\n",
       "</table>\n",
       "</div>"
      ],
      "text/plain": [
       "  booking_status  booking_id\n",
       "0      Cancelled       33420\n",
       "1    Checked Out       94411\n",
       "2        No Show        6759"
      ]
     },
     "execution_count": 143,
     "metadata": {},
     "output_type": "execute_result"
    }
   ],
   "source": [
    "df_hotel_fact.groupby('booking_status')['booking_id'].count().reset_index()"
   ]
  },
  {
   "cell_type": "code",
   "execution_count": 144,
   "id": "icSQD81OErXi",
   "metadata": {
    "executionInfo": {
     "elapsed": 9,
     "status": "ok",
     "timestamp": 1664168282676,
     "user": {
      "displayName": "Shubham Sah",
      "userId": "09185991809667538600"
     },
     "user_tz": -330
    },
    "id": "icSQD81OErXi"
   },
   "outputs": [],
   "source": [
    "no_cancelled = df_hotel_fact.groupby('booking_status')['booking_id'].count().reset_index().iloc[:-2,1:]"
   ]
  },
  {
   "cell_type": "markdown",
   "id": "je5lUnzCH57E",
   "metadata": {
    "id": "je5lUnzCH57E"
   },
   "source": [
    "## Ratio of 'Total Cancelled Bookings' to 'Total Bookings'"
   ]
  },
  {
   "cell_type": "code",
   "execution_count": 145,
   "id": "BOmzbz-XJcQA",
   "metadata": {
    "executionInfo": {
     "elapsed": 721,
     "status": "ok",
     "timestamp": 1664168485166,
     "user": {
      "displayName": "Shubham Sah",
      "userId": "09185991809667538600"
     },
     "user_tz": -330
    },
    "id": "BOmzbz-XJcQA"
   },
   "outputs": [],
   "source": [
    "cancelleation_rate = no_cancelled/ Total_successful_bking *100"
   ]
  },
  {
   "cell_type": "code",
   "execution_count": 146,
   "id": "nJwLmvQIHWgv",
   "metadata": {
    "colab": {
     "base_uri": "https://localhost:8080/",
     "height": 81
    },
    "executionInfo": {
     "elapsed": 18,
     "status": "ok",
     "timestamp": 1664168486773,
     "user": {
      "displayName": "Shubham Sah",
      "userId": "09185991809667538600"
     },
     "user_tz": -330
    },
    "id": "nJwLmvQIHWgv",
    "outputId": "8a27bc42-9d01-4197-ac14-84b82e3ae592"
   },
   "outputs": [
    {
     "data": {
      "text/html": [
       "<div>\n",
       "<style scoped>\n",
       "    .dataframe tbody tr th:only-of-type {\n",
       "        vertical-align: middle;\n",
       "    }\n",
       "\n",
       "    .dataframe tbody tr th {\n",
       "        vertical-align: top;\n",
       "    }\n",
       "\n",
       "    .dataframe thead th {\n",
       "        text-align: right;\n",
       "    }\n",
       "</style>\n",
       "<table border=\"1\" class=\"dataframe\">\n",
       "  <thead>\n",
       "    <tr style=\"text-align: right;\">\n",
       "      <th></th>\n",
       "      <th>booking_id</th>\n",
       "    </tr>\n",
       "  </thead>\n",
       "  <tbody>\n",
       "    <tr>\n",
       "      <th>0</th>\n",
       "      <td>24.830968</td>\n",
       "    </tr>\n",
       "  </tbody>\n",
       "</table>\n",
       "</div>"
      ],
      "text/plain": [
       "   booking_id\n",
       "0   24.830968"
      ]
     },
     "execution_count": 146,
     "metadata": {},
     "output_type": "execute_result"
    }
   ],
   "source": [
    "cancelleation_rate "
   ]
  },
  {
   "cell_type": "code",
   "execution_count": null,
   "id": "v-zh3nmqKEnu",
   "metadata": {
    "id": "v-zh3nmqKEnu"
   },
   "outputs": [],
   "source": []
  },
  {
   "cell_type": "code",
   "execution_count": null,
   "id": "f83039b2",
   "metadata": {},
   "outputs": [],
   "source": []
  }
 ],
 "metadata": {
  "colab": {
   "collapsed_sections": [],
   "provenance": []
  },
  "kernelspec": {
   "display_name": "Python 3 (ipykernel)",
   "language": "python",
   "name": "python3"
  },
  "language_info": {
   "codemirror_mode": {
    "name": "ipython",
    "version": 3
   },
   "file_extension": ".py",
   "mimetype": "text/x-python",
   "name": "python",
   "nbconvert_exporter": "python",
   "pygments_lexer": "ipython3",
   "version": "3.9.12"
  }
 },
 "nbformat": 4,
 "nbformat_minor": 5
}
