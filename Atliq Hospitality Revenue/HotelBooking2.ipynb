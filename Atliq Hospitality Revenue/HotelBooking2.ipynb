{
 "cells": [
  {
   "cell_type": "markdown",
   "id": "812185fc",
   "metadata": {},
   "source": [
    "###  Provide Insights to Revenue Team in Hospitality Domain"
   ]
  },
  {
   "cell_type": "markdown",
   "id": "c5dac96b",
   "metadata": {},
   "source": [
    "Atliq Grands owns multiple five-star hotels across India. They have been in the hospitality industry for the past 20 years. Due to strategic moves from other competitors and ineffective decision-making in management, Atliq Grands are losing its market share and revenue in the luxury/business hotels category. As a strategic move, the managing director of Atliq Grands wanted to incorporate “Business and Data Intelligence” in order to regain their market share and revenue. However, they do not have an in-house data analytics team to provide them with these insights.\n",
    "\n",
    "Their revenue management team had decided to hire a 3rd party service provider to provide them insights from their historical data."
   ]
  },
  {
   "cell_type": "markdown",
   "id": "9884d010",
   "metadata": {},
   "source": [
    "#### Importing Dependencies"
   ]
  },
  {
   "cell_type": "code",
   "execution_count": 1,
   "id": "dc4f228e",
   "metadata": {
    "executionInfo": {
     "elapsed": 1672,
     "status": "ok",
     "timestamp": 1664163947102,
     "user": {
      "displayName": "Shubham Sah",
      "userId": "09185991809667538600"
     },
     "user_tz": -330
    },
    "id": "dc4f228e"
   },
   "outputs": [],
   "source": [
    "import pandas as pd\n",
    "import numpy as np\n",
    "import matplotlib.pyplot as plt\n",
    "import seaborn as sns\n",
    "%matplotlib inline"
   ]
  },
  {
   "cell_type": "markdown",
   "id": "827f8dee",
   "metadata": {},
   "source": [
    "#### Reading the given datasets"
   ]
  },
  {
   "cell_type": "code",
   "execution_count": 2,
   "id": "e4b41f07",
   "metadata": {
    "colab": {
     "base_uri": "https://localhost:8080/",
     "height": 206
    },
    "executionInfo": {
     "elapsed": 69,
     "status": "ok",
     "timestamp": 1664163955898,
     "user": {
      "displayName": "Shubham Sah",
      "userId": "09185991809667538600"
     },
     "user_tz": -330
    },
    "id": "e4b41f07",
    "outputId": "95db4406-7cea-411a-cb34-c77d4f27b363"
   },
   "outputs": [],
   "source": [
    "df_date = pd.read_csv(r\"C:\\Users\\Shubham\\Music\\Codebasics\\Atliq Hospitality Revenue\\dim_date.csv\")\n",
    "df_hotel = pd.read_csv(r\"C:\\Users\\Shubham\\Music\\Codebasics\\Atliq Hospitality Revenue\\dim_hotels.csv\")\n",
    "df_room = pd.read_csv(r\"C:\\Users\\Shubham\\Music\\Codebasics\\Atliq Hospitality Revenue\\dim_rooms.csv\")\n",
    "df_agg = pd.read_csv(r\"C:\\Users\\Shubham\\Music\\Codebasics\\Atliq Hospitality Revenue\\fact_aggregated_bookings.csv\")\n",
    "df_fact = pd.read_csv(r\"C:\\Users\\Shubham\\Music\\Codebasics\\Atliq Hospitality Revenue\\fact_bookings.csv\")"
   ]
  },
  {
   "cell_type": "markdown",
   "id": "35cd7c60",
   "metadata": {},
   "source": [
    "##### About Given Datasets\n",
    "1. df_date contains informations related to date,month,week number and type of day of checkin in hotels\n",
    "2. df_hotels contains informations about hotels like property id, property name, category and location of property\n",
    "3. df_room contains informations about what types of room available\n",
    "4. df_agg contains informations about number of successful booking at perticular property with check in date and capacity of room type\n",
    "5. df_fact contains informations about revenue generated  "
   ]
  },
  {
   "cell_type": "code",
   "execution_count": 3,
   "id": "d52a5a70",
   "metadata": {},
   "outputs": [
    {
     "data": {
      "text/html": [
       "<div>\n",
       "<style scoped>\n",
       "    .dataframe tbody tr th:only-of-type {\n",
       "        vertical-align: middle;\n",
       "    }\n",
       "\n",
       "    .dataframe tbody tr th {\n",
       "        vertical-align: top;\n",
       "    }\n",
       "\n",
       "    .dataframe thead th {\n",
       "        text-align: right;\n",
       "    }\n",
       "</style>\n",
       "<table border=\"1\" class=\"dataframe\">\n",
       "  <thead>\n",
       "    <tr style=\"text-align: right;\">\n",
       "      <th></th>\n",
       "      <th>date</th>\n",
       "      <th>mmm yy</th>\n",
       "      <th>week no</th>\n",
       "      <th>day_type</th>\n",
       "    </tr>\n",
       "  </thead>\n",
       "  <tbody>\n",
       "    <tr>\n",
       "      <th>0</th>\n",
       "      <td>01-May-22</td>\n",
       "      <td>May 22</td>\n",
       "      <td>W 19</td>\n",
       "      <td>weekend</td>\n",
       "    </tr>\n",
       "    <tr>\n",
       "      <th>1</th>\n",
       "      <td>02-May-22</td>\n",
       "      <td>May 22</td>\n",
       "      <td>W 19</td>\n",
       "      <td>weekeday</td>\n",
       "    </tr>\n",
       "  </tbody>\n",
       "</table>\n",
       "</div>"
      ],
      "text/plain": [
       "        date  mmm yy week no  day_type\n",
       "0  01-May-22  May 22    W 19   weekend\n",
       "1  02-May-22  May 22    W 19  weekeday"
      ]
     },
     "execution_count": 3,
     "metadata": {},
     "output_type": "execute_result"
    }
   ],
   "source": [
    "df_date.head(2)"
   ]
  },
  {
   "cell_type": "code",
   "execution_count": 4,
   "id": "4f47a853",
   "metadata": {
    "colab": {
     "base_uri": "https://localhost:8080/",
     "height": 206
    },
    "executionInfo": {
     "elapsed": 55,
     "status": "ok",
     "timestamp": 1664163955899,
     "user": {
      "displayName": "Shubham Sah",
      "userId": "09185991809667538600"
     },
     "user_tz": -330
    },
    "id": "30a5a68a",
    "outputId": "4b6563a2-3d6a-4f25-d617-1d7d52af8c8c"
   },
   "outputs": [
    {
     "data": {
      "text/html": [
       "<div>\n",
       "<style scoped>\n",
       "    .dataframe tbody tr th:only-of-type {\n",
       "        vertical-align: middle;\n",
       "    }\n",
       "\n",
       "    .dataframe tbody tr th {\n",
       "        vertical-align: top;\n",
       "    }\n",
       "\n",
       "    .dataframe thead th {\n",
       "        text-align: right;\n",
       "    }\n",
       "</style>\n",
       "<table border=\"1\" class=\"dataframe\">\n",
       "  <thead>\n",
       "    <tr style=\"text-align: right;\">\n",
       "      <th></th>\n",
       "      <th>property_id</th>\n",
       "      <th>property_name</th>\n",
       "      <th>category</th>\n",
       "      <th>city</th>\n",
       "    </tr>\n",
       "  </thead>\n",
       "  <tbody>\n",
       "    <tr>\n",
       "      <th>0</th>\n",
       "      <td>16558</td>\n",
       "      <td>Atliq Grands</td>\n",
       "      <td>Luxury</td>\n",
       "      <td>Delhi</td>\n",
       "    </tr>\n",
       "    <tr>\n",
       "      <th>1</th>\n",
       "      <td>16559</td>\n",
       "      <td>Atliq Exotica</td>\n",
       "      <td>Luxury</td>\n",
       "      <td>Mumbai</td>\n",
       "    </tr>\n",
       "  </tbody>\n",
       "</table>\n",
       "</div>"
      ],
      "text/plain": [
       "   property_id  property_name category    city\n",
       "0        16558   Atliq Grands   Luxury   Delhi\n",
       "1        16559  Atliq Exotica   Luxury  Mumbai"
      ]
     },
     "execution_count": 4,
     "metadata": {},
     "output_type": "execute_result"
    }
   ],
   "source": [
    "df_hotel.head(2)"
   ]
  },
  {
   "cell_type": "code",
   "execution_count": 5,
   "id": "0db4583a",
   "metadata": {
    "colab": {
     "base_uri": "https://localhost:8080/",
     "height": 175
    },
    "executionInfo": {
     "elapsed": 45,
     "status": "ok",
     "timestamp": 1664163955900,
     "user": {
      "displayName": "Shubham Sah",
      "userId": "09185991809667538600"
     },
     "user_tz": -330
    },
    "id": "791dfe79",
    "outputId": "08ba27b5-e45a-41ca-db94-2edefaa7d1aa"
   },
   "outputs": [
    {
     "data": {
      "text/html": [
       "<div>\n",
       "<style scoped>\n",
       "    .dataframe tbody tr th:only-of-type {\n",
       "        vertical-align: middle;\n",
       "    }\n",
       "\n",
       "    .dataframe tbody tr th {\n",
       "        vertical-align: top;\n",
       "    }\n",
       "\n",
       "    .dataframe thead th {\n",
       "        text-align: right;\n",
       "    }\n",
       "</style>\n",
       "<table border=\"1\" class=\"dataframe\">\n",
       "  <thead>\n",
       "    <tr style=\"text-align: right;\">\n",
       "      <th></th>\n",
       "      <th>room_id</th>\n",
       "      <th>room_class</th>\n",
       "    </tr>\n",
       "  </thead>\n",
       "  <tbody>\n",
       "    <tr>\n",
       "      <th>0</th>\n",
       "      <td>RT1</td>\n",
       "      <td>Standard</td>\n",
       "    </tr>\n",
       "    <tr>\n",
       "      <th>1</th>\n",
       "      <td>RT2</td>\n",
       "      <td>Elite</td>\n",
       "    </tr>\n",
       "    <tr>\n",
       "      <th>2</th>\n",
       "      <td>RT3</td>\n",
       "      <td>Premium</td>\n",
       "    </tr>\n",
       "    <tr>\n",
       "      <th>3</th>\n",
       "      <td>RT4</td>\n",
       "      <td>Presidential</td>\n",
       "    </tr>\n",
       "  </tbody>\n",
       "</table>\n",
       "</div>"
      ],
      "text/plain": [
       "  room_id    room_class\n",
       "0     RT1      Standard\n",
       "1     RT2         Elite\n",
       "2     RT3       Premium\n",
       "3     RT4  Presidential"
      ]
     },
     "execution_count": 5,
     "metadata": {},
     "output_type": "execute_result"
    }
   ],
   "source": [
    "df_room.head()"
   ]
  },
  {
   "cell_type": "code",
   "execution_count": 6,
   "id": "598e8c01",
   "metadata": {
    "colab": {
     "base_uri": "https://localhost:8080/",
     "height": 206
    },
    "executionInfo": {
     "elapsed": 39,
     "status": "ok",
     "timestamp": 1664163955901,
     "user": {
      "displayName": "Shubham Sah",
      "userId": "09185991809667538600"
     },
     "user_tz": -330
    },
    "id": "be64b9a1",
    "outputId": "a97e7558-6726-4abd-b0c6-47c6958396d4"
   },
   "outputs": [
    {
     "data": {
      "text/html": [
       "<div>\n",
       "<style scoped>\n",
       "    .dataframe tbody tr th:only-of-type {\n",
       "        vertical-align: middle;\n",
       "    }\n",
       "\n",
       "    .dataframe tbody tr th {\n",
       "        vertical-align: top;\n",
       "    }\n",
       "\n",
       "    .dataframe thead th {\n",
       "        text-align: right;\n",
       "    }\n",
       "</style>\n",
       "<table border=\"1\" class=\"dataframe\">\n",
       "  <thead>\n",
       "    <tr style=\"text-align: right;\">\n",
       "      <th></th>\n",
       "      <th>property_id</th>\n",
       "      <th>check_in_date</th>\n",
       "      <th>room_category</th>\n",
       "      <th>successful_bookings</th>\n",
       "      <th>capacity</th>\n",
       "    </tr>\n",
       "  </thead>\n",
       "  <tbody>\n",
       "    <tr>\n",
       "      <th>0</th>\n",
       "      <td>16559</td>\n",
       "      <td>01-May-22</td>\n",
       "      <td>RT1</td>\n",
       "      <td>25</td>\n",
       "      <td>30</td>\n",
       "    </tr>\n",
       "    <tr>\n",
       "      <th>1</th>\n",
       "      <td>19562</td>\n",
       "      <td>01-May-22</td>\n",
       "      <td>RT1</td>\n",
       "      <td>28</td>\n",
       "      <td>30</td>\n",
       "    </tr>\n",
       "  </tbody>\n",
       "</table>\n",
       "</div>"
      ],
      "text/plain": [
       "   property_id check_in_date room_category  successful_bookings  capacity\n",
       "0        16559     01-May-22           RT1                   25        30\n",
       "1        19562     01-May-22           RT1                   28        30"
      ]
     },
     "execution_count": 6,
     "metadata": {},
     "output_type": "execute_result"
    }
   ],
   "source": [
    "df_agg.head(2)"
   ]
  },
  {
   "cell_type": "code",
   "execution_count": 7,
   "id": "017761c5",
   "metadata": {
    "colab": {
     "base_uri": "https://localhost:8080/",
     "height": 270
    },
    "executionInfo": {
     "elapsed": 36,
     "status": "ok",
     "timestamp": 1664163955904,
     "user": {
      "displayName": "Shubham Sah",
      "userId": "09185991809667538600"
     },
     "user_tz": -330
    },
    "id": "67218354",
    "outputId": "875a200f-9d04-4e45-ff36-294ec66fd880"
   },
   "outputs": [
    {
     "data": {
      "text/html": [
       "<div>\n",
       "<style scoped>\n",
       "    .dataframe tbody tr th:only-of-type {\n",
       "        vertical-align: middle;\n",
       "    }\n",
       "\n",
       "    .dataframe tbody tr th {\n",
       "        vertical-align: top;\n",
       "    }\n",
       "\n",
       "    .dataframe thead th {\n",
       "        text-align: right;\n",
       "    }\n",
       "</style>\n",
       "<table border=\"1\" class=\"dataframe\">\n",
       "  <thead>\n",
       "    <tr style=\"text-align: right;\">\n",
       "      <th></th>\n",
       "      <th>booking_id</th>\n",
       "      <th>property_id</th>\n",
       "      <th>booking_date</th>\n",
       "      <th>check_in_date</th>\n",
       "      <th>checkout_date</th>\n",
       "      <th>no_guests</th>\n",
       "      <th>room_category</th>\n",
       "      <th>booking_platform</th>\n",
       "      <th>ratings_given</th>\n",
       "      <th>booking_status</th>\n",
       "      <th>revenue_generated</th>\n",
       "      <th>revenue_realized</th>\n",
       "    </tr>\n",
       "  </thead>\n",
       "  <tbody>\n",
       "    <tr>\n",
       "      <th>0</th>\n",
       "      <td>May012216558RT11</td>\n",
       "      <td>16558</td>\n",
       "      <td>2022-04-27</td>\n",
       "      <td>2022-05-01</td>\n",
       "      <td>2022-05-02</td>\n",
       "      <td>3</td>\n",
       "      <td>RT1</td>\n",
       "      <td>direct online</td>\n",
       "      <td>1.0</td>\n",
       "      <td>Checked Out</td>\n",
       "      <td>10010</td>\n",
       "      <td>10010</td>\n",
       "    </tr>\n",
       "    <tr>\n",
       "      <th>1</th>\n",
       "      <td>May012216558RT12</td>\n",
       "      <td>16558</td>\n",
       "      <td>2022-04-30</td>\n",
       "      <td>2022-05-01</td>\n",
       "      <td>2022-05-02</td>\n",
       "      <td>2</td>\n",
       "      <td>RT1</td>\n",
       "      <td>others</td>\n",
       "      <td>NaN</td>\n",
       "      <td>Cancelled</td>\n",
       "      <td>9100</td>\n",
       "      <td>3640</td>\n",
       "    </tr>\n",
       "  </tbody>\n",
       "</table>\n",
       "</div>"
      ],
      "text/plain": [
       "         booking_id  property_id booking_date check_in_date checkout_date  \\\n",
       "0  May012216558RT11        16558   2022-04-27    2022-05-01    2022-05-02   \n",
       "1  May012216558RT12        16558   2022-04-30    2022-05-01    2022-05-02   \n",
       "\n",
       "   no_guests room_category booking_platform  ratings_given booking_status  \\\n",
       "0          3           RT1    direct online            1.0    Checked Out   \n",
       "1          2           RT1           others            NaN      Cancelled   \n",
       "\n",
       "   revenue_generated  revenue_realized  \n",
       "0              10010             10010  \n",
       "1               9100              3640  "
      ]
     },
     "execution_count": 7,
     "metadata": {},
     "output_type": "execute_result"
    }
   ],
   "source": [
    "df_fact.head(2)"
   ]
  },
  {
   "cell_type": "code",
   "execution_count": 8,
   "id": "043240be",
   "metadata": {},
   "outputs": [
    {
     "name": "stdout",
     "output_type": "stream",
     "text": [
      "<class 'pandas.core.frame.DataFrame'>\n",
      "RangeIndex: 92 entries, 0 to 91\n",
      "Data columns (total 4 columns):\n",
      " #   Column    Non-Null Count  Dtype \n",
      "---  ------    --------------  ----- \n",
      " 0   date      92 non-null     object\n",
      " 1   mmm yy    92 non-null     object\n",
      " 2   week no   92 non-null     object\n",
      " 3   day_type  92 non-null     object\n",
      "dtypes: object(4)\n",
      "memory usage: 3.0+ KB\n"
     ]
    }
   ],
   "source": [
    "df_date.info()"
   ]
  },
  {
   "cell_type": "code",
   "execution_count": 9,
   "id": "7146cfa2",
   "metadata": {
    "colab": {
     "base_uri": "https://localhost:8080/"
    },
    "executionInfo": {
     "elapsed": 48,
     "status": "ok",
     "timestamp": 1664163955900,
     "user": {
      "displayName": "Shubham Sah",
      "userId": "09185991809667538600"
     },
     "user_tz": -330
    },
    "id": "7146cfa2",
    "outputId": "3f130c9e-af98-4352-e6a9-33e7cdd4be9a"
   },
   "outputs": [
    {
     "name": "stdout",
     "output_type": "stream",
     "text": [
      "<class 'pandas.core.frame.DataFrame'>\n",
      "RangeIndex: 25 entries, 0 to 24\n",
      "Data columns (total 4 columns):\n",
      " #   Column         Non-Null Count  Dtype \n",
      "---  ------         --------------  ----- \n",
      " 0   property_id    25 non-null     int64 \n",
      " 1   property_name  25 non-null     object\n",
      " 2   category       25 non-null     object\n",
      " 3   city           25 non-null     object\n",
      "dtypes: int64(1), object(3)\n",
      "memory usage: 928.0+ bytes\n"
     ]
    }
   ],
   "source": [
    "df_hotel.info()"
   ]
  },
  {
   "cell_type": "code",
   "execution_count": 10,
   "id": "6d8b05db",
   "metadata": {
    "colab": {
     "base_uri": "https://localhost:8080/"
    },
    "executionInfo": {
     "elapsed": 43,
     "status": "ok",
     "timestamp": 1664163955900,
     "user": {
      "displayName": "Shubham Sah",
      "userId": "09185991809667538600"
     },
     "user_tz": -330
    },
    "id": "6d8b05db",
    "outputId": "e28880c4-f5d7-40be-e94c-9fc58d27d82b"
   },
   "outputs": [
    {
     "name": "stdout",
     "output_type": "stream",
     "text": [
      "<class 'pandas.core.frame.DataFrame'>\n",
      "RangeIndex: 4 entries, 0 to 3\n",
      "Data columns (total 2 columns):\n",
      " #   Column      Non-Null Count  Dtype \n",
      "---  ------      --------------  ----- \n",
      " 0   room_id     4 non-null      object\n",
      " 1   room_class  4 non-null      object\n",
      "dtypes: object(2)\n",
      "memory usage: 192.0+ bytes\n"
     ]
    }
   ],
   "source": [
    "df_room.info()"
   ]
  },
  {
   "cell_type": "code",
   "execution_count": 11,
   "id": "6cc65fac",
   "metadata": {
    "colab": {
     "base_uri": "https://localhost:8080/"
    },
    "executionInfo": {
     "elapsed": 37,
     "status": "ok",
     "timestamp": 1664163955903,
     "user": {
      "displayName": "Shubham Sah",
      "userId": "09185991809667538600"
     },
     "user_tz": -330
    },
    "id": "6cc65fac",
    "outputId": "208964c1-5932-4f95-898f-a7d901311df0"
   },
   "outputs": [
    {
     "name": "stdout",
     "output_type": "stream",
     "text": [
      "<class 'pandas.core.frame.DataFrame'>\n",
      "RangeIndex: 9200 entries, 0 to 9199\n",
      "Data columns (total 5 columns):\n",
      " #   Column               Non-Null Count  Dtype \n",
      "---  ------               --------------  ----- \n",
      " 0   property_id          9200 non-null   int64 \n",
      " 1   check_in_date        9200 non-null   object\n",
      " 2   room_category        9200 non-null   object\n",
      " 3   successful_bookings  9200 non-null   int64 \n",
      " 4   capacity             9200 non-null   int64 \n",
      "dtypes: int64(3), object(2)\n",
      "memory usage: 359.5+ KB\n"
     ]
    }
   ],
   "source": [
    "df_agg.info()"
   ]
  },
  {
   "cell_type": "code",
   "execution_count": 12,
   "id": "f50c6ad6",
   "metadata": {
    "colab": {
     "base_uri": "https://localhost:8080/"
    },
    "executionInfo": {
     "elapsed": 36,
     "status": "ok",
     "timestamp": 1664163955905,
     "user": {
      "displayName": "Shubham Sah",
      "userId": "09185991809667538600"
     },
     "user_tz": -330
    },
    "id": "f50c6ad6",
    "outputId": "27b00014-5759-46e5-b5ba-550f7e262ebe"
   },
   "outputs": [
    {
     "data": {
      "text/plain": [
       "(134590, 12)"
      ]
     },
     "execution_count": 12,
     "metadata": {},
     "output_type": "execute_result"
    }
   ],
   "source": [
    "df_fact.shape"
   ]
  },
  {
   "cell_type": "code",
   "execution_count": 13,
   "id": "04aa96a6",
   "metadata": {
    "colab": {
     "base_uri": "https://localhost:8080/"
    },
    "executionInfo": {
     "elapsed": 34,
     "status": "ok",
     "timestamp": 1664163955906,
     "user": {
      "displayName": "Shubham Sah",
      "userId": "09185991809667538600"
     },
     "user_tz": -330
    },
    "id": "56fea760",
    "outputId": "4ebe2c26-70e8-4080-923f-12df4926e7a1"
   },
   "outputs": [
    {
     "name": "stdout",
     "output_type": "stream",
     "text": [
      "<class 'pandas.core.frame.DataFrame'>\n",
      "RangeIndex: 134590 entries, 0 to 134589\n",
      "Data columns (total 12 columns):\n",
      " #   Column             Non-Null Count   Dtype  \n",
      "---  ------             --------------   -----  \n",
      " 0   booking_id         134590 non-null  object \n",
      " 1   property_id        134590 non-null  int64  \n",
      " 2   booking_date       134590 non-null  object \n",
      " 3   check_in_date      134590 non-null  object \n",
      " 4   checkout_date      134590 non-null  object \n",
      " 5   no_guests          134590 non-null  int64  \n",
      " 6   room_category      134590 non-null  object \n",
      " 7   booking_platform   134590 non-null  object \n",
      " 8   ratings_given      56683 non-null   float64\n",
      " 9   booking_status     134590 non-null  object \n",
      " 10  revenue_generated  134590 non-null  int64  \n",
      " 11  revenue_realized   134590 non-null  int64  \n",
      "dtypes: float64(1), int64(4), object(7)\n",
      "memory usage: 12.3+ MB\n"
     ]
    }
   ],
   "source": [
    "df_fact.info()"
   ]
  },
  {
   "cell_type": "markdown",
   "id": "cfe44891",
   "metadata": {},
   "source": [
    "##### After finding information about all 5 datasets on only fifth datasets contain some missing value in column Rating_given "
   ]
  },
  {
   "cell_type": "markdown",
   "id": "cc1d181c",
   "metadata": {},
   "source": [
    "### Merging Two dataframe Hotel and aggregate"
   ]
  },
  {
   "cell_type": "code",
   "execution_count": 14,
   "id": "e6dc0fb5",
   "metadata": {
    "colab": {
     "base_uri": "https://localhost:8080/",
     "height": 206
    },
    "executionInfo": {
     "elapsed": 33,
     "status": "ok",
     "timestamp": 1664163955907,
     "user": {
      "displayName": "Shubham Sah",
      "userId": "09185991809667538600"
     },
     "user_tz": -330
    },
    "id": "e6dc0fb5",
    "outputId": "2984070c-0eb1-4305-f3c7-0841a35828b4"
   },
   "outputs": [
    {
     "data": {
      "text/html": [
       "<div>\n",
       "<style scoped>\n",
       "    .dataframe tbody tr th:only-of-type {\n",
       "        vertical-align: middle;\n",
       "    }\n",
       "\n",
       "    .dataframe tbody tr th {\n",
       "        vertical-align: top;\n",
       "    }\n",
       "\n",
       "    .dataframe thead th {\n",
       "        text-align: right;\n",
       "    }\n",
       "</style>\n",
       "<table border=\"1\" class=\"dataframe\">\n",
       "  <thead>\n",
       "    <tr style=\"text-align: right;\">\n",
       "      <th></th>\n",
       "      <th>property_id</th>\n",
       "      <th>property_name</th>\n",
       "      <th>category</th>\n",
       "      <th>city</th>\n",
       "      <th>check_in_date</th>\n",
       "      <th>room_category</th>\n",
       "      <th>successful_bookings</th>\n",
       "      <th>capacity</th>\n",
       "    </tr>\n",
       "  </thead>\n",
       "  <tbody>\n",
       "    <tr>\n",
       "      <th>0</th>\n",
       "      <td>16558</td>\n",
       "      <td>Atliq Grands</td>\n",
       "      <td>Luxury</td>\n",
       "      <td>Delhi</td>\n",
       "      <td>01-May-22</td>\n",
       "      <td>RT1</td>\n",
       "      <td>18</td>\n",
       "      <td>19</td>\n",
       "    </tr>\n",
       "    <tr>\n",
       "      <th>1</th>\n",
       "      <td>16558</td>\n",
       "      <td>Atliq Grands</td>\n",
       "      <td>Luxury</td>\n",
       "      <td>Delhi</td>\n",
       "      <td>01-May-22</td>\n",
       "      <td>RT2</td>\n",
       "      <td>21</td>\n",
       "      <td>22</td>\n",
       "    </tr>\n",
       "    <tr>\n",
       "      <th>2</th>\n",
       "      <td>16558</td>\n",
       "      <td>Atliq Grands</td>\n",
       "      <td>Luxury</td>\n",
       "      <td>Delhi</td>\n",
       "      <td>01-May-22</td>\n",
       "      <td>RT3</td>\n",
       "      <td>8</td>\n",
       "      <td>8</td>\n",
       "    </tr>\n",
       "  </tbody>\n",
       "</table>\n",
       "</div>"
      ],
      "text/plain": [
       "   property_id property_name category   city check_in_date room_category  \\\n",
       "0        16558  Atliq Grands   Luxury  Delhi     01-May-22           RT1   \n",
       "1        16558  Atliq Grands   Luxury  Delhi     01-May-22           RT2   \n",
       "2        16558  Atliq Grands   Luxury  Delhi     01-May-22           RT3   \n",
       "\n",
       "   successful_bookings  capacity  \n",
       "0                   18        19  \n",
       "1                   21        22  \n",
       "2                    8         8  "
      ]
     },
     "execution_count": 14,
     "metadata": {},
     "output_type": "execute_result"
    }
   ],
   "source": [
    "df_hotel_agg = pd.merge(df_hotel,df_agg, on= 'property_id', how= 'inner')\n",
    "df_hotel_agg.head(3)"
   ]
  },
  {
   "cell_type": "code",
   "execution_count": 15,
   "id": "97a89533",
   "metadata": {
    "colab": {
     "base_uri": "https://localhost:8080/"
    },
    "executionInfo": {
     "elapsed": 31,
     "status": "ok",
     "timestamp": 1664163955907,
     "user": {
      "displayName": "Shubham Sah",
      "userId": "09185991809667538600"
     },
     "user_tz": -330
    },
    "id": "97a89533",
    "outputId": "cfb94289-ff2d-4dff-9672-5c522fb9faa2"
   },
   "outputs": [
    {
     "name": "stdout",
     "output_type": "stream",
     "text": [
      "<class 'pandas.core.frame.DataFrame'>\n",
      "Int64Index: 9200 entries, 0 to 9199\n",
      "Data columns (total 8 columns):\n",
      " #   Column               Non-Null Count  Dtype \n",
      "---  ------               --------------  ----- \n",
      " 0   property_id          9200 non-null   int64 \n",
      " 1   property_name        9200 non-null   object\n",
      " 2   category             9200 non-null   object\n",
      " 3   city                 9200 non-null   object\n",
      " 4   check_in_date        9200 non-null   object\n",
      " 5   room_category        9200 non-null   object\n",
      " 6   successful_bookings  9200 non-null   int64 \n",
      " 7   capacity             9200 non-null   int64 \n",
      "dtypes: int64(3), object(5)\n",
      "memory usage: 646.9+ KB\n"
     ]
    }
   ],
   "source": [
    "df_hotel_agg.info()"
   ]
  },
  {
   "cell_type": "markdown",
   "id": "da813522",
   "metadata": {},
   "source": [
    "### Merging Hotels and fact Aggregate bookings together"
   ]
  },
  {
   "cell_type": "code",
   "execution_count": 16,
   "id": "5746b0d7",
   "metadata": {
    "executionInfo": {
     "elapsed": 705,
     "status": "ok",
     "timestamp": 1664163956588,
     "user": {
      "displayName": "Shubham Sah",
      "userId": "09185991809667538600"
     },
     "user_tz": -330
    },
    "id": "5746b0d7"
   },
   "outputs": [],
   "source": [
    "df_hotel_fact = pd.merge(df_hotel,df_fact, on= 'property_id', how= 'inner')"
   ]
  },
  {
   "cell_type": "code",
   "execution_count": 17,
   "id": "bb0d8a77",
   "metadata": {
    "colab": {
     "base_uri": "https://localhost:8080/"
    },
    "executionInfo": {
     "elapsed": 37,
     "status": "ok",
     "timestamp": 1664163956589,
     "user": {
      "displayName": "Shubham Sah",
      "userId": "09185991809667538600"
     },
     "user_tz": -330
    },
    "id": "bb0d8a77",
    "outputId": "c1ae8d60-3a78-4d0a-8d62-8400749fb8fa",
    "scrolled": true
   },
   "outputs": [
    {
     "data": {
      "text/plain": [
       "(134590, 15)"
      ]
     },
     "execution_count": 17,
     "metadata": {},
     "output_type": "execute_result"
    }
   ],
   "source": [
    "df_hotel_fact.shape"
   ]
  },
  {
   "cell_type": "code",
   "execution_count": 18,
   "id": "3dcd7999",
   "metadata": {
    "colab": {
     "base_uri": "https://localhost:8080/"
    },
    "executionInfo": {
     "elapsed": 35,
     "status": "ok",
     "timestamp": 1664163956590,
     "user": {
      "displayName": "Shubham Sah",
      "userId": "09185991809667538600"
     },
     "user_tz": -330
    },
    "id": "3dcd7999",
    "outputId": "226b72f9-0825-431a-cf96-584fc07f09be"
   },
   "outputs": [
    {
     "name": "stdout",
     "output_type": "stream",
     "text": [
      "<class 'pandas.core.frame.DataFrame'>\n",
      "Int64Index: 134590 entries, 0 to 134589\n",
      "Data columns (total 15 columns):\n",
      " #   Column             Non-Null Count   Dtype  \n",
      "---  ------             --------------   -----  \n",
      " 0   property_id        134590 non-null  int64  \n",
      " 1   property_name      134590 non-null  object \n",
      " 2   category           134590 non-null  object \n",
      " 3   city               134590 non-null  object \n",
      " 4   booking_id         134590 non-null  object \n",
      " 5   booking_date       134590 non-null  object \n",
      " 6   check_in_date      134590 non-null  object \n",
      " 7   checkout_date      134590 non-null  object \n",
      " 8   no_guests          134590 non-null  int64  \n",
      " 9   room_category      134590 non-null  object \n",
      " 10  booking_platform   134590 non-null  object \n",
      " 11  ratings_given      56683 non-null   float64\n",
      " 12  booking_status     134590 non-null  object \n",
      " 13  revenue_generated  134590 non-null  int64  \n",
      " 14  revenue_realized   134590 non-null  int64  \n",
      "dtypes: float64(1), int64(4), object(10)\n",
      "memory usage: 16.4+ MB\n"
     ]
    }
   ],
   "source": [
    "df_hotel_fact.info()"
   ]
  },
  {
   "cell_type": "markdown",
   "id": "3fbecf03",
   "metadata": {},
   "source": [
    "### Parsing date object into Datetime formate"
   ]
  },
  {
   "cell_type": "code",
   "execution_count": 19,
   "id": "fbcabc37",
   "metadata": {},
   "outputs": [],
   "source": [
    "# Importing datetime modules\n",
    "from datetime import datetime\n",
    "from datetime import date"
   ]
  },
  {
   "cell_type": "code",
   "execution_count": 20,
   "id": "727bb7aa",
   "metadata": {},
   "outputs": [
    {
     "data": {
      "text/html": [
       "<div>\n",
       "<style scoped>\n",
       "    .dataframe tbody tr th:only-of-type {\n",
       "        vertical-align: middle;\n",
       "    }\n",
       "\n",
       "    .dataframe tbody tr th {\n",
       "        vertical-align: top;\n",
       "    }\n",
       "\n",
       "    .dataframe thead th {\n",
       "        text-align: right;\n",
       "    }\n",
       "</style>\n",
       "<table border=\"1\" class=\"dataframe\">\n",
       "  <thead>\n",
       "    <tr style=\"text-align: right;\">\n",
       "      <th></th>\n",
       "      <th>date</th>\n",
       "      <th>mmm yy</th>\n",
       "      <th>week no</th>\n",
       "      <th>day_type</th>\n",
       "    </tr>\n",
       "  </thead>\n",
       "  <tbody>\n",
       "    <tr>\n",
       "      <th>0</th>\n",
       "      <td>2022-05-01</td>\n",
       "      <td>May 22</td>\n",
       "      <td>W 19</td>\n",
       "      <td>weekend</td>\n",
       "    </tr>\n",
       "    <tr>\n",
       "      <th>1</th>\n",
       "      <td>2022-05-02</td>\n",
       "      <td>May 22</td>\n",
       "      <td>W 19</td>\n",
       "      <td>weekeday</td>\n",
       "    </tr>\n",
       "  </tbody>\n",
       "</table>\n",
       "</div>"
      ],
      "text/plain": [
       "        date  mmm yy week no  day_type\n",
       "0 2022-05-01  May 22    W 19   weekend\n",
       "1 2022-05-02  May 22    W 19  weekeday"
      ]
     },
     "execution_count": 20,
     "metadata": {},
     "output_type": "execute_result"
    }
   ],
   "source": [
    "df_date['date'] = df_date['date'].apply(lambda x: datetime.strptime(x,'%d-%b-%y'))\n",
    "df_date.head(2)"
   ]
  },
  {
   "cell_type": "code",
   "execution_count": 21,
   "id": "6d581f39",
   "metadata": {},
   "outputs": [],
   "source": [
    "df_hotel_fact['check_in_date'] = df_hotel_fact['check_in_date'].apply(lambda x: datetime.strptime(x,'%Y-%m-%d'))"
   ]
  },
  {
   "cell_type": "markdown",
   "id": "e4cd27c2",
   "metadata": {},
   "source": [
    "##### Here date column is object type so we need to convert into date format so i applied lambda function on date column"
   ]
  },
  {
   "cell_type": "markdown",
   "id": "0cc466aa",
   "metadata": {},
   "source": [
    "#### Renaming Column name and considering those columns which required."
   ]
  },
  {
   "cell_type": "code",
   "execution_count": 22,
   "id": "006a3c31",
   "metadata": {},
   "outputs": [
    {
     "data": {
      "text/html": [
       "<div>\n",
       "<style scoped>\n",
       "    .dataframe tbody tr th:only-of-type {\n",
       "        vertical-align: middle;\n",
       "    }\n",
       "\n",
       "    .dataframe tbody tr th {\n",
       "        vertical-align: top;\n",
       "    }\n",
       "\n",
       "    .dataframe thead th {\n",
       "        text-align: right;\n",
       "    }\n",
       "</style>\n",
       "<table border=\"1\" class=\"dataframe\">\n",
       "  <thead>\n",
       "    <tr style=\"text-align: right;\">\n",
       "      <th></th>\n",
       "      <th>check_in_date</th>\n",
       "      <th>day_type</th>\n",
       "    </tr>\n",
       "  </thead>\n",
       "  <tbody>\n",
       "    <tr>\n",
       "      <th>0</th>\n",
       "      <td>2022-05-01</td>\n",
       "      <td>weekend</td>\n",
       "    </tr>\n",
       "    <tr>\n",
       "      <th>1</th>\n",
       "      <td>2022-05-02</td>\n",
       "      <td>weekeday</td>\n",
       "    </tr>\n",
       "    <tr>\n",
       "      <th>2</th>\n",
       "      <td>2022-05-03</td>\n",
       "      <td>weekeday</td>\n",
       "    </tr>\n",
       "  </tbody>\n",
       "</table>\n",
       "</div>"
      ],
      "text/plain": [
       "  check_in_date  day_type\n",
       "0    2022-05-01   weekend\n",
       "1    2022-05-02  weekeday\n",
       "2    2022-05-03  weekeday"
      ]
     },
     "execution_count": 22,
     "metadata": {},
     "output_type": "execute_result"
    }
   ],
   "source": [
    "df_date2 = df_date.loc[:,['date','day_type']].rename(columns = {'date': 'check_in_date'})\n",
    "df_date2.head(3)"
   ]
  },
  {
   "cell_type": "code",
   "execution_count": 23,
   "id": "0668a3bc",
   "metadata": {},
   "outputs": [
    {
     "name": "stdout",
     "output_type": "stream",
     "text": [
      "<class 'pandas.core.frame.DataFrame'>\n",
      "Int64Index: 134590 entries, 0 to 134589\n",
      "Data columns (total 15 columns):\n",
      " #   Column             Non-Null Count   Dtype         \n",
      "---  ------             --------------   -----         \n",
      " 0   property_id        134590 non-null  int64         \n",
      " 1   property_name      134590 non-null  object        \n",
      " 2   category           134590 non-null  object        \n",
      " 3   city               134590 non-null  object        \n",
      " 4   booking_id         134590 non-null  object        \n",
      " 5   booking_date       134590 non-null  object        \n",
      " 6   check_in_date      134590 non-null  datetime64[ns]\n",
      " 7   checkout_date      134590 non-null  object        \n",
      " 8   no_guests          134590 non-null  int64         \n",
      " 9   room_category      134590 non-null  object        \n",
      " 10  booking_platform   134590 non-null  object        \n",
      " 11  ratings_given      56683 non-null   float64       \n",
      " 12  booking_status     134590 non-null  object        \n",
      " 13  revenue_generated  134590 non-null  int64         \n",
      " 14  revenue_realized   134590 non-null  int64         \n",
      "dtypes: datetime64[ns](1), float64(1), int64(4), object(9)\n",
      "memory usage: 16.4+ MB\n"
     ]
    }
   ],
   "source": [
    "df_hotel_fact.info()"
   ]
  },
  {
   "cell_type": "markdown",
   "id": "f591f4d9",
   "metadata": {},
   "source": [
    "### Merging Hotels, Fact Aggregrate booking and date to track weekends trends"
   ]
  },
  {
   "cell_type": "code",
   "execution_count": 24,
   "id": "da5eee54",
   "metadata": {},
   "outputs": [
    {
     "data": {
      "text/html": [
       "<div>\n",
       "<style scoped>\n",
       "    .dataframe tbody tr th:only-of-type {\n",
       "        vertical-align: middle;\n",
       "    }\n",
       "\n",
       "    .dataframe tbody tr th {\n",
       "        vertical-align: top;\n",
       "    }\n",
       "\n",
       "    .dataframe thead th {\n",
       "        text-align: right;\n",
       "    }\n",
       "</style>\n",
       "<table border=\"1\" class=\"dataframe\">\n",
       "  <thead>\n",
       "    <tr style=\"text-align: right;\">\n",
       "      <th></th>\n",
       "      <th>property_id</th>\n",
       "      <th>property_name</th>\n",
       "      <th>category</th>\n",
       "      <th>city</th>\n",
       "      <th>booking_id</th>\n",
       "      <th>booking_date</th>\n",
       "      <th>check_in_date</th>\n",
       "      <th>checkout_date</th>\n",
       "      <th>no_guests</th>\n",
       "      <th>room_category</th>\n",
       "      <th>booking_platform</th>\n",
       "      <th>ratings_given</th>\n",
       "      <th>booking_status</th>\n",
       "      <th>revenue_generated</th>\n",
       "      <th>revenue_realized</th>\n",
       "      <th>day_type</th>\n",
       "    </tr>\n",
       "  </thead>\n",
       "  <tbody>\n",
       "    <tr>\n",
       "      <th>0</th>\n",
       "      <td>16558</td>\n",
       "      <td>Atliq Grands</td>\n",
       "      <td>Luxury</td>\n",
       "      <td>Delhi</td>\n",
       "      <td>May012216558RT11</td>\n",
       "      <td>2022-04-27</td>\n",
       "      <td>2022-05-01</td>\n",
       "      <td>2022-05-02</td>\n",
       "      <td>3</td>\n",
       "      <td>RT1</td>\n",
       "      <td>direct online</td>\n",
       "      <td>1.0</td>\n",
       "      <td>Checked Out</td>\n",
       "      <td>10010</td>\n",
       "      <td>10010</td>\n",
       "      <td>weekend</td>\n",
       "    </tr>\n",
       "    <tr>\n",
       "      <th>1</th>\n",
       "      <td>16558</td>\n",
       "      <td>Atliq Grands</td>\n",
       "      <td>Luxury</td>\n",
       "      <td>Delhi</td>\n",
       "      <td>May012216558RT12</td>\n",
       "      <td>2022-04-30</td>\n",
       "      <td>2022-05-01</td>\n",
       "      <td>2022-05-02</td>\n",
       "      <td>2</td>\n",
       "      <td>RT1</td>\n",
       "      <td>others</td>\n",
       "      <td>NaN</td>\n",
       "      <td>Cancelled</td>\n",
       "      <td>9100</td>\n",
       "      <td>3640</td>\n",
       "      <td>weekend</td>\n",
       "    </tr>\n",
       "    <tr>\n",
       "      <th>2</th>\n",
       "      <td>16558</td>\n",
       "      <td>Atliq Grands</td>\n",
       "      <td>Luxury</td>\n",
       "      <td>Delhi</td>\n",
       "      <td>May012216558RT13</td>\n",
       "      <td>2022-04-28</td>\n",
       "      <td>2022-05-01</td>\n",
       "      <td>2022-05-04</td>\n",
       "      <td>2</td>\n",
       "      <td>RT1</td>\n",
       "      <td>logtrip</td>\n",
       "      <td>5.0</td>\n",
       "      <td>Checked Out</td>\n",
       "      <td>9100</td>\n",
       "      <td>9100</td>\n",
       "      <td>weekend</td>\n",
       "    </tr>\n",
       "  </tbody>\n",
       "</table>\n",
       "</div>"
      ],
      "text/plain": [
       "   property_id property_name category   city        booking_id booking_date  \\\n",
       "0        16558  Atliq Grands   Luxury  Delhi  May012216558RT11   2022-04-27   \n",
       "1        16558  Atliq Grands   Luxury  Delhi  May012216558RT12   2022-04-30   \n",
       "2        16558  Atliq Grands   Luxury  Delhi  May012216558RT13   2022-04-28   \n",
       "\n",
       "  check_in_date checkout_date  no_guests room_category booking_platform  \\\n",
       "0    2022-05-01    2022-05-02          3           RT1    direct online   \n",
       "1    2022-05-01    2022-05-02          2           RT1           others   \n",
       "2    2022-05-01    2022-05-04          2           RT1          logtrip   \n",
       "\n",
       "   ratings_given booking_status  revenue_generated  revenue_realized day_type  \n",
       "0            1.0    Checked Out              10010             10010  weekend  \n",
       "1            NaN      Cancelled               9100              3640  weekend  \n",
       "2            5.0    Checked Out               9100              9100  weekend  "
      ]
     },
     "execution_count": 24,
     "metadata": {},
     "output_type": "execute_result"
    }
   ],
   "source": [
    "df_final = pd.merge(df_hotel_fact,df_date2, on= 'check_in_date', how='inner')\n",
    "df_final.head(3)"
   ]
  },
  {
   "cell_type": "code",
   "execution_count": 25,
   "id": "bd60888f",
   "metadata": {},
   "outputs": [
    {
     "name": "stdout",
     "output_type": "stream",
     "text": [
      "<class 'pandas.core.frame.DataFrame'>\n",
      "Int64Index: 134590 entries, 0 to 134589\n",
      "Data columns (total 16 columns):\n",
      " #   Column             Non-Null Count   Dtype         \n",
      "---  ------             --------------   -----         \n",
      " 0   property_id        134590 non-null  int64         \n",
      " 1   property_name      134590 non-null  object        \n",
      " 2   category           134590 non-null  object        \n",
      " 3   city               134590 non-null  object        \n",
      " 4   booking_id         134590 non-null  object        \n",
      " 5   booking_date       134590 non-null  object        \n",
      " 6   check_in_date      134590 non-null  datetime64[ns]\n",
      " 7   checkout_date      134590 non-null  object        \n",
      " 8   no_guests          134590 non-null  int64         \n",
      " 9   room_category      134590 non-null  object        \n",
      " 10  booking_platform   134590 non-null  object        \n",
      " 11  ratings_given      56683 non-null   float64       \n",
      " 12  booking_status     134590 non-null  object        \n",
      " 13  revenue_generated  134590 non-null  int64         \n",
      " 14  revenue_realized   134590 non-null  int64         \n",
      " 15  day_type           134590 non-null  object        \n",
      "dtypes: datetime64[ns](1), float64(1), int64(4), object(10)\n",
      "memory usage: 17.5+ MB\n"
     ]
    }
   ],
   "source": [
    "df_final.info()"
   ]
  },
  {
   "cell_type": "markdown",
   "id": "991b30fa",
   "metadata": {},
   "source": [
    "### Lets Map the Room Category of final DataFrame with the Room Class of room dataframe\n",
    "As from DataFrame df_room \n",
    "1. RT1 is Standard\n",
    "2. RT2 is Elite\n",
    "3. RT3 is Premium \n",
    "4. RT4 is Presidentials"
   ]
  },
  {
   "cell_type": "code",
   "execution_count": 26,
   "id": "b253d4f1",
   "metadata": {},
   "outputs": [],
   "source": [
    "df_final['room_category'] = df_final['room_category'].map({'RT1': 'Standard','RT2': 'Elite','RT3': 'Premium','RT4': 'Presidential'})"
   ]
  },
  {
   "cell_type": "code",
   "execution_count": 27,
   "id": "09b807b6",
   "metadata": {},
   "outputs": [
    {
     "data": {
      "text/html": [
       "<div>\n",
       "<style scoped>\n",
       "    .dataframe tbody tr th:only-of-type {\n",
       "        vertical-align: middle;\n",
       "    }\n",
       "\n",
       "    .dataframe tbody tr th {\n",
       "        vertical-align: top;\n",
       "    }\n",
       "\n",
       "    .dataframe thead th {\n",
       "        text-align: right;\n",
       "    }\n",
       "</style>\n",
       "<table border=\"1\" class=\"dataframe\">\n",
       "  <thead>\n",
       "    <tr style=\"text-align: right;\">\n",
       "      <th></th>\n",
       "      <th>property_id</th>\n",
       "      <th>property_name</th>\n",
       "      <th>category</th>\n",
       "      <th>city</th>\n",
       "      <th>booking_id</th>\n",
       "      <th>booking_date</th>\n",
       "      <th>check_in_date</th>\n",
       "      <th>checkout_date</th>\n",
       "      <th>no_guests</th>\n",
       "      <th>room_category</th>\n",
       "      <th>booking_platform</th>\n",
       "      <th>ratings_given</th>\n",
       "      <th>booking_status</th>\n",
       "      <th>revenue_generated</th>\n",
       "      <th>revenue_realized</th>\n",
       "      <th>day_type</th>\n",
       "    </tr>\n",
       "  </thead>\n",
       "  <tbody>\n",
       "    <tr>\n",
       "      <th>0</th>\n",
       "      <td>16558</td>\n",
       "      <td>Atliq Grands</td>\n",
       "      <td>Luxury</td>\n",
       "      <td>Delhi</td>\n",
       "      <td>May012216558RT11</td>\n",
       "      <td>2022-04-27</td>\n",
       "      <td>2022-05-01</td>\n",
       "      <td>2022-05-02</td>\n",
       "      <td>3</td>\n",
       "      <td>Standard</td>\n",
       "      <td>direct online</td>\n",
       "      <td>1.0</td>\n",
       "      <td>Checked Out</td>\n",
       "      <td>10010</td>\n",
       "      <td>10010</td>\n",
       "      <td>weekend</td>\n",
       "    </tr>\n",
       "    <tr>\n",
       "      <th>1</th>\n",
       "      <td>16558</td>\n",
       "      <td>Atliq Grands</td>\n",
       "      <td>Luxury</td>\n",
       "      <td>Delhi</td>\n",
       "      <td>May012216558RT12</td>\n",
       "      <td>2022-04-30</td>\n",
       "      <td>2022-05-01</td>\n",
       "      <td>2022-05-02</td>\n",
       "      <td>2</td>\n",
       "      <td>Standard</td>\n",
       "      <td>others</td>\n",
       "      <td>NaN</td>\n",
       "      <td>Cancelled</td>\n",
       "      <td>9100</td>\n",
       "      <td>3640</td>\n",
       "      <td>weekend</td>\n",
       "    </tr>\n",
       "    <tr>\n",
       "      <th>2</th>\n",
       "      <td>16558</td>\n",
       "      <td>Atliq Grands</td>\n",
       "      <td>Luxury</td>\n",
       "      <td>Delhi</td>\n",
       "      <td>May012216558RT13</td>\n",
       "      <td>2022-04-28</td>\n",
       "      <td>2022-05-01</td>\n",
       "      <td>2022-05-04</td>\n",
       "      <td>2</td>\n",
       "      <td>Standard</td>\n",
       "      <td>logtrip</td>\n",
       "      <td>5.0</td>\n",
       "      <td>Checked Out</td>\n",
       "      <td>9100</td>\n",
       "      <td>9100</td>\n",
       "      <td>weekend</td>\n",
       "    </tr>\n",
       "  </tbody>\n",
       "</table>\n",
       "</div>"
      ],
      "text/plain": [
       "   property_id property_name category   city        booking_id booking_date  \\\n",
       "0        16558  Atliq Grands   Luxury  Delhi  May012216558RT11   2022-04-27   \n",
       "1        16558  Atliq Grands   Luxury  Delhi  May012216558RT12   2022-04-30   \n",
       "2        16558  Atliq Grands   Luxury  Delhi  May012216558RT13   2022-04-28   \n",
       "\n",
       "  check_in_date checkout_date  no_guests room_category booking_platform  \\\n",
       "0    2022-05-01    2022-05-02          3      Standard    direct online   \n",
       "1    2022-05-01    2022-05-02          2      Standard           others   \n",
       "2    2022-05-01    2022-05-04          2      Standard          logtrip   \n",
       "\n",
       "   ratings_given booking_status  revenue_generated  revenue_realized day_type  \n",
       "0            1.0    Checked Out              10010             10010  weekend  \n",
       "1            NaN      Cancelled               9100              3640  weekend  \n",
       "2            5.0    Checked Out               9100              9100  weekend  "
      ]
     },
     "execution_count": 27,
     "metadata": {},
     "output_type": "execute_result"
    }
   ],
   "source": [
    "df_final.head(3)"
   ]
  },
  {
   "cell_type": "markdown",
   "id": "af194a6d",
   "metadata": {},
   "source": [
    "### Now lets compute some usefull informations"
   ]
  },
  {
   "cell_type": "markdown",
   "id": "92bbba53",
   "metadata": {
    "id": "92bbba53"
   },
   "source": [
    "##### 1. Total sum of Revenue_Realized"
   ]
  },
  {
   "cell_type": "code",
   "execution_count": 28,
   "id": "bee5f69f",
   "metadata": {
    "colab": {
     "base_uri": "https://localhost:8080/"
    },
    "executionInfo": {
     "elapsed": 24,
     "status": "ok",
     "timestamp": 1664163956591,
     "user": {
      "displayName": "Shubham Sah",
      "userId": "09185991809667538600"
     },
     "user_tz": -330
    },
    "id": "bee5f69f",
    "outputId": "6e948608-8d92-44b2-b686-544e61d5d65e"
   },
   "outputs": [
    {
     "data": {
      "text/plain": [
       "1708771229"
      ]
     },
     "execution_count": 28,
     "metadata": {},
     "output_type": "execute_result"
    }
   ],
   "source": [
    "df_final['revenue_realized'].sum()"
   ]
  },
  {
   "cell_type": "markdown",
   "id": "4UhepMwS6Ess",
   "metadata": {
    "id": "4UhepMwS6Ess"
   },
   "source": [
    "##### 2. Total Counts of Booking Id"
   ]
  },
  {
   "cell_type": "code",
   "execution_count": 29,
   "id": "049faf63",
   "metadata": {
    "colab": {
     "base_uri": "https://localhost:8080/"
    },
    "executionInfo": {
     "elapsed": 647,
     "status": "ok",
     "timestamp": 1664164191937,
     "user": {
      "displayName": "Shubham Sah",
      "userId": "09185991809667538600"
     },
     "user_tz": -330
    },
    "id": "049faf63",
    "outputId": "2310af0a-9bc4-4ca4-93de-6c7adc62b7ec"
   },
   "outputs": [
    {
     "data": {
      "text/plain": [
       "134590"
      ]
     },
     "execution_count": 29,
     "metadata": {},
     "output_type": "execute_result"
    }
   ],
   "source": [
    "df_final['booking_id'].nunique()"
   ]
  },
  {
   "cell_type": "markdown",
   "id": "8XaSbBqH6sGj",
   "metadata": {
    "id": "8XaSbBqH6sGj"
   },
   "source": [
    "##### 3. Average of Ratings given by Customers"
   ]
  },
  {
   "cell_type": "code",
   "execution_count": 30,
   "id": "t_su-hXw6gQP",
   "metadata": {
    "colab": {
     "base_uri": "https://localhost:8080/"
    },
    "executionInfo": {
     "elapsed": 506,
     "status": "ok",
     "timestamp": 1664166253150,
     "user": {
      "displayName": "Shubham Sah",
      "userId": "09185991809667538600"
     },
     "user_tz": -330
    },
    "id": "t_su-hXw6gQP",
    "outputId": "80cb47ca-cade-4e08-b9a6-69af5daeaf4b"
   },
   "outputs": [
    {
     "data": {
      "text/plain": [
       "3.619003934160154"
      ]
     },
     "execution_count": 30,
     "metadata": {},
     "output_type": "execute_result"
    }
   ],
   "source": [
    "df_final['ratings_given'].mean()"
   ]
  },
  {
   "cell_type": "markdown",
   "id": "xECmvcskCqkR",
   "metadata": {
    "id": "xECmvcskCqkR"
   },
   "source": [
    "##### 4. Total Sum of Capacity"
   ]
  },
  {
   "cell_type": "code",
   "execution_count": 31,
   "id": "zN9Pa0PpB-bf",
   "metadata": {
    "executionInfo": {
     "elapsed": 630,
     "status": "ok",
     "timestamp": 1664166735453,
     "user": {
      "displayName": "Shubham Sah",
      "userId": "09185991809667538600"
     },
     "user_tz": -330
    },
    "id": "zN9Pa0PpB-bf"
   },
   "outputs": [
    {
     "data": {
      "text/plain": [
       "232576"
      ]
     },
     "execution_count": 31,
     "metadata": {},
     "output_type": "execute_result"
    }
   ],
   "source": [
    "total_capacity = df_agg['capacity'].sum()\n",
    "total_capacity"
   ]
  },
  {
   "cell_type": "markdown",
   "id": "BKLQnUpuDg1F",
   "metadata": {
    "id": "BKLQnUpuDg1F"
   },
   "source": [
    "##### 5. Sum of successful_bookings from fact_bookings"
   ]
  },
  {
   "cell_type": "code",
   "execution_count": 32,
   "id": "cbeu8Du1C1On",
   "metadata": {
    "executionInfo": {
     "elapsed": 665,
     "status": "ok",
     "timestamp": 1664166761213,
     "user": {
      "displayName": "Shubham Sah",
      "userId": "09185991809667538600"
     },
     "user_tz": -330
    },
    "id": "cbeu8Du1C1On"
   },
   "outputs": [
    {
     "data": {
      "text/plain": [
       "134590"
      ]
     },
     "execution_count": 32,
     "metadata": {},
     "output_type": "execute_result"
    }
   ],
   "source": [
    "Total_successful_bking = df_agg['successful_bookings'].sum()\n",
    "Total_successful_bking"
   ]
  },
  {
   "cell_type": "markdown",
   "id": "9tCZBmyPELV_",
   "metadata": {
    "id": "9tCZBmyPELV_"
   },
   "source": [
    "##### 6. Ratio of Total Successful bookings to Total Capacity"
   ]
  },
  {
   "cell_type": "code",
   "execution_count": 33,
   "id": "9VR6tgV_Dv6t",
   "metadata": {
    "executionInfo": {
     "elapsed": 455,
     "status": "ok",
     "timestamp": 1664166884144,
     "user": {
      "displayName": "Shubham Sah",
      "userId": "09185991809667538600"
     },
     "user_tz": -330
    },
    "id": "9VR6tgV_Dv6t"
   },
   "outputs": [
    {
     "data": {
      "text/plain": [
       "57.86925564116676"
      ]
     },
     "execution_count": 33,
     "metadata": {},
     "output_type": "execute_result"
    }
   ],
   "source": [
    "Occupancy_ratio = Total_successful_bking / total_capacity\n",
    "Occupancy_Rate = Occupancy_ratio*100\n",
    "Occupancy_Rate"
   ]
  },
  {
   "cell_type": "markdown",
   "id": "bmG4AxjFG3vP",
   "metadata": {
    "id": "bmG4AxjFG3vP"
   },
   "source": [
    "#####  7. Count of booking_id in which booking_status = \"Cancelled\""
   ]
  },
  {
   "cell_type": "code",
   "execution_count": 34,
   "id": "SseOkTMZKIw9",
   "metadata": {
    "colab": {
     "base_uri": "https://localhost:8080/",
     "height": 143
    },
    "executionInfo": {
     "elapsed": 460,
     "status": "ok",
     "timestamp": 1664168279452,
     "user": {
      "displayName": "Shubham Sah",
      "userId": "09185991809667538600"
     },
     "user_tz": -330
    },
    "id": "SseOkTMZKIw9",
    "outputId": "471018cf-500a-4ba4-f8b9-309ed4e1f94b"
   },
   "outputs": [
    {
     "data": {
      "text/plain": [
       "booking_status\n",
       "Cancelled      33420\n",
       "Checked Out    94411\n",
       "No Show         6759\n",
       "Name: booking_id, dtype: int64"
      ]
     },
     "execution_count": 34,
     "metadata": {},
     "output_type": "execute_result"
    }
   ],
   "source": [
    "df_final.groupby('booking_status')['booking_id'].count()"
   ]
  },
  {
   "cell_type": "code",
   "execution_count": 35,
   "id": "5f0eadea",
   "metadata": {},
   "outputs": [
    {
     "name": "stdout",
     "output_type": "stream",
     "text": [
      "Cancelled    33420\n",
      "Name: booking_status, dtype: int64\n"
     ]
    }
   ],
   "source": [
    "no_cancelled = df_final[df_final['booking_status'] == 'Cancelled'].booking_status.value_counts()\n",
    "print(no_cancelled)"
   ]
  },
  {
   "cell_type": "markdown",
   "id": "je5lUnzCH57E",
   "metadata": {
    "id": "je5lUnzCH57E"
   },
   "source": [
    "##### 8. Ratio of 'Total Cancelled Bookings' to 'Total Bookings'"
   ]
  },
  {
   "cell_type": "code",
   "execution_count": 36,
   "id": "BOmzbz-XJcQA",
   "metadata": {
    "executionInfo": {
     "elapsed": 721,
     "status": "ok",
     "timestamp": 1664168485166,
     "user": {
      "displayName": "Shubham Sah",
      "userId": "09185991809667538600"
     },
     "user_tz": -330
    },
    "id": "BOmzbz-XJcQA"
   },
   "outputs": [
    {
     "data": {
      "text/plain": [
       "Cancelled    24.830968\n",
       "Name: booking_status, dtype: float64"
      ]
     },
     "execution_count": 36,
     "metadata": {},
     "output_type": "execute_result"
    }
   ],
   "source": [
    "cancelleation_rate = no_cancelled/ Total_successful_bking *100\n",
    "cancelleation_rate"
   ]
  },
  {
   "cell_type": "markdown",
   "id": "f7d99fe4",
   "metadata": {},
   "source": [
    "#### 9. Total Revenue Generated"
   ]
  },
  {
   "cell_type": "code",
   "execution_count": 37,
   "id": "ebe11cc8",
   "metadata": {},
   "outputs": [
    {
     "data": {
      "text/plain": [
       "2007546215"
      ]
     },
     "execution_count": 37,
     "metadata": {},
     "output_type": "execute_result"
    }
   ],
   "source": [
    "df_final['revenue_generated'].sum()"
   ]
  },
  {
   "cell_type": "markdown",
   "id": "ce01e2d2",
   "metadata": {},
   "source": [
    "### Conclussion or Observations\n",
    "1. Total Sum of Revenue Realized =  _____________1708771229 apprx =___ 1.71bn\n",
    "2. Total Counts of Booking Id =     _____________________134590\n",
    "3. Average of Ratings given by Customers = _______________________3.62\n",
    "4. Total Sum of Capacity = __________________________________232576\n",
    "5. Total Sum of successful bookings = __________________134590\n",
    "6. Occupancy Rate = __________________________________ 57.87 %\n",
    "7. Count of booking_id in which booking_status = \"Cancelled\" =_______33420\n",
    "8. Cancellation Rate = ______________________________________24.83 %\n",
    "9. Total Revenue Generated =________2007546215 approx = ________2bn\n",
    "10. Total revenue loss = Revenue Generated - Revenue Realized =__ 298774986 approx = ______ 0.3bn\n",
    "11. Total room left unfilled = capacity - successfull booking = ______ 97,986"
   ]
  },
  {
   "cell_type": "markdown",
   "id": "2015258d",
   "metadata": {
    "id": "v-zh3nmqKEnu"
   },
   "source": [
    "## Maximum Revenue Realized.\n",
    "1. Revenue realized according to city, category, room category and property name\n",
    "2. Rating given according to room category and property type\n"
   ]
  },
  {
   "cell_type": "code",
   "execution_count": 45,
   "id": "988be2ba",
   "metadata": {},
   "outputs": [],
   "source": [
    "price_RT1 = df_final[df_final['room_category'] == 'Standard']['revenue_generated'].mean()\n",
    "price_RT2 = df_final[df_final['room_category'] == 'Elite']['revenue_generated'].mean()\n",
    "price_RT3 = df_final[df_final['room_category'] == 'Premium']['revenue_generated'].mean()\n",
    "price_RT4 = df_final[df_final['room_category'] == 'Presidential']['revenue_generated'].mean()"
   ]
  },
  {
   "cell_type": "code",
   "execution_count": 46,
   "id": "393d5940",
   "metadata": {},
   "outputs": [
    {
     "data": {
      "text/html": [
       "<div>\n",
       "<style scoped>\n",
       "    .dataframe tbody tr th:only-of-type {\n",
       "        vertical-align: middle;\n",
       "    }\n",
       "\n",
       "    .dataframe tbody tr th {\n",
       "        vertical-align: top;\n",
       "    }\n",
       "\n",
       "    .dataframe thead th {\n",
       "        text-align: right;\n",
       "    }\n",
       "</style>\n",
       "<table border=\"1\" class=\"dataframe\">\n",
       "  <thead>\n",
       "    <tr style=\"text-align: right;\">\n",
       "      <th></th>\n",
       "      <th>Room_category</th>\n",
       "      <th>Avg_Price</th>\n",
       "    </tr>\n",
       "  </thead>\n",
       "  <tbody>\n",
       "    <tr>\n",
       "      <th>0</th>\n",
       "      <td>Standard</td>\n",
       "      <td>9455.995292</td>\n",
       "    </tr>\n",
       "    <tr>\n",
       "      <th>1</th>\n",
       "      <td>Elite</td>\n",
       "      <td>13310.699121</td>\n",
       "    </tr>\n",
       "    <tr>\n",
       "      <th>2</th>\n",
       "      <td>Premium</td>\n",
       "      <td>17784.395734</td>\n",
       "    </tr>\n",
       "    <tr>\n",
       "      <th>3</th>\n",
       "      <td>Presidential</td>\n",
       "      <td>27465.751260</td>\n",
       "    </tr>\n",
       "  </tbody>\n",
       "</table>\n",
       "</div>"
      ],
      "text/plain": [
       "  Room_category     Avg_Price\n",
       "0      Standard   9455.995292\n",
       "1         Elite  13310.699121\n",
       "2       Premium  17784.395734\n",
       "3  Presidential  27465.751260"
      ]
     },
     "execution_count": 46,
     "metadata": {},
     "output_type": "execute_result"
    }
   ],
   "source": [
    "data = {'Room_category' : ['Standard','Elite','Premium','Presidential'],\n",
    "       'Avg_Price': [price_RT1,price_RT2,price_RT3,price_RT4]}\n",
    "Avg_price_room = pd.DataFrame(data)\n",
    "Avg_price_room"
   ]
  },
  {
   "cell_type": "markdown",
   "id": "143c95ad",
   "metadata": {
    "id": "6b680f99"
   },
   "source": [
    "##### Total sum of Revenue_Realized from each room_category"
   ]
  },
  {
   "cell_type": "code",
   "execution_count": 39,
   "id": "76623674",
   "metadata": {
    "colab": {
     "base_uri": "https://localhost:8080/",
     "height": 206
    },
    "executionInfo": {
     "elapsed": 17,
     "status": "ok",
     "timestamp": 1664163956592,
     "user": {
      "displayName": "Shubham Sah",
      "userId": "09185991809667538600"
     },
     "user_tz": -330
    },
    "id": "f7a2e3a1",
    "outputId": "234e3c93-9726-47df-9192-38993324e0a8"
   },
   "outputs": [
    {
     "data": {
      "text/plain": [
       "<AxesSubplot:xlabel='room_category'>"
      ]
     },
     "execution_count": 39,
     "metadata": {},
     "output_type": "execute_result"
    },
    {
     "data": {
      "image/png": "[encoded data removed]",
      "text/plain": [
       "<Figure size 432x288 with 1 Axes>"
      ]
     },
     "metadata": {
      "needs_background": "light"
     },
     "output_type": "display_data"
    }
   ],
   "source": [
    "df_final.groupby(['room_category','category'])['revenue_realized'].sum().unstack().plot.bar()"
   ]
  },
  {
   "cell_type": "code",
   "execution_count": 40,
   "id": "e5f5f3dd",
   "metadata": {},
   "outputs": [
    {
     "ename": "SyntaxError",
     "evalue": "invalid syntax (3370063403.py, line 2)",
     "output_type": "error",
     "traceback": [
      "\u001b[1;36m  Input \u001b[1;32mIn [40]\u001b[1;36m\u001b[0m\n\u001b[1;33m    1. Luxuary hotels of Elite room category Generate maximum Revenue follwed by Premium\u001b[0m\n\u001b[1;37m       ^\u001b[0m\n\u001b[1;31mSyntaxError\u001b[0m\u001b[1;31m:\u001b[0m invalid syntax\n"
     ]
    }
   ],
   "source": [
    "### Observations \n",
    "1. Luxuary hotels of Elite room category Generate maximum Revenue follwed by Premium\n",
    "2. Standard room category Generate less among all type of room category\n",
    "3. Elite is second class "
   ]
  },
  {
   "cell_type": "code",
   "execution_count": null,
   "id": "f83039b2",
   "metadata": {},
   "outputs": [],
   "source": [
    "city_rev_val = df_final.city.value_counts().values"
   ]
  },
  {
   "cell_type": "code",
   "execution_count": null,
   "id": "849d6eee",
   "metadata": {},
   "outputs": [],
   "source": [
    "city_rev_index = df_final.city.value_counts().index"
   ]
  },
  {
   "cell_type": "code",
   "execution_count": null,
   "id": "4df4a2db",
   "metadata": {},
   "outputs": [],
   "source": [
    "plt.pie(city_rev_val, labels=city_rev_index, autopct= '%1.2f%%')"
   ]
  },
  {
   "cell_type": "code",
   "execution_count": null,
   "id": "6e5d983d",
   "metadata": {},
   "outputs": [],
   "source": [
    "category_rev_val = df_final.category.value_counts().values\n",
    "category_rev_index = df_final.category.value_counts().index\n",
    "plt.pie(category_rev_val, labels=category_rev_index, autopct= '%1.2f%%')"
   ]
  },
  {
   "cell_type": "code",
   "execution_count": null,
   "id": "06eb8549",
   "metadata": {},
   "outputs": [],
   "source": [
    "property_rev_val = df_final.property_name.value_counts().values\n",
    "property_rev_index = df_final.property_name.value_counts().index\n",
    "plt.pie(property_rev_val, labels=property_rev_index, autopct= '%1.2f%%')"
   ]
  },
  {
   "cell_type": "code",
   "execution_count": null,
   "id": "16ce9119",
   "metadata": {},
   "outputs": [],
   "source": [
    "room_category_rev_val = df_final.room_category.value_counts().values\n",
    "room_category_rev_index = df_final.room_category.value_counts().index\n",
    "plt.pie(room_category_rev_val, labels=room_category_rev_index, autopct= '%1.2f%%')"
   ]
  },
  {
   "cell_type": "code",
   "execution_count": null,
   "id": "494d1a73",
   "metadata": {},
   "outputs": [],
   "source": [
    "df_final['ratings_given'].value_counts()"
   ]
  },
  {
   "cell_type": "code",
   "execution_count": null,
   "id": "ca92a433",
   "metadata": {},
   "outputs": [],
   "source": [
    "df_final.groupby('city')['ratings_given'].mean()"
   ]
  },
  {
   "cell_type": "code",
   "execution_count": null,
   "id": "2665e3e5",
   "metadata": {},
   "outputs": [],
   "source": [
    "df_final.groupby('room_category')['ratings_given'].mean()"
   ]
  },
  {
   "cell_type": "code",
   "execution_count": null,
   "id": "8d994d4e",
   "metadata": {},
   "outputs": [],
   "source": [
    "df_final.groupby('category')['ratings_given'].mean()"
   ]
  },
  {
   "cell_type": "code",
   "execution_count": null,
   "id": "bc94c6a2",
   "metadata": {},
   "outputs": [],
   "source": [
    "df_final.groupby(['room_category','city'])['ratings_given'].mean().unstack().plot.bar()"
   ]
  },
  {
   "cell_type": "code",
   "execution_count": null,
   "id": "8cd945b9",
   "metadata": {},
   "outputs": [],
   "source": [
    "df_final.groupby(['category','room_category','city'])['ratings_given'].mean().unstack().plot.bar()"
   ]
  },
  {
   "cell_type": "code",
   "execution_count": null,
   "id": "5755b5fb",
   "metadata": {},
   "outputs": [],
   "source": [
    "df_final.groupby(['category','city'])['ratings_given'].mean().unstack()"
   ]
  },
  {
   "cell_type": "code",
   "execution_count": null,
   "id": "72e8dd48",
   "metadata": {},
   "outputs": [],
   "source": [
    "booking_status_rev_val = df_final.booking_status.value_counts().values\n",
    "booking_status_rev_index = df_final.booking_status.value_counts().index\n",
    "plt.pie(booking_status_rev_val, labels=booking_status_rev_index, autopct= '%1.2f%%')"
   ]
  },
  {
   "cell_type": "code",
   "execution_count": null,
   "id": "4643f739",
   "metadata": {},
   "outputs": [],
   "source": [
    "df_final.groupby(['booking_status','city'])['city'].count().unstack().plot.bar()"
   ]
  },
  {
   "cell_type": "code",
   "execution_count": null,
   "id": "6d145dd4",
   "metadata": {},
   "outputs": [],
   "source": [
    "booking_platform_rev_val = df_final.booking_platform.value_counts().values\n",
    "booking_platform_rev_index = df_final.booking_platform.value_counts().index\n",
    "plt.pie(booking_platform_rev_val, labels=booking_platform_rev_index, autopct= '%1.2f%%')"
   ]
  },
  {
   "cell_type": "code",
   "execution_count": null,
   "id": "5ec50d3d",
   "metadata": {},
   "outputs": [],
   "source": [
    "df_hotel_fact.groupby('city')['no_guests'].sum().plot.bar()\n",
    "# for index, value in enumerate(y):\n",
    "#     plt. text(value, index, s=str(value))"
   ]
  },
  {
   "cell_type": "code",
   "execution_count": null,
   "id": "6b91ce9d",
   "metadata": {},
   "outputs": [],
   "source": [
    "dfg = df_final.groupby('day_type')['revenue_realized'].sum()\n",
    "# .plot.bar(label = 'revenue_realized')\n",
    "dfg.plot(kind='bar', title='Arrests', ylabel='Mean Arrests',  xlabel='Home Team', figsize=(6, 5))"
   ]
  },
  {
   "cell_type": "code",
   "execution_count": null,
   "id": "06bd9a3b",
   "metadata": {},
   "outputs": [],
   "source": [
    "df_final.groupby('day_type')['revenue_generated'].sum()"
   ]
  },
  {
   "cell_type": "code",
   "execution_count": null,
   "id": "7af580fa",
   "metadata": {},
   "outputs": [],
   "source": []
  },
  {
   "cell_type": "code",
   "execution_count": null,
   "id": "99143028",
   "metadata": {},
   "outputs": [],
   "source": []
  },
  {
   "cell_type": "code",
   "execution_count": null,
   "id": "69f394b5",
   "metadata": {},
   "outputs": [],
   "source": []
  },
  {
   "cell_type": "code",
   "execution_count": null,
   "id": "48d27844",
   "metadata": {},
   "outputs": [],
   "source": []
  },
  {
   "cell_type": "code",
   "execution_count": null,
   "id": "f206907c",
   "metadata": {},
   "outputs": [],
   "source": []
  },
  {
   "cell_type": "code",
   "execution_count": null,
   "id": "1d8f6053",
   "metadata": {},
   "outputs": [],
   "source": []
  },
  {
   "cell_type": "code",
   "execution_count": null,
   "id": "71d49760",
   "metadata": {},
   "outputs": [],
   "source": []
  },
  {
   "cell_type": "code",
   "execution_count": null,
   "id": "054557a6",
   "metadata": {},
   "outputs": [],
   "source": []
  },
  {
   "cell_type": "code",
   "execution_count": null,
   "id": "d62684d4",
   "metadata": {},
   "outputs": [],
   "source": []
  },
  {
   "cell_type": "code",
   "execution_count": null,
   "id": "0c52c93f",
   "metadata": {},
   "outputs": [],
   "source": []
  },
  {
   "cell_type": "code",
   "execution_count": null,
   "id": "873bf396",
   "metadata": {},
   "outputs": [],
   "source": []
  },
  {
   "cell_type": "code",
   "execution_count": null,
   "id": "38528a0d",
   "metadata": {},
   "outputs": [],
   "source": []
  },
  {
   "cell_type": "code",
   "execution_count": null,
   "id": "0cc924fa",
   "metadata": {},
   "outputs": [],
   "source": []
  },
  {
   "cell_type": "code",
   "execution_count": null,
   "id": "c62915c3",
   "metadata": {},
   "outputs": [],
   "source": []
  },
  {
   "cell_type": "code",
   "execution_count": null,
   "id": "da46406f",
   "metadata": {},
   "outputs": [],
   "source": []
  },
  {
   "cell_type": "code",
   "execution_count": null,
   "id": "adc06da0",
   "metadata": {},
   "outputs": [],
   "source": []
  },
  {
   "cell_type": "code",
   "execution_count": null,
   "id": "d3e789cd",
   "metadata": {},
   "outputs": [],
   "source": []
  },
  {
   "cell_type": "code",
   "execution_count": null,
   "id": "1ab3ec5d",
   "metadata": {},
   "outputs": [],
   "source": []
  },
  {
   "cell_type": "code",
   "execution_count": null,
   "id": "f57e406c",
   "metadata": {},
   "outputs": [],
   "source": []
  },
  {
   "cell_type": "code",
   "execution_count": null,
   "id": "bc432c2e",
   "metadata": {},
   "outputs": [],
   "source": []
  },
  {
   "cell_type": "code",
   "execution_count": null,
   "id": "33864819",
   "metadata": {},
   "outputs": [],
   "source": []
  }
 ],
 "metadata": {
  "colab": {
   "collapsed_sections": [],
   "provenance": []
  },
  "kernelspec": {
   "display_name": "Python 3 (ipykernel)",
   "language": "python",
   "name": "python3"
  },
  "language_info": {
   "codemirror_mode": {
    "name": "ipython",
    "version": 3
   },
   "file_extension": ".py",
   "mimetype": "text/x-python",
   "name": "python",
   "nbconvert_exporter": "python",
   "pygments_lexer": "ipython3",
   "version": "3.9.12"
  }
 },
 "nbformat": 4,
 "nbformat_minor": 5
}
