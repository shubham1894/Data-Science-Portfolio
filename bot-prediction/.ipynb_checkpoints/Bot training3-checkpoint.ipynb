{
 "cells": [
  {
   "cell_type": "code",
   "execution_count": 129,
   "id": "0f7cf661",
   "metadata": {},
   "outputs": [],
   "source": [
    "import pandas as pd\n",
    "import numpy as np\n",
    "import matplotlib.pyplot as plt\n",
    "%matplotlib inline\n",
    "import seaborn as sns\n",
    "from sklearn.model_selection import train_test_split, cross_val_score\n",
    "from sklearn.preprocessing import LabelEncoder"
   ]
  },
  {
   "cell_type": "code",
   "execution_count": 130,
   "id": "bbb66a22",
   "metadata": {},
   "outputs": [],
   "source": [
    "data_path1 = r\"C:\\Users\\Shubham\\Music\\Kaggle Competition\\Bot Prediction\\bot-prediction\\train.csv\"\n",
    "data_path2 = r\"C:\\Users\\Shubham\\Music\\Kaggle Competition\\Bot Prediction\\bot-prediction\\test.csv\"\n",
    "train_df = pd.read_csv(data_path1)\n",
    "test_df =  pd.read_csv(data_path2)"
   ]
  },
  {
   "cell_type": "code",
   "execution_count": 131,
   "id": "c64e8300",
   "metadata": {},
   "outputs": [
    {
     "data": {
      "text/plain": [
       "186814"
      ]
     },
     "execution_count": 131,
     "metadata": {},
     "output_type": "execute_result"
    }
   ],
   "source": [
    "train_len = len(train_df)\n",
    "train_len"
   ]
  },
  {
   "cell_type": "code",
   "execution_count": 132,
   "id": "58d75905",
   "metadata": {},
   "outputs": [],
   "source": [
    "df = pd.concat([train_df,test_df], axis=0)\n",
    "df = df.reset_index()"
   ]
  },
  {
   "cell_type": "code",
   "execution_count": 133,
   "id": "fae78a73",
   "metadata": {},
   "outputs": [],
   "source": [
    "# First fill missing value in secondary Domain\n",
    "df['sec_lvl_domn'] = df['sec_lvl_domn'].fillna(df['sec_lvl_domn'].mode()[0])"
   ]
  },
  {
   "cell_type": "code",
   "execution_count": 134,
   "id": "3079f5f6",
   "metadata": {},
   "outputs": [],
   "source": [
    "df.drop(['device_type','page_vw_ts','wk','mth','yr','user_agent','operating_sys','page_url','index'],axis=1, inplace= True)"
   ]
  },
  {
   "cell_type": "code",
   "execution_count": 135,
   "id": "5fc1dfe5",
   "metadata": {},
   "outputs": [
    {
     "data": {
      "text/html": [
       "<div>\n",
       "<style scoped>\n",
       "    .dataframe tbody tr th:only-of-type {\n",
       "        vertical-align: middle;\n",
       "    }\n",
       "\n",
       "    .dataframe tbody tr th {\n",
       "        vertical-align: top;\n",
       "    }\n",
       "\n",
       "    .dataframe thead th {\n",
       "        text-align: right;\n",
       "    }\n",
       "</style>\n",
       "<table border=\"1\" class=\"dataframe\">\n",
       "  <thead>\n",
       "    <tr style=\"text-align: right;\">\n",
       "      <th></th>\n",
       "      <th>ctry_name</th>\n",
       "      <th>intgrtd_mngmt_name</th>\n",
       "      <th>intgrtd_operating_team_name</th>\n",
       "      <th>city</th>\n",
       "      <th>st</th>\n",
       "      <th>sec_lvl_domn</th>\n",
       "      <th>ip_addr</th>\n",
       "      <th>VISIT</th>\n",
       "      <th>ENGD_VISIT</th>\n",
       "      <th>VIEWS</th>\n",
       "      <th>target</th>\n",
       "    </tr>\n",
       "  </thead>\n",
       "  <tbody>\n",
       "    <tr>\n",
       "      <th>0</th>\n",
       "      <td>United Kingdom</td>\n",
       "      <td>UKI</td>\n",
       "      <td>Europe</td>\n",
       "      <td>BARLOW</td>\n",
       "      <td>DERBYSHIRE</td>\n",
       "      <td>HSBC.COM</td>\n",
       "      <td>d96016a12f445fb7fadb4ff2396934c8345684f9f60299...</td>\n",
       "      <td>1</td>\n",
       "      <td>0</td>\n",
       "      <td>1</td>\n",
       "      <td>1.0</td>\n",
       "    </tr>\n",
       "    <tr>\n",
       "      <th>1</th>\n",
       "      <td>Liechtenstein</td>\n",
       "      <td>DACH</td>\n",
       "      <td>Europe</td>\n",
       "      <td>VADUZ</td>\n",
       "      <td>VADUZ</td>\n",
       "      <td>LLB.LI</td>\n",
       "      <td>80e5ef49efbe02e7a7f34a5fb482cd748aa27f3409acc8...</td>\n",
       "      <td>1</td>\n",
       "      <td>0</td>\n",
       "      <td>1</td>\n",
       "      <td>1.0</td>\n",
       "    </tr>\n",
       "    <tr>\n",
       "      <th>2</th>\n",
       "      <td>United Kingdom</td>\n",
       "      <td>UKI</td>\n",
       "      <td>Europe</td>\n",
       "      <td>THORNEY</td>\n",
       "      <td>PETERBOROUGH</td>\n",
       "      <td>VSNL.NET.IN</td>\n",
       "      <td>9d847da112b5b428419bee77e4387f8d08e7139045285d...</td>\n",
       "      <td>1</td>\n",
       "      <td>0</td>\n",
       "      <td>1</td>\n",
       "      <td>1.0</td>\n",
       "    </tr>\n",
       "    <tr>\n",
       "      <th>3</th>\n",
       "      <td>China</td>\n",
       "      <td>Greater China</td>\n",
       "      <td>Greater China Group</td>\n",
       "      <td>BEIJING</td>\n",
       "      <td>BEIJING SHI</td>\n",
       "      <td>VSNL.NET.IN</td>\n",
       "      <td>16d56bf0f01a14b3f5c97389648b9a01f9f05e0890d0b1...</td>\n",
       "      <td>1</td>\n",
       "      <td>1</td>\n",
       "      <td>1</td>\n",
       "      <td>1.0</td>\n",
       "    </tr>\n",
       "    <tr>\n",
       "      <th>4</th>\n",
       "      <td>India</td>\n",
       "      <td>India-South Asia</td>\n",
       "      <td>Asia Pacific</td>\n",
       "      <td>NEW DELHI</td>\n",
       "      <td>DELHI</td>\n",
       "      <td>TCS.COM</td>\n",
       "      <td>7deb0d8f51dd6d5e10fa7fbc1a7eec42a9a6837058e1e0...</td>\n",
       "      <td>1</td>\n",
       "      <td>1</td>\n",
       "      <td>1</td>\n",
       "      <td>1.0</td>\n",
       "    </tr>\n",
       "  </tbody>\n",
       "</table>\n",
       "</div>"
      ],
      "text/plain": [
       "        ctry_name intgrtd_mngmt_name intgrtd_operating_team_name       city  \\\n",
       "0  United Kingdom                UKI                      Europe     BARLOW   \n",
       "1   Liechtenstein               DACH                      Europe      VADUZ   \n",
       "2  United Kingdom                UKI                      Europe    THORNEY   \n",
       "3           China      Greater China         Greater China Group    BEIJING   \n",
       "4           India   India-South Asia                Asia Pacific  NEW DELHI   \n",
       "\n",
       "             st sec_lvl_domn  \\\n",
       "0    DERBYSHIRE     HSBC.COM   \n",
       "1         VADUZ       LLB.LI   \n",
       "2  PETERBOROUGH  VSNL.NET.IN   \n",
       "3   BEIJING SHI  VSNL.NET.IN   \n",
       "4         DELHI      TCS.COM   \n",
       "\n",
       "                                             ip_addr  VISIT  ENGD_VISIT  \\\n",
       "0  d96016a12f445fb7fadb4ff2396934c8345684f9f60299...      1           0   \n",
       "1  80e5ef49efbe02e7a7f34a5fb482cd748aa27f3409acc8...      1           0   \n",
       "2  9d847da112b5b428419bee77e4387f8d08e7139045285d...      1           0   \n",
       "3  16d56bf0f01a14b3f5c97389648b9a01f9f05e0890d0b1...      1           1   \n",
       "4  7deb0d8f51dd6d5e10fa7fbc1a7eec42a9a6837058e1e0...      1           1   \n",
       "\n",
       "   VIEWS  target  \n",
       "0      1     1.0  \n",
       "1      1     1.0  \n",
       "2      1     1.0  \n",
       "3      1     1.0  \n",
       "4      1     1.0  "
      ]
     },
     "execution_count": 135,
     "metadata": {},
     "output_type": "execute_result"
    }
   ],
   "source": [
    "df.head()"
   ]
  },
  {
   "cell_type": "code",
   "execution_count": 136,
   "id": "eb9507ad",
   "metadata": {},
   "outputs": [
    {
     "name": "stdout",
     "output_type": "stream",
     "text": [
      "<class 'pandas.core.frame.DataFrame'>\n",
      "RangeIndex: 233518 entries, 0 to 233517\n",
      "Data columns (total 11 columns):\n",
      " #   Column                       Non-Null Count   Dtype  \n",
      "---  ------                       --------------   -----  \n",
      " 0   ctry_name                    233518 non-null  object \n",
      " 1   intgrtd_mngmt_name           233518 non-null  object \n",
      " 2   intgrtd_operating_team_name  233518 non-null  object \n",
      " 3   city                         233518 non-null  object \n",
      " 4   st                           233518 non-null  object \n",
      " 5   sec_lvl_domn                 233518 non-null  object \n",
      " 6   ip_addr                      233518 non-null  object \n",
      " 7   VISIT                        233518 non-null  int64  \n",
      " 8   ENGD_VISIT                   233518 non-null  int64  \n",
      " 9   VIEWS                        233518 non-null  int64  \n",
      " 10  target                       186814 non-null  float64\n",
      "dtypes: float64(1), int64(3), object(7)\n",
      "memory usage: 19.6+ MB\n"
     ]
    }
   ],
   "source": [
    "df.info()"
   ]
  },
  {
   "cell_type": "code",
   "execution_count": 137,
   "id": "50b902e6",
   "metadata": {},
   "outputs": [
    {
     "data": {
      "text/html": [
       "<div>\n",
       "<style scoped>\n",
       "    .dataframe tbody tr th:only-of-type {\n",
       "        vertical-align: middle;\n",
       "    }\n",
       "\n",
       "    .dataframe tbody tr th {\n",
       "        vertical-align: top;\n",
       "    }\n",
       "\n",
       "    .dataframe thead th {\n",
       "        text-align: right;\n",
       "    }\n",
       "</style>\n",
       "<table border=\"1\" class=\"dataframe\">\n",
       "  <thead>\n",
       "    <tr style=\"text-align: right;\">\n",
       "      <th></th>\n",
       "      <th>ctry_name</th>\n",
       "      <th>intgrtd_mngmt_name</th>\n",
       "      <th>intgrtd_operating_team_name</th>\n",
       "      <th>city</th>\n",
       "      <th>st</th>\n",
       "      <th>sec_lvl_domn</th>\n",
       "      <th>ip_addr</th>\n",
       "      <th>VISIT</th>\n",
       "      <th>ENGD_VISIT</th>\n",
       "      <th>VIEWS</th>\n",
       "      <th>target</th>\n",
       "    </tr>\n",
       "  </thead>\n",
       "  <tbody>\n",
       "    <tr>\n",
       "      <th>0</th>\n",
       "      <td>117</td>\n",
       "      <td>18</td>\n",
       "      <td>1</td>\n",
       "      <td>126</td>\n",
       "      <td>141</td>\n",
       "      <td>1163</td>\n",
       "      <td>6149</td>\n",
       "      <td>1</td>\n",
       "      <td>0</td>\n",
       "      <td>1</td>\n",
       "      <td>1.0</td>\n",
       "    </tr>\n",
       "    <tr>\n",
       "      <th>1</th>\n",
       "      <td>67</td>\n",
       "      <td>6</td>\n",
       "      <td>1</td>\n",
       "      <td>1732</td>\n",
       "      <td>595</td>\n",
       "      <td>1464</td>\n",
       "      <td>3635</td>\n",
       "      <td>1</td>\n",
       "      <td>0</td>\n",
       "      <td>1</td>\n",
       "      <td>1.0</td>\n",
       "    </tr>\n",
       "    <tr>\n",
       "      <th>2</th>\n",
       "      <td>117</td>\n",
       "      <td>18</td>\n",
       "      <td>1</td>\n",
       "      <td>1652</td>\n",
       "      <td>446</td>\n",
       "      <td>2700</td>\n",
       "      <td>4442</td>\n",
       "      <td>1</td>\n",
       "      <td>0</td>\n",
       "      <td>1</td>\n",
       "      <td>1.0</td>\n",
       "    </tr>\n",
       "    <tr>\n",
       "      <th>3</th>\n",
       "      <td>24</td>\n",
       "      <td>8</td>\n",
       "      <td>2</td>\n",
       "      <td>140</td>\n",
       "      <td>65</td>\n",
       "      <td>2700</td>\n",
       "      <td>641</td>\n",
       "      <td>1</td>\n",
       "      <td>1</td>\n",
       "      <td>1</td>\n",
       "      <td>1.0</td>\n",
       "    </tr>\n",
       "    <tr>\n",
       "      <th>4</th>\n",
       "      <td>52</td>\n",
       "      <td>9</td>\n",
       "      <td>0</td>\n",
       "      <td>1153</td>\n",
       "      <td>139</td>\n",
       "      <td>2391</td>\n",
       "      <td>3547</td>\n",
       "      <td>1</td>\n",
       "      <td>1</td>\n",
       "      <td>1</td>\n",
       "      <td>1.0</td>\n",
       "    </tr>\n",
       "  </tbody>\n",
       "</table>\n",
       "</div>"
      ],
      "text/plain": [
       "   ctry_name  intgrtd_mngmt_name  intgrtd_operating_team_name  city   st  \\\n",
       "0        117                  18                            1   126  141   \n",
       "1         67                   6                            1  1732  595   \n",
       "2        117                  18                            1  1652  446   \n",
       "3         24                   8                            2   140   65   \n",
       "4         52                   9                            0  1153  139   \n",
       "\n",
       "   sec_lvl_domn  ip_addr  VISIT  ENGD_VISIT  VIEWS  target  \n",
       "0          1163     6149      1           0      1     1.0  \n",
       "1          1464     3635      1           0      1     1.0  \n",
       "2          2700     4442      1           0      1     1.0  \n",
       "3          2700      641      1           1      1     1.0  \n",
       "4          2391     3547      1           1      1     1.0  "
      ]
     },
     "execution_count": 137,
     "metadata": {},
     "output_type": "execute_result"
    }
   ],
   "source": [
    "cols = ['ctry_name','intgrtd_mngmt_name','intgrtd_operating_team_name','city','st','sec_lvl_domn','ip_addr']\n",
    "\n",
    "le = LabelEncoder()\n",
    "\n",
    "for i in cols:\n",
    "    df[i] = le.fit_transform(df[i])\n",
    "df.head()"
   ]
  },
  {
   "cell_type": "code",
   "execution_count": 138,
   "id": "1bdeaa94",
   "metadata": {},
   "outputs": [],
   "source": [
    "train_df2 = df.iloc[:train_len, :]\n",
    "test_df2 = df.iloc[train_len:,:]"
   ]
  },
  {
   "cell_type": "code",
   "execution_count": 139,
   "id": "a3951b36",
   "metadata": {},
   "outputs": [
    {
     "data": {
      "text/plain": [
       "7207"
      ]
     },
     "execution_count": 139,
     "metadata": {},
     "output_type": "execute_result"
    }
   ],
   "source": [
    "train_df2['ip_addr'].nunique()"
   ]
  },
  {
   "cell_type": "code",
   "execution_count": 140,
   "id": "21cdd38c",
   "metadata": {},
   "outputs": [
    {
     "data": {
      "text/plain": [
       "(186814, 11)"
      ]
     },
     "execution_count": 140,
     "metadata": {},
     "output_type": "execute_result"
    }
   ],
   "source": [
    "train_df2.shape"
   ]
  },
  {
   "cell_type": "code",
   "execution_count": 141,
   "id": "45f80fc2",
   "metadata": {},
   "outputs": [
    {
     "data": {
      "text/plain": [
       "(46704, 11)"
      ]
     },
     "execution_count": 141,
     "metadata": {},
     "output_type": "execute_result"
    }
   ],
   "source": [
    "test_df2.shape"
   ]
  },
  {
   "cell_type": "code",
   "execution_count": 142,
   "id": "bcff0003",
   "metadata": {},
   "outputs": [],
   "source": [
    "X = train_df2.iloc[:,:-1]\n",
    "y = train_df2.iloc[:,-1]"
   ]
  },
  {
   "cell_type": "code",
   "execution_count": 143,
   "id": "7bbe4e98",
   "metadata": {},
   "outputs": [
    {
     "data": {
      "text/plain": [
       "(186814, 10)"
      ]
     },
     "execution_count": 143,
     "metadata": {},
     "output_type": "execute_result"
    }
   ],
   "source": [
    "X.shape"
   ]
  },
  {
   "cell_type": "code",
   "execution_count": 144,
   "id": "3c1e5008",
   "metadata": {},
   "outputs": [
    {
     "data": {
      "text/plain": [
       "(186814,)"
      ]
     },
     "execution_count": 144,
     "metadata": {},
     "output_type": "execute_result"
    }
   ],
   "source": [
    "y.shape"
   ]
  },
  {
   "cell_type": "code",
   "execution_count": 145,
   "id": "3f1cc867",
   "metadata": {},
   "outputs": [
    {
     "data": {
      "text/plain": [
       "0    1.0\n",
       "1    1.0\n",
       "2    1.0\n",
       "3    1.0\n",
       "4    1.0\n",
       "Name: target, dtype: float64"
      ]
     },
     "execution_count": 145,
     "metadata": {},
     "output_type": "execute_result"
    }
   ],
   "source": [
    "y.head()"
   ]
  },
  {
   "cell_type": "code",
   "execution_count": 146,
   "id": "a21efbc1",
   "metadata": {},
   "outputs": [
    {
     "data": {
      "text/html": [
       "<div>\n",
       "<style scoped>\n",
       "    .dataframe tbody tr th:only-of-type {\n",
       "        vertical-align: middle;\n",
       "    }\n",
       "\n",
       "    .dataframe tbody tr th {\n",
       "        vertical-align: top;\n",
       "    }\n",
       "\n",
       "    .dataframe thead th {\n",
       "        text-align: right;\n",
       "    }\n",
       "</style>\n",
       "<table border=\"1\" class=\"dataframe\">\n",
       "  <thead>\n",
       "    <tr style=\"text-align: right;\">\n",
       "      <th></th>\n",
       "      <th>ctry_name</th>\n",
       "      <th>intgrtd_mngmt_name</th>\n",
       "      <th>intgrtd_operating_team_name</th>\n",
       "      <th>city</th>\n",
       "      <th>st</th>\n",
       "      <th>sec_lvl_domn</th>\n",
       "      <th>ip_addr</th>\n",
       "      <th>VISIT</th>\n",
       "      <th>ENGD_VISIT</th>\n",
       "      <th>VIEWS</th>\n",
       "    </tr>\n",
       "  </thead>\n",
       "  <tbody>\n",
       "    <tr>\n",
       "      <th>0</th>\n",
       "      <td>117</td>\n",
       "      <td>18</td>\n",
       "      <td>1</td>\n",
       "      <td>126</td>\n",
       "      <td>141</td>\n",
       "      <td>1163</td>\n",
       "      <td>6149</td>\n",
       "      <td>1</td>\n",
       "      <td>0</td>\n",
       "      <td>1</td>\n",
       "    </tr>\n",
       "    <tr>\n",
       "      <th>1</th>\n",
       "      <td>67</td>\n",
       "      <td>6</td>\n",
       "      <td>1</td>\n",
       "      <td>1732</td>\n",
       "      <td>595</td>\n",
       "      <td>1464</td>\n",
       "      <td>3635</td>\n",
       "      <td>1</td>\n",
       "      <td>0</td>\n",
       "      <td>1</td>\n",
       "    </tr>\n",
       "    <tr>\n",
       "      <th>2</th>\n",
       "      <td>117</td>\n",
       "      <td>18</td>\n",
       "      <td>1</td>\n",
       "      <td>1652</td>\n",
       "      <td>446</td>\n",
       "      <td>2700</td>\n",
       "      <td>4442</td>\n",
       "      <td>1</td>\n",
       "      <td>0</td>\n",
       "      <td>1</td>\n",
       "    </tr>\n",
       "    <tr>\n",
       "      <th>3</th>\n",
       "      <td>24</td>\n",
       "      <td>8</td>\n",
       "      <td>2</td>\n",
       "      <td>140</td>\n",
       "      <td>65</td>\n",
       "      <td>2700</td>\n",
       "      <td>641</td>\n",
       "      <td>1</td>\n",
       "      <td>1</td>\n",
       "      <td>1</td>\n",
       "    </tr>\n",
       "    <tr>\n",
       "      <th>4</th>\n",
       "      <td>52</td>\n",
       "      <td>9</td>\n",
       "      <td>0</td>\n",
       "      <td>1153</td>\n",
       "      <td>139</td>\n",
       "      <td>2391</td>\n",
       "      <td>3547</td>\n",
       "      <td>1</td>\n",
       "      <td>1</td>\n",
       "      <td>1</td>\n",
       "    </tr>\n",
       "  </tbody>\n",
       "</table>\n",
       "</div>"
      ],
      "text/plain": [
       "   ctry_name  intgrtd_mngmt_name  intgrtd_operating_team_name  city   st  \\\n",
       "0        117                  18                            1   126  141   \n",
       "1         67                   6                            1  1732  595   \n",
       "2        117                  18                            1  1652  446   \n",
       "3         24                   8                            2   140   65   \n",
       "4         52                   9                            0  1153  139   \n",
       "\n",
       "   sec_lvl_domn  ip_addr  VISIT  ENGD_VISIT  VIEWS  \n",
       "0          1163     6149      1           0      1  \n",
       "1          1464     3635      1           0      1  \n",
       "2          2700     4442      1           0      1  \n",
       "3          2700      641      1           1      1  \n",
       "4          2391     3547      1           1      1  "
      ]
     },
     "execution_count": 146,
     "metadata": {},
     "output_type": "execute_result"
    }
   ],
   "source": [
    "X.head()"
   ]
  },
  {
   "cell_type": "code",
   "execution_count": 147,
   "id": "e44649c5",
   "metadata": {},
   "outputs": [
    {
     "data": {
      "text/html": [
       "<div>\n",
       "<style scoped>\n",
       "    .dataframe tbody tr th:only-of-type {\n",
       "        vertical-align: middle;\n",
       "    }\n",
       "\n",
       "    .dataframe tbody tr th {\n",
       "        vertical-align: top;\n",
       "    }\n",
       "\n",
       "    .dataframe thead th {\n",
       "        text-align: right;\n",
       "    }\n",
       "</style>\n",
       "<table border=\"1\" class=\"dataframe\">\n",
       "  <thead>\n",
       "    <tr style=\"text-align: right;\">\n",
       "      <th></th>\n",
       "      <th>ctry_name</th>\n",
       "      <th>intgrtd_mngmt_name</th>\n",
       "      <th>intgrtd_operating_team_name</th>\n",
       "      <th>city</th>\n",
       "      <th>st</th>\n",
       "      <th>sec_lvl_domn</th>\n",
       "      <th>ip_addr</th>\n",
       "      <th>VISIT</th>\n",
       "      <th>ENGD_VISIT</th>\n",
       "      <th>VIEWS</th>\n",
       "      <th>target</th>\n",
       "    </tr>\n",
       "  </thead>\n",
       "  <tbody>\n",
       "    <tr>\n",
       "      <th>186814</th>\n",
       "      <td>59</td>\n",
       "      <td>11</td>\n",
       "      <td>3</td>\n",
       "      <td>340</td>\n",
       "      <td>576</td>\n",
       "      <td>1139</td>\n",
       "      <td>5174</td>\n",
       "      <td>1</td>\n",
       "      <td>1</td>\n",
       "      <td>3</td>\n",
       "      <td>NaN</td>\n",
       "    </tr>\n",
       "    <tr>\n",
       "      <th>186815</th>\n",
       "      <td>52</td>\n",
       "      <td>9</td>\n",
       "      <td>0</td>\n",
       "      <td>1121</td>\n",
       "      <td>337</td>\n",
       "      <td>2700</td>\n",
       "      <td>7199</td>\n",
       "      <td>1</td>\n",
       "      <td>0</td>\n",
       "      <td>1</td>\n",
       "      <td>NaN</td>\n",
       "    </tr>\n",
       "    <tr>\n",
       "      <th>186816</th>\n",
       "      <td>104</td>\n",
       "      <td>14</td>\n",
       "      <td>5</td>\n",
       "      <td>786</td>\n",
       "      <td>178</td>\n",
       "      <td>2698</td>\n",
       "      <td>5683</td>\n",
       "      <td>1</td>\n",
       "      <td>0</td>\n",
       "      <td>1</td>\n",
       "      <td>NaN</td>\n",
       "    </tr>\n",
       "    <tr>\n",
       "      <th>186817</th>\n",
       "      <td>111</td>\n",
       "      <td>0</td>\n",
       "      <td>0</td>\n",
       "      <td>117</td>\n",
       "      <td>301</td>\n",
       "      <td>1355</td>\n",
       "      <td>4599</td>\n",
       "      <td>1</td>\n",
       "      <td>0</td>\n",
       "      <td>1</td>\n",
       "      <td>NaN</td>\n",
       "    </tr>\n",
       "    <tr>\n",
       "      <th>186818</th>\n",
       "      <td>57</td>\n",
       "      <td>10</td>\n",
       "      <td>1</td>\n",
       "      <td>1067</td>\n",
       "      <td>360</td>\n",
       "      <td>2241</td>\n",
       "      <td>6580</td>\n",
       "      <td>1</td>\n",
       "      <td>0</td>\n",
       "      <td>1</td>\n",
       "      <td>NaN</td>\n",
       "    </tr>\n",
       "  </tbody>\n",
       "</table>\n",
       "</div>"
      ],
      "text/plain": [
       "        ctry_name  intgrtd_mngmt_name  intgrtd_operating_team_name  city   st  \\\n",
       "186814         59                  11                            3   340  576   \n",
       "186815         52                   9                            0  1121  337   \n",
       "186816        104                  14                            5   786  178   \n",
       "186817        111                   0                            0   117  301   \n",
       "186818         57                  10                            1  1067  360   \n",
       "\n",
       "        sec_lvl_domn  ip_addr  VISIT  ENGD_VISIT  VIEWS  target  \n",
       "186814          1139     5174      1           1      3     NaN  \n",
       "186815          2700     7199      1           0      1     NaN  \n",
       "186816          2698     5683      1           0      1     NaN  \n",
       "186817          1355     4599      1           0      1     NaN  \n",
       "186818          2241     6580      1           0      1     NaN  "
      ]
     },
     "execution_count": 147,
     "metadata": {},
     "output_type": "execute_result"
    }
   ],
   "source": [
    "test_df2.head()"
   ]
  },
  {
   "cell_type": "code",
   "execution_count": 148,
   "id": "8865e475",
   "metadata": {},
   "outputs": [],
   "source": [
    "# Train and test split\n",
    "from sklearn.model_selection import train_test_split\n",
    "X_train,X_test,y_train,y_test = train_test_split(X,y,test_size=0.3,random_state=42)"
   ]
  },
  {
   "cell_type": "code",
   "execution_count": 149,
   "id": "fba97ee0",
   "metadata": {},
   "outputs": [
    {
     "data": {
      "text/html": [
       "<div>\n",
       "<style scoped>\n",
       "    .dataframe tbody tr th:only-of-type {\n",
       "        vertical-align: middle;\n",
       "    }\n",
       "\n",
       "    .dataframe tbody tr th {\n",
       "        vertical-align: top;\n",
       "    }\n",
       "\n",
       "    .dataframe thead th {\n",
       "        text-align: right;\n",
       "    }\n",
       "</style>\n",
       "<table border=\"1\" class=\"dataframe\">\n",
       "  <thead>\n",
       "    <tr style=\"text-align: right;\">\n",
       "      <th></th>\n",
       "      <th>ctry_name</th>\n",
       "      <th>intgrtd_mngmt_name</th>\n",
       "      <th>intgrtd_operating_team_name</th>\n",
       "      <th>city</th>\n",
       "      <th>st</th>\n",
       "      <th>sec_lvl_domn</th>\n",
       "      <th>ip_addr</th>\n",
       "      <th>VISIT</th>\n",
       "      <th>ENGD_VISIT</th>\n",
       "      <th>VIEWS</th>\n",
       "    </tr>\n",
       "  </thead>\n",
       "  <tbody>\n",
       "    <tr>\n",
       "      <th>163352</th>\n",
       "      <td>59</td>\n",
       "      <td>11</td>\n",
       "      <td>3</td>\n",
       "      <td>1663</td>\n",
       "      <td>576</td>\n",
       "      <td>1269</td>\n",
       "      <td>5421</td>\n",
       "      <td>1</td>\n",
       "      <td>1</td>\n",
       "      <td>1</td>\n",
       "    </tr>\n",
       "    <tr>\n",
       "      <th>22645</th>\n",
       "      <td>59</td>\n",
       "      <td>11</td>\n",
       "      <td>3</td>\n",
       "      <td>340</td>\n",
       "      <td>576</td>\n",
       "      <td>1378</td>\n",
       "      <td>6608</td>\n",
       "      <td>1</td>\n",
       "      <td>1</td>\n",
       "      <td>2</td>\n",
       "    </tr>\n",
       "    <tr>\n",
       "      <th>180841</th>\n",
       "      <td>59</td>\n",
       "      <td>11</td>\n",
       "      <td>3</td>\n",
       "      <td>1072</td>\n",
       "      <td>576</td>\n",
       "      <td>450</td>\n",
       "      <td>4186</td>\n",
       "      <td>1</td>\n",
       "      <td>0</td>\n",
       "      <td>1</td>\n",
       "    </tr>\n",
       "    <tr>\n",
       "      <th>57703</th>\n",
       "      <td>107</td>\n",
       "      <td>15</td>\n",
       "      <td>1</td>\n",
       "      <td>1590</td>\n",
       "      <td>548</td>\n",
       "      <td>2700</td>\n",
       "      <td>5115</td>\n",
       "      <td>1</td>\n",
       "      <td>1</td>\n",
       "      <td>1</td>\n",
       "    </tr>\n",
       "    <tr>\n",
       "      <th>127989</th>\n",
       "      <td>21</td>\n",
       "      <td>5</td>\n",
       "      <td>6</td>\n",
       "      <td>1671</td>\n",
       "      <td>425</td>\n",
       "      <td>2700</td>\n",
       "      <td>6051</td>\n",
       "      <td>1</td>\n",
       "      <td>0</td>\n",
       "      <td>1</td>\n",
       "    </tr>\n",
       "  </tbody>\n",
       "</table>\n",
       "</div>"
      ],
      "text/plain": [
       "        ctry_name  intgrtd_mngmt_name  intgrtd_operating_team_name  city   st  \\\n",
       "163352         59                  11                            3  1663  576   \n",
       "22645          59                  11                            3   340  576   \n",
       "180841         59                  11                            3  1072  576   \n",
       "57703         107                  15                            1  1590  548   \n",
       "127989         21                   5                            6  1671  425   \n",
       "\n",
       "        sec_lvl_domn  ip_addr  VISIT  ENGD_VISIT  VIEWS  \n",
       "163352          1269     5421      1           1      1  \n",
       "22645           1378     6608      1           1      2  \n",
       "180841           450     4186      1           0      1  \n",
       "57703           2700     5115      1           1      1  \n",
       "127989          2700     6051      1           0      1  "
      ]
     },
     "execution_count": 149,
     "metadata": {},
     "output_type": "execute_result"
    }
   ],
   "source": [
    "X_train.head()"
   ]
  },
  {
   "cell_type": "code",
   "execution_count": 150,
   "id": "ae4af6ba",
   "metadata": {},
   "outputs": [],
   "source": [
    "from sklearn.preprocessing import StandardScaler\n",
    "scaler = StandardScaler()"
   ]
  },
  {
   "cell_type": "code",
   "execution_count": 151,
   "id": "6ce5490d",
   "metadata": {},
   "outputs": [],
   "source": [
    "X_train = scaler.fit_transform(X_train)"
   ]
  },
  {
   "cell_type": "code",
   "execution_count": 152,
   "id": "9bb440af",
   "metadata": {},
   "outputs": [],
   "source": [
    "X_test = scaler.transform(X_test)"
   ]
  },
  {
   "cell_type": "code",
   "execution_count": 153,
   "id": "d1b26b97",
   "metadata": {},
   "outputs": [
    {
     "data": {
      "text/plain": [
       "array([[-0.47422513, -0.1401055 ,  0.03837607, ..., -0.04795258,\n",
       "         0.15634718, -0.13457231],\n",
       "       [-0.47422513, -0.1401055 ,  0.03837607, ..., -0.04795258,\n",
       "         0.15634718,  0.01160896],\n",
       "       [-0.47422513, -0.1401055 ,  0.03837607, ..., -0.04795258,\n",
       "        -0.1729759 , -0.13457231],\n",
       "       ...,\n",
       "       [-0.66614849, -0.4707073 , -1.21653761, ..., -0.04795258,\n",
       "        -0.1729759 , -0.13457231],\n",
       "       [-0.47422513, -0.1401055 ,  0.03837607, ..., -0.04795258,\n",
       "         0.15634718, -0.13457231],\n",
       "       [-0.72098374, -1.29721181, -0.79823305, ..., -0.04795258,\n",
       "        -0.1729759 , -0.13457231]])"
      ]
     },
     "execution_count": 153,
     "metadata": {},
     "output_type": "execute_result"
    }
   ],
   "source": [
    "X_train"
   ]
  },
  {
   "cell_type": "code",
   "execution_count": 154,
   "id": "816ec680",
   "metadata": {},
   "outputs": [
    {
     "data": {
      "text/plain": [
       "array([[-0.88548947, -0.96661001, -0.79823305, ..., -0.04795258,\n",
       "         0.15634718,  0.15779023],\n",
       "       [-0.36455464,  0.0251954 , -1.21653761, ..., -0.04795258,\n",
       "        -0.1729759 , -0.13457231],\n",
       "       [-0.47422513, -0.1401055 ,  0.03837607, ...,  0.28453474,\n",
       "        -0.1729759 ,  0.3039715 ],\n",
       "       ...,\n",
       "       [-1.46125955,  0.85169991,  0.45668063, ..., -0.04795258,\n",
       "        -0.1729759 , -0.13457231],\n",
       "       [-1.62576528, -1.46251271,  0.45668063, ..., -0.04795258,\n",
       "        -0.1729759 , -0.13457231],\n",
       "       [ 1.11599698,  1.01700081, -0.79823305, ..., -0.04795258,\n",
       "        -0.1729759 , -0.13457231]])"
      ]
     },
     "execution_count": 154,
     "metadata": {},
     "output_type": "execute_result"
    }
   ],
   "source": [
    "X_test"
   ]
  },
  {
   "cell_type": "code",
   "execution_count": 155,
   "id": "d6dfc1a0",
   "metadata": {},
   "outputs": [
    {
     "data": {
      "text/plain": [
       "(163352    1.0\n",
       " 22645     1.0\n",
       " 180841    1.0\n",
       " 57703     1.0\n",
       " 127989    1.0\n",
       " Name: target, dtype: float64,\n",
       " (130769,))"
      ]
     },
     "execution_count": 155,
     "metadata": {},
     "output_type": "execute_result"
    }
   ],
   "source": [
    "y_train.head(), y_train.shape"
   ]
  },
  {
   "cell_type": "code",
   "execution_count": 156,
   "id": "3a304eed",
   "metadata": {},
   "outputs": [],
   "source": [
    "from sklearn.linear_model import LogisticRegression\n",
    "model = LogisticRegression()"
   ]
  },
  {
   "cell_type": "code",
   "execution_count": 157,
   "id": "aa907337",
   "metadata": {},
   "outputs": [
    {
     "data": {
      "text/plain": [
       "LogisticRegression()"
      ]
     },
     "execution_count": 157,
     "metadata": {},
     "output_type": "execute_result"
    }
   ],
   "source": [
    "model.fit(X_train,y_train)"
   ]
  },
  {
   "cell_type": "code",
   "execution_count": 158,
   "id": "c93d020d",
   "metadata": {},
   "outputs": [
    {
     "name": "stdout",
     "output_type": "stream",
     "text": [
      "[[-0.02236582  0.17117102 -0.22782968 -0.00322646  0.01332    -0.1337211\n",
      "   0.13487513  0.32642708 -0.18194536 -0.56394824]]\n"
     ]
    }
   ],
   "source": [
    "# print the coefficient and coefficient\n",
    "print(model.coef_)"
   ]
  },
  {
   "cell_type": "code",
   "execution_count": 159,
   "id": "57ab66c5",
   "metadata": {},
   "outputs": [
    {
     "name": "stdout",
     "output_type": "stream",
     "text": [
      "[3.40223971]\n"
     ]
    }
   ],
   "source": [
    "print(model.intercept_)"
   ]
  },
  {
   "cell_type": "code",
   "execution_count": 160,
   "id": "06c47575",
   "metadata": {},
   "outputs": [
    {
     "data": {
      "text/plain": [
       "{'C': 1.0,\n",
       " 'class_weight': None,\n",
       " 'dual': False,\n",
       " 'fit_intercept': True,\n",
       " 'intercept_scaling': 1,\n",
       " 'l1_ratio': None,\n",
       " 'max_iter': 100,\n",
       " 'multi_class': 'auto',\n",
       " 'n_jobs': None,\n",
       " 'penalty': 'l2',\n",
       " 'random_state': None,\n",
       " 'solver': 'lbfgs',\n",
       " 'tol': 0.0001,\n",
       " 'verbose': 0,\n",
       " 'warm_start': False}"
      ]
     },
     "execution_count": 160,
     "metadata": {},
     "output_type": "execute_result"
    }
   ],
   "source": [
    "model.get_params()"
   ]
  },
  {
   "cell_type": "code",
   "execution_count": 161,
   "id": "9a80e41f",
   "metadata": {},
   "outputs": [],
   "source": [
    "# prediction with test data\n",
    "classif_predict = model.predict(X_test)"
   ]
  },
  {
   "cell_type": "code",
   "execution_count": 162,
   "id": "7fb7b7b6",
   "metadata": {},
   "outputs": [
    {
     "data": {
      "text/plain": [
       "array([1., 1., 1., ..., 1., 1., 1.])"
      ]
     },
     "execution_count": 162,
     "metadata": {},
     "output_type": "execute_result"
    }
   ],
   "source": [
    "classif_predict"
   ]
  },
  {
   "cell_type": "code",
   "execution_count": 163,
   "id": "4b8119db",
   "metadata": {},
   "outputs": [
    {
     "data": {
      "text/plain": [
       "<matplotlib.collections.PathCollection at 0x24095911b80>"
      ]
     },
     "execution_count": 163,
     "metadata": {},
     "output_type": "execute_result"
    },
    {
     "data": {
      "image/png": "[encoded data removed]",
      "text/plain": [
       "<Figure size 432x288 with 1 Axes>"
      ]
     },
     "metadata": {
      "needs_background": "light"
     },
     "output_type": "display_data"
    }
   ],
   "source": [
    "# plot the scatter plot for prediction\n",
    "plt.scatter(y_test,classif_predict)"
   ]
  },
  {
   "cell_type": "code",
   "execution_count": 164,
   "id": "0bc04dd8",
   "metadata": {},
   "outputs": [],
   "source": [
    "residuals = y_test- classif_predict"
   ]
  },
  {
   "cell_type": "code",
   "execution_count": 165,
   "id": "1dd2f3e1",
   "metadata": {},
   "outputs": [
    {
     "data": {
      "text/plain": [
       "95518     0.0\n",
       "139455    0.0\n",
       "119628    0.0\n",
       "29360     0.0\n",
       "141933    0.0\n",
       "         ... \n",
       "76959     0.0\n",
       "64298     0.0\n",
       "112767    0.0\n",
       "176475    0.0\n",
       "72950     0.0\n",
       "Name: target, Length: 56045, dtype: float64"
      ]
     },
     "execution_count": 165,
     "metadata": {},
     "output_type": "execute_result"
    }
   ],
   "source": [
    "residuals"
   ]
  },
  {
   "cell_type": "code",
   "execution_count": 166,
   "id": "235e2c7e",
   "metadata": {},
   "outputs": [
    {
     "data": {
      "text/plain": [
       "<matplotlib.collections.PathCollection at 0x2408e40e310>"
      ]
     },
     "execution_count": 166,
     "metadata": {},
     "output_type": "execute_result"
    },
    {
     "data": {
      "image/png": "[encoded data removed]",
      "text/plain": [
       "<Figure size 432x288 with 1 Axes>"
      ]
     },
     "metadata": {
      "needs_background": "light"
     },
     "output_type": "display_data"
    }
   ],
   "source": [
    "plt.scatter(classif_predict,residuals)"
   ]
  },
  {
   "cell_type": "code",
   "execution_count": 167,
   "id": "b5bc70bd",
   "metadata": {},
   "outputs": [
    {
     "name": "stdout",
     "output_type": "stream",
     "text": [
      "Accuracy: 0.9654384869301454\n"
     ]
    }
   ],
   "source": [
    "print('Accuracy:', model.score(X_test,y_test))"
   ]
  },
  {
   "cell_type": "code",
   "execution_count": 168,
   "id": "702a61b9",
   "metadata": {},
   "outputs": [
    {
     "name": "stdout",
     "output_type": "stream",
     "text": [
      "Accuracy: 0.9996253010973325\n"
     ]
    }
   ],
   "source": [
    "from sklearn.tree import DecisionTreeClassifier\n",
    "model2 = DecisionTreeClassifier()\n",
    "model2.fit(X_train,y_train)\n",
    "classif_predict2 = model2.predict(X_test)\n",
    "print('Accuracy:', model2.score(X_test,y_test))"
   ]
  },
  {
   "cell_type": "code",
   "execution_count": 169,
   "id": "e6f760e8",
   "metadata": {},
   "outputs": [
    {
     "data": {
      "text/html": [
       "<div>\n",
       "<style scoped>\n",
       "    .dataframe tbody tr th:only-of-type {\n",
       "        vertical-align: middle;\n",
       "    }\n",
       "\n",
       "    .dataframe tbody tr th {\n",
       "        vertical-align: top;\n",
       "    }\n",
       "\n",
       "    .dataframe thead th {\n",
       "        text-align: right;\n",
       "    }\n",
       "</style>\n",
       "<table border=\"1\" class=\"dataframe\">\n",
       "  <thead>\n",
       "    <tr style=\"text-align: right;\">\n",
       "      <th></th>\n",
       "      <th>ctry_name</th>\n",
       "      <th>intgrtd_mngmt_name</th>\n",
       "      <th>intgrtd_operating_team_name</th>\n",
       "      <th>city</th>\n",
       "      <th>st</th>\n",
       "      <th>sec_lvl_domn</th>\n",
       "      <th>ip_addr</th>\n",
       "      <th>VISIT</th>\n",
       "      <th>ENGD_VISIT</th>\n",
       "      <th>VIEWS</th>\n",
       "      <th>target</th>\n",
       "    </tr>\n",
       "  </thead>\n",
       "  <tbody>\n",
       "    <tr>\n",
       "      <th>186814</th>\n",
       "      <td>59</td>\n",
       "      <td>11</td>\n",
       "      <td>3</td>\n",
       "      <td>340</td>\n",
       "      <td>576</td>\n",
       "      <td>1139</td>\n",
       "      <td>5174</td>\n",
       "      <td>1</td>\n",
       "      <td>1</td>\n",
       "      <td>3</td>\n",
       "      <td>NaN</td>\n",
       "    </tr>\n",
       "    <tr>\n",
       "      <th>186815</th>\n",
       "      <td>52</td>\n",
       "      <td>9</td>\n",
       "      <td>0</td>\n",
       "      <td>1121</td>\n",
       "      <td>337</td>\n",
       "      <td>2700</td>\n",
       "      <td>7199</td>\n",
       "      <td>1</td>\n",
       "      <td>0</td>\n",
       "      <td>1</td>\n",
       "      <td>NaN</td>\n",
       "    </tr>\n",
       "    <tr>\n",
       "      <th>186816</th>\n",
       "      <td>104</td>\n",
       "      <td>14</td>\n",
       "      <td>5</td>\n",
       "      <td>786</td>\n",
       "      <td>178</td>\n",
       "      <td>2698</td>\n",
       "      <td>5683</td>\n",
       "      <td>1</td>\n",
       "      <td>0</td>\n",
       "      <td>1</td>\n",
       "      <td>NaN</td>\n",
       "    </tr>\n",
       "    <tr>\n",
       "      <th>186817</th>\n",
       "      <td>111</td>\n",
       "      <td>0</td>\n",
       "      <td>0</td>\n",
       "      <td>117</td>\n",
       "      <td>301</td>\n",
       "      <td>1355</td>\n",
       "      <td>4599</td>\n",
       "      <td>1</td>\n",
       "      <td>0</td>\n",
       "      <td>1</td>\n",
       "      <td>NaN</td>\n",
       "    </tr>\n",
       "    <tr>\n",
       "      <th>186818</th>\n",
       "      <td>57</td>\n",
       "      <td>10</td>\n",
       "      <td>1</td>\n",
       "      <td>1067</td>\n",
       "      <td>360</td>\n",
       "      <td>2241</td>\n",
       "      <td>6580</td>\n",
       "      <td>1</td>\n",
       "      <td>0</td>\n",
       "      <td>1</td>\n",
       "      <td>NaN</td>\n",
       "    </tr>\n",
       "  </tbody>\n",
       "</table>\n",
       "</div>"
      ],
      "text/plain": [
       "        ctry_name  intgrtd_mngmt_name  intgrtd_operating_team_name  city   st  \\\n",
       "186814         59                  11                            3   340  576   \n",
       "186815         52                   9                            0  1121  337   \n",
       "186816        104                  14                            5   786  178   \n",
       "186817        111                   0                            0   117  301   \n",
       "186818         57                  10                            1  1067  360   \n",
       "\n",
       "        sec_lvl_domn  ip_addr  VISIT  ENGD_VISIT  VIEWS  target  \n",
       "186814          1139     5174      1           1      3     NaN  \n",
       "186815          2700     7199      1           0      1     NaN  \n",
       "186816          2698     5683      1           0      1     NaN  \n",
       "186817          1355     4599      1           0      1     NaN  \n",
       "186818          2241     6580      1           0      1     NaN  "
      ]
     },
     "execution_count": 169,
     "metadata": {},
     "output_type": "execute_result"
    }
   ],
   "source": [
    "test_df2.head()"
   ]
  },
  {
   "cell_type": "code",
   "execution_count": 170,
   "id": "1f026415",
   "metadata": {},
   "outputs": [
    {
     "data": {
      "text/html": [
       "<div>\n",
       "<style scoped>\n",
       "    .dataframe tbody tr th:only-of-type {\n",
       "        vertical-align: middle;\n",
       "    }\n",
       "\n",
       "    .dataframe tbody tr th {\n",
       "        vertical-align: top;\n",
       "    }\n",
       "\n",
       "    .dataframe thead th {\n",
       "        text-align: right;\n",
       "    }\n",
       "</style>\n",
       "<table border=\"1\" class=\"dataframe\">\n",
       "  <thead>\n",
       "    <tr style=\"text-align: right;\">\n",
       "      <th></th>\n",
       "      <th>ctry_name</th>\n",
       "      <th>intgrtd_mngmt_name</th>\n",
       "      <th>intgrtd_operating_team_name</th>\n",
       "      <th>city</th>\n",
       "      <th>st</th>\n",
       "      <th>sec_lvl_domn</th>\n",
       "      <th>ip_addr</th>\n",
       "      <th>VISIT</th>\n",
       "      <th>ENGD_VISIT</th>\n",
       "      <th>VIEWS</th>\n",
       "    </tr>\n",
       "  </thead>\n",
       "  <tbody>\n",
       "    <tr>\n",
       "      <th>186814</th>\n",
       "      <td>59</td>\n",
       "      <td>11</td>\n",
       "      <td>3</td>\n",
       "      <td>340</td>\n",
       "      <td>576</td>\n",
       "      <td>1139</td>\n",
       "      <td>5174</td>\n",
       "      <td>1</td>\n",
       "      <td>1</td>\n",
       "      <td>3</td>\n",
       "    </tr>\n",
       "    <tr>\n",
       "      <th>186815</th>\n",
       "      <td>52</td>\n",
       "      <td>9</td>\n",
       "      <td>0</td>\n",
       "      <td>1121</td>\n",
       "      <td>337</td>\n",
       "      <td>2700</td>\n",
       "      <td>7199</td>\n",
       "      <td>1</td>\n",
       "      <td>0</td>\n",
       "      <td>1</td>\n",
       "    </tr>\n",
       "    <tr>\n",
       "      <th>186816</th>\n",
       "      <td>104</td>\n",
       "      <td>14</td>\n",
       "      <td>5</td>\n",
       "      <td>786</td>\n",
       "      <td>178</td>\n",
       "      <td>2698</td>\n",
       "      <td>5683</td>\n",
       "      <td>1</td>\n",
       "      <td>0</td>\n",
       "      <td>1</td>\n",
       "    </tr>\n",
       "    <tr>\n",
       "      <th>186817</th>\n",
       "      <td>111</td>\n",
       "      <td>0</td>\n",
       "      <td>0</td>\n",
       "      <td>117</td>\n",
       "      <td>301</td>\n",
       "      <td>1355</td>\n",
       "      <td>4599</td>\n",
       "      <td>1</td>\n",
       "      <td>0</td>\n",
       "      <td>1</td>\n",
       "    </tr>\n",
       "    <tr>\n",
       "      <th>186818</th>\n",
       "      <td>57</td>\n",
       "      <td>10</td>\n",
       "      <td>1</td>\n",
       "      <td>1067</td>\n",
       "      <td>360</td>\n",
       "      <td>2241</td>\n",
       "      <td>6580</td>\n",
       "      <td>1</td>\n",
       "      <td>0</td>\n",
       "      <td>1</td>\n",
       "    </tr>\n",
       "  </tbody>\n",
       "</table>\n",
       "</div>"
      ],
      "text/plain": [
       "        ctry_name  intgrtd_mngmt_name  intgrtd_operating_team_name  city   st  \\\n",
       "186814         59                  11                            3   340  576   \n",
       "186815         52                   9                            0  1121  337   \n",
       "186816        104                  14                            5   786  178   \n",
       "186817        111                   0                            0   117  301   \n",
       "186818         57                  10                            1  1067  360   \n",
       "\n",
       "        sec_lvl_domn  ip_addr  VISIT  ENGD_VISIT  VIEWS  \n",
       "186814          1139     5174      1           1      3  \n",
       "186815          2700     7199      1           0      1  \n",
       "186816          2698     5683      1           0      1  \n",
       "186817          1355     4599      1           0      1  \n",
       "186818          2241     6580      1           0      1  "
      ]
     },
     "execution_count": 170,
     "metadata": {},
     "output_type": "execute_result"
    }
   ],
   "source": [
    "X_test5 = test_df2.drop(columns=['target'], axis=1)\n",
    "X_test5.head()"
   ]
  },
  {
   "cell_type": "code",
   "execution_count": 171,
   "id": "556d43dc",
   "metadata": {},
   "outputs": [],
   "source": [
    "X_test5 = scaler.transform(X_test5)"
   ]
  },
  {
   "cell_type": "code",
   "execution_count": 172,
   "id": "99017802",
   "metadata": {},
   "outputs": [
    {
     "data": {
      "text/plain": [
       "46704"
      ]
     },
     "execution_count": 172,
     "metadata": {},
     "output_type": "execute_result"
    }
   ],
   "source": [
    "pred = model.predict(X_test5)\n",
    "len(pred)"
   ]
  },
  {
   "cell_type": "code",
   "execution_count": 173,
   "id": "12f0e4df",
   "metadata": {},
   "outputs": [
    {
     "data": {
      "text/plain": [
       "array([1., 0., 1., ..., 1., 0., 1.])"
      ]
     },
     "execution_count": 173,
     "metadata": {},
     "output_type": "execute_result"
    }
   ],
   "source": [
    "pred"
   ]
  },
  {
   "cell_type": "code",
   "execution_count": 174,
   "id": "c9517e63",
   "metadata": {},
   "outputs": [],
   "source": [
    "path_data3 = r\"C:\\Users\\Shubham\\Music\\Kaggle Competition\\Bot Prediction\\bot-prediction\\sample_submission.csv\"\n",
    "sub = pd.read_csv(path_data3)"
   ]
  },
  {
   "cell_type": "code",
   "execution_count": 175,
   "id": "2fc22f51",
   "metadata": {},
   "outputs": [],
   "source": [
    "sub['target'] = pred[:6885]"
   ]
  },
  {
   "cell_type": "code",
   "execution_count": 176,
   "id": "04075d18",
   "metadata": {},
   "outputs": [
    {
     "data": {
      "text/html": [
       "<div>\n",
       "<style scoped>\n",
       "    .dataframe tbody tr th:only-of-type {\n",
       "        vertical-align: middle;\n",
       "    }\n",
       "\n",
       "    .dataframe tbody tr th {\n",
       "        vertical-align: top;\n",
       "    }\n",
       "\n",
       "    .dataframe thead th {\n",
       "        text-align: right;\n",
       "    }\n",
       "</style>\n",
       "<table border=\"1\" class=\"dataframe\">\n",
       "  <thead>\n",
       "    <tr style=\"text-align: right;\">\n",
       "      <th></th>\n",
       "      <th>ip_addr</th>\n",
       "      <th>target</th>\n",
       "    </tr>\n",
       "  </thead>\n",
       "  <tbody>\n",
       "    <tr>\n",
       "      <th>0</th>\n",
       "      <td>b8a8233899cbd26ba1e2207af00ed76f6d3a2393f9967a...</td>\n",
       "      <td>1.0</td>\n",
       "    </tr>\n",
       "    <tr>\n",
       "      <th>1</th>\n",
       "      <td>ff2af055edd62f7fdbc71abcd79df8e3163d03a5d28044...</td>\n",
       "      <td>0.0</td>\n",
       "    </tr>\n",
       "    <tr>\n",
       "      <th>2</th>\n",
       "      <td>c9a6ee3cbaa5fcf0558cbd78d17080d530498f5f1c8f90...</td>\n",
       "      <td>1.0</td>\n",
       "    </tr>\n",
       "    <tr>\n",
       "      <th>3</th>\n",
       "      <td>a3d979dcc283bb6868219c2950f1531ea687c9ea92f17d...</td>\n",
       "      <td>1.0</td>\n",
       "    </tr>\n",
       "    <tr>\n",
       "      <th>4</th>\n",
       "      <td>e82fee207265814f1b76e349cc96df09d74c9b6a93ff91...</td>\n",
       "      <td>1.0</td>\n",
       "    </tr>\n",
       "  </tbody>\n",
       "</table>\n",
       "</div>"
      ],
      "text/plain": [
       "                                             ip_addr  target\n",
       "0  b8a8233899cbd26ba1e2207af00ed76f6d3a2393f9967a...     1.0\n",
       "1  ff2af055edd62f7fdbc71abcd79df8e3163d03a5d28044...     0.0\n",
       "2  c9a6ee3cbaa5fcf0558cbd78d17080d530498f5f1c8f90...     1.0\n",
       "3  a3d979dcc283bb6868219c2950f1531ea687c9ea92f17d...     1.0\n",
       "4  e82fee207265814f1b76e349cc96df09d74c9b6a93ff91...     1.0"
      ]
     },
     "execution_count": 176,
     "metadata": {},
     "output_type": "execute_result"
    }
   ],
   "source": [
    "sub.head()"
   ]
  },
  {
   "cell_type": "code",
   "execution_count": 177,
   "id": "118b7aca",
   "metadata": {},
   "outputs": [],
   "source": [
    "sub.to_csv('submit9.csv', index= False)"
   ]
  },
  {
   "cell_type": "code",
   "execution_count": 178,
   "id": "e7690540",
   "metadata": {},
   "outputs": [
    {
     "data": {
      "text/plain": [
       "2"
      ]
     },
     "execution_count": 178,
     "metadata": {},
     "output_type": "execute_result"
    }
   ],
   "source": [
    "sub['target'].nunique()"
   ]
  },
  {
   "cell_type": "code",
   "execution_count": null,
   "id": "2cb8e606",
   "metadata": {},
   "outputs": [],
   "source": []
  }
 ],
 "metadata": {
  "kernelspec": {
   "display_name": "Python 3 (ipykernel)",
   "language": "python",
   "name": "python3"
  },
  "language_info": {
   "codemirror_mode": {
    "name": "ipython",
    "version": 3
   },
   "file_extension": ".py",
   "mimetype": "text/x-python",
   "name": "python",
   "nbconvert_exporter": "python",
   "pygments_lexer": "ipython3",
   "version": "3.9.12"
  }
 },
 "nbformat": 4,
 "nbformat_minor": 5
}
