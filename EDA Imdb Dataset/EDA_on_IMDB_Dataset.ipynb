{
  "nbformat": 4,
  "nbformat_minor": 0,
  "metadata": {
    "kernelspec": {
      "display_name": "Python 3",
      "language": "python",
      "name": "python3"
    },
    "language_info": {
      "codemirror_mode": {
        "name": "ipython",
        "version": 3
      },
      "file_extension": ".py",
      "mimetype": "text/x-python",
      "name": "python",
      "nbconvert_exporter": "python",
      "pygments_lexer": "ipython3",
      "version": "3.7.1"
    },
    "colab": {
      "provenance": [],
      "collapsed_sections": []
    }
  },
  "cells": [
    {
      "cell_type": "markdown",
      "metadata": {
        "id": "3_Fv7J8jTBlu"
      },
      "source": [
        "## You have been hired by a rookie movie producer to help him decide what type of movies to produce and which actors to cast. You have to back your recommendations based on thorough analysis of the data he shared with you which has the list of 3000 movies and the corresponding details.\n",
        "\n",
        "## As a data scientist, you have to first explore the data and check its sanity.\n",
        "\n",
        "## Further, you have to answer the following questions:\n",
        "1. ### <b> Which movie made the highest profit? Who were its producer and director? Identify the actors in that film.</b>\n",
        "2. ### <b>This data has information about movies made in different languages. Which language has the highest average ROI (return on investment)? </b>\n",
        "3. ### <b> Find out the unique genres of movies in this dataset.</b>\n",
        "4. ### <b> Make a table of all the producers and directors of each movie. Find the top 3 producers who have produced movies with the highest average RoI? </b>\n",
        "5. ### <b> Which actor has acted in the most number of movies? Deep dive into the movies, genres and profits corresponding to this actor. </b>\n",
        "6. ### <b>Top 3 directors prefer which actors the most? </b>\n",
        "\n"
      ]
    },
    {
      "cell_type": "code",
      "source": [
        "from google.colab import drive\n",
        "drive.mount('/content/drive')"
      ],
      "metadata": {
        "colab": {
          "base_uri": "https://localhost:8080/"
        },
        "id": "1hvptwcmQ9UH",
        "outputId": "a294c4f4-5eb0-47da-a238-52ef22e5926b"
      },
      "execution_count": null,
      "outputs": [
        {
          "output_type": "stream",
          "name": "stdout",
          "text": [
            "Drive already mounted at /content/drive; to attempt to forcibly remount, call drive.mount(\"/content/drive\", force_remount=True).\n"
          ]
        }
      ]
    },
    {
      "cell_type": "markdown",
      "metadata": {
        "id": "Fx8CVjtZW_BF"
      },
      "source": [
        "# Data Exploration"
      ]
    },
    {
      "cell_type": "code",
      "metadata": {
        "id": "vq7iMfybnKNP"
      },
      "source": [
        "#Import package\n",
        "import pandas as pd\n",
        "import numpy as np"
      ],
      "execution_count": null,
      "outputs": []
    },
    {
      "cell_type": "code",
      "source": [
        "df = pd.read_csv('/content/drive/MyDrive/AlmaBetter/Module_1/13.Pandas Operation/Data/imdb_data.csv')\n",
        "df.head(3)"
      ],
      "metadata": {
        "colab": {
          "base_uri": "https://localhost:8080/",
          "height": 497
        },
        "id": "vzZfF7IqROYN",
        "outputId": "8a410084-edfa-427f-9bfc-22915bdf8186"
      },
      "execution_count": null,
      "outputs": [
        {
          "output_type": "execute_result",
          "data": {
            "text/plain": [
              "   id                              belongs_to_collection    budget  \\\n",
              "0   1  [{'id': 313576, 'name': 'Hot Tub Time Machine ...  14000000   \n",
              "1   2  [{'id': 107674, 'name': 'The Princess Diaries ...  40000000   \n",
              "2   3                                                NaN   3300000   \n",
              "\n",
              "                                              genres  \\\n",
              "0                     [{'id': 35, 'name': 'Comedy'}]   \n",
              "1  [{'id': 35, 'name': 'Comedy'}, {'id': 18, 'nam...   \n",
              "2                      [{'id': 18, 'name': 'Drama'}]   \n",
              "\n",
              "                            homepage    imdb_id original_language  \\\n",
              "0                                NaN  tt2637294                en   \n",
              "1                                NaN  tt0368933                en   \n",
              "2  http://sonyclassics.com/whiplash/  tt2582802                en   \n",
              "\n",
              "                             original_title  \\\n",
              "0                    Hot Tub Time Machine 2   \n",
              "1  The Princess Diaries 2: Royal Engagement   \n",
              "2                                  Whiplash   \n",
              "\n",
              "                                            overview  popularity  ...  \\\n",
              "0  When Lou, who has become the \"father of the In...    6.575393  ...   \n",
              "1  Mia Thermopolis is now a college graduate and ...    8.248895  ...   \n",
              "2  Under the direction of a ruthless instructor, ...   64.299990  ...   \n",
              "\n",
              "  release_date runtime                          spoken_languages    status  \\\n",
              "0      2/20/15    93.0  [{'iso_639_1': 'en', 'name': 'English'}]  Released   \n",
              "1       8/6/04   113.0  [{'iso_639_1': 'en', 'name': 'English'}]  Released   \n",
              "2     10/10/14   105.0  [{'iso_639_1': 'en', 'name': 'English'}]  Released   \n",
              "\n",
              "                                             tagline  \\\n",
              "0  The Laws of Space and Time are About to be Vio...   \n",
              "1  It can take a lifetime to find true love; she'...   \n",
              "2    The road to greatness can take you to the edge.   \n",
              "\n",
              "                                      title  \\\n",
              "0                    Hot Tub Time Machine 2   \n",
              "1  The Princess Diaries 2: Royal Engagement   \n",
              "2                                  Whiplash   \n",
              "\n",
              "                                            Keywords  \\\n",
              "0  [{'id': 4379, 'name': 'time travel'}, {'id': 9...   \n",
              "1  [{'id': 2505, 'name': 'coronation'}, {'id': 42...   \n",
              "2  [{'id': 1416, 'name': 'jazz'}, {'id': 1523, 'n...   \n",
              "\n",
              "                                                cast  \\\n",
              "0  [{'cast_id': 4, 'character': 'Lou', 'credit_id...   \n",
              "1  [{'cast_id': 1, 'character': 'Mia Thermopolis'...   \n",
              "2  [{'cast_id': 5, 'character': 'Andrew Neimann',...   \n",
              "\n",
              "                                                crew   revenue  \n",
              "0  [{'credit_id': '59ac067c92514107af02c8c8', 'de...  12314651  \n",
              "1  [{'credit_id': '52fe43fe9251416c7502563d', 'de...  95149435  \n",
              "2  [{'credit_id': '54d5356ec3a3683ba0000039', 'de...  13092000  \n",
              "\n",
              "[3 rows x 23 columns]"
            ],
            "text/html": [
              "\n",
              "  <div id=\"df-981a8475-fb37-48be-ac54-19b7671a896f\">\n",
              "    <div class=\"colab-df-container\">\n",
              "      <div>\n",
              "<style scoped>\n",
              "    .dataframe tbody tr th:only-of-type {\n",
              "        vertical-align: middle;\n",
              "    }\n",
              "\n",
              "    .dataframe tbody tr th {\n",
              "        vertical-align: top;\n",
              "    }\n",
              "\n",
              "    .dataframe thead th {\n",
              "        text-align: right;\n",
              "    }\n",
              "</style>\n",
              "<table border=\"1\" class=\"dataframe\">\n",
              "  <thead>\n",
              "    <tr style=\"text-align: right;\">\n",
              "      <th></th>\n",
              "      <th>id</th>\n",
              "      <th>belongs_to_collection</th>\n",
              "      <th>budget</th>\n",
              "      <th>genres</th>\n",
              "      <th>homepage</th>\n",
              "      <th>imdb_id</th>\n",
              "      <th>original_language</th>\n",
              "      <th>original_title</th>\n",
              "      <th>overview</th>\n",
              "      <th>popularity</th>\n",
              "      <th>...</th>\n",
              "      <th>release_date</th>\n",
              "      <th>runtime</th>\n",
              "      <th>spoken_languages</th>\n",
              "      <th>status</th>\n",
              "      <th>tagline</th>\n",
              "      <th>title</th>\n",
              "      <th>Keywords</th>\n",
              "      <th>cast</th>\n",
              "      <th>crew</th>\n",
              "      <th>revenue</th>\n",
              "    </tr>\n",
              "  </thead>\n",
              "  <tbody>\n",
              "    <tr>\n",
              "      <th>0</th>\n",
              "      <td>1</td>\n",
              "      <td>[{'id': 313576, 'name': 'Hot Tub Time Machine ...</td>\n",
              "      <td>14000000</td>\n",
              "      <td>[{'id': 35, 'name': 'Comedy'}]</td>\n",
              "      <td>NaN</td>\n",
              "      <td>tt2637294</td>\n",
              "      <td>en</td>\n",
              "      <td>Hot Tub Time Machine 2</td>\n",
              "      <td>When Lou, who has become the \"father of the In...</td>\n",
              "      <td>6.575393</td>\n",
              "      <td>...</td>\n",
              "      <td>2/20/15</td>\n",
              "      <td>93.0</td>\n",
              "      <td>[{'iso_639_1': 'en', 'name': 'English'}]</td>\n",
              "      <td>Released</td>\n",
              "      <td>The Laws of Space and Time are About to be Vio...</td>\n",
              "      <td>Hot Tub Time Machine 2</td>\n",
              "      <td>[{'id': 4379, 'name': 'time travel'}, {'id': 9...</td>\n",
              "      <td>[{'cast_id': 4, 'character': 'Lou', 'credit_id...</td>\n",
              "      <td>[{'credit_id': '59ac067c92514107af02c8c8', 'de...</td>\n",
              "      <td>12314651</td>\n",
              "    </tr>\n",
              "    <tr>\n",
              "      <th>1</th>\n",
              "      <td>2</td>\n",
              "      <td>[{'id': 107674, 'name': 'The Princess Diaries ...</td>\n",
              "      <td>40000000</td>\n",
              "      <td>[{'id': 35, 'name': 'Comedy'}, {'id': 18, 'nam...</td>\n",
              "      <td>NaN</td>\n",
              "      <td>tt0368933</td>\n",
              "      <td>en</td>\n",
              "      <td>The Princess Diaries 2: Royal Engagement</td>\n",
              "      <td>Mia Thermopolis is now a college graduate and ...</td>\n",
              "      <td>8.248895</td>\n",
              "      <td>...</td>\n",
              "      <td>8/6/04</td>\n",
              "      <td>113.0</td>\n",
              "      <td>[{'iso_639_1': 'en', 'name': 'English'}]</td>\n",
              "      <td>Released</td>\n",
              "      <td>It can take a lifetime to find true love; she'...</td>\n",
              "      <td>The Princess Diaries 2: Royal Engagement</td>\n",
              "      <td>[{'id': 2505, 'name': 'coronation'}, {'id': 42...</td>\n",
              "      <td>[{'cast_id': 1, 'character': 'Mia Thermopolis'...</td>\n",
              "      <td>[{'credit_id': '52fe43fe9251416c7502563d', 'de...</td>\n",
              "      <td>95149435</td>\n",
              "    </tr>\n",
              "    <tr>\n",
              "      <th>2</th>\n",
              "      <td>3</td>\n",
              "      <td>NaN</td>\n",
              "      <td>3300000</td>\n",
              "      <td>[{'id': 18, 'name': 'Drama'}]</td>\n",
              "      <td>http://sonyclassics.com/whiplash/</td>\n",
              "      <td>tt2582802</td>\n",
              "      <td>en</td>\n",
              "      <td>Whiplash</td>\n",
              "      <td>Under the direction of a ruthless instructor, ...</td>\n",
              "      <td>64.299990</td>\n",
              "      <td>...</td>\n",
              "      <td>10/10/14</td>\n",
              "      <td>105.0</td>\n",
              "      <td>[{'iso_639_1': 'en', 'name': 'English'}]</td>\n",
              "      <td>Released</td>\n",
              "      <td>The road to greatness can take you to the edge.</td>\n",
              "      <td>Whiplash</td>\n",
              "      <td>[{'id': 1416, 'name': 'jazz'}, {'id': 1523, 'n...</td>\n",
              "      <td>[{'cast_id': 5, 'character': 'Andrew Neimann',...</td>\n",
              "      <td>[{'credit_id': '54d5356ec3a3683ba0000039', 'de...</td>\n",
              "      <td>13092000</td>\n",
              "    </tr>\n",
              "  </tbody>\n",
              "</table>\n",
              "<p>3 rows × 23 columns</p>\n",
              "</div>\n",
              "      <button class=\"colab-df-convert\" onclick=\"convertToInteractive('df-981a8475-fb37-48be-ac54-19b7671a896f')\"\n",
              "              title=\"Convert this dataframe to an interactive table.\"\n",
              "              style=\"display:none;\">\n",
              "        \n",
              "  <svg xmlns=\"http://www.w3.org/2000/svg\" height=\"24px\"viewBox=\"0 0 24 24\"\n",
              "       width=\"24px\">\n",
              "    <path d=\"M0 0h24v24H0V0z\" fill=\"none\"/>\n",
              "    <path d=\"M18.56 5.44l.94 2.06.94-2.06 2.06-.94-2.06-.94-.94-2.06-.94 2.06-2.06.94zm-11 1L8.5 8.5l.94-2.06 2.06-.94-2.06-.94L8.5 2.5l-.94 2.06-2.06.94zm10 10l.94 2.06.94-2.06 2.06-.94-2.06-.94-.94-2.06-.94 2.06-2.06.94z\"/><path d=\"M17.41 7.96l-1.37-1.37c-.4-.4-.92-.59-1.43-.59-.52 0-1.04.2-1.43.59L10.3 9.45l-7.72 7.72c-.78.78-.78 2.05 0 2.83L4 21.41c.39.39.9.59 1.41.59.51 0 1.02-.2 1.41-.59l7.78-7.78 2.81-2.81c.8-.78.8-2.07 0-2.86zM5.41 20L4 18.59l7.72-7.72 1.47 1.35L5.41 20z\"/>\n",
              "  </svg>\n",
              "      </button>\n",
              "      \n",
              "  <style>\n",
              "    .colab-df-container {\n",
              "      display:flex;\n",
              "      flex-wrap:wrap;\n",
              "      gap: 12px;\n",
              "    }\n",
              "\n",
              "    .colab-df-convert {\n",
              "      background-color: #E8F0FE;\n",
              "      border: none;\n",
              "      border-radius: 50%;\n",
              "      cursor: pointer;\n",
              "      display: none;\n",
              "      fill: #1967D2;\n",
              "      height: 32px;\n",
              "      padding: 0 0 0 0;\n",
              "      width: 32px;\n",
              "    }\n",
              "\n",
              "    .colab-df-convert:hover {\n",
              "      background-color: #E2EBFA;\n",
              "      box-shadow: 0px 1px 2px rgba(60, 64, 67, 0.3), 0px 1px 3px 1px rgba(60, 64, 67, 0.15);\n",
              "      fill: #174EA6;\n",
              "    }\n",
              "\n",
              "    [theme=dark] .colab-df-convert {\n",
              "      background-color: #3B4455;\n",
              "      fill: #D2E3FC;\n",
              "    }\n",
              "\n",
              "    [theme=dark] .colab-df-convert:hover {\n",
              "      background-color: #434B5C;\n",
              "      box-shadow: 0px 1px 3px 1px rgba(0, 0, 0, 0.15);\n",
              "      filter: drop-shadow(0px 1px 2px rgba(0, 0, 0, 0.3));\n",
              "      fill: #FFFFFF;\n",
              "    }\n",
              "  </style>\n",
              "\n",
              "      <script>\n",
              "        const buttonEl =\n",
              "          document.querySelector('#df-981a8475-fb37-48be-ac54-19b7671a896f button.colab-df-convert');\n",
              "        buttonEl.style.display =\n",
              "          google.colab.kernel.accessAllowed ? 'block' : 'none';\n",
              "\n",
              "        async function convertToInteractive(key) {\n",
              "          const element = document.querySelector('#df-981a8475-fb37-48be-ac54-19b7671a896f');\n",
              "          const dataTable =\n",
              "            await google.colab.kernel.invokeFunction('convertToInteractive',\n",
              "                                                     [key], {});\n",
              "          if (!dataTable) return;\n",
              "\n",
              "          const docLinkHtml = 'Like what you see? Visit the ' +\n",
              "            '<a target=\"_blank\" href=https://colab.research.google.com/notebooks/data_table.ipynb>data table notebook</a>'\n",
              "            + ' to learn more about interactive tables.';\n",
              "          element.innerHTML = '';\n",
              "          dataTable['output_type'] = 'display_data';\n",
              "          await google.colab.output.renderOutput(dataTable, element);\n",
              "          const docLink = document.createElement('div');\n",
              "          docLink.innerHTML = docLinkHtml;\n",
              "          element.appendChild(docLink);\n",
              "        }\n",
              "      </script>\n",
              "    </div>\n",
              "  </div>\n",
              "  "
            ]
          },
          "metadata": {},
          "execution_count": 105
        }
      ]
    },
    {
      "cell_type": "code",
      "source": [
        "df.shape"
      ],
      "metadata": {
        "colab": {
          "base_uri": "https://localhost:8080/"
        },
        "id": "-sEhuR9cRhN4",
        "outputId": "a24d1f3c-9932-4fd8-87a1-a11a17d4fb40"
      },
      "execution_count": null,
      "outputs": [
        {
          "output_type": "execute_result",
          "data": {
            "text/plain": [
              "(3000, 23)"
            ]
          },
          "metadata": {},
          "execution_count": 106
        }
      ]
    },
    {
      "cell_type": "code",
      "source": [
        "df.info()"
      ],
      "metadata": {
        "id": "YWjxoiG8R0-9",
        "outputId": "dc8fd932-be7e-4592-e860-805ae285f556",
        "colab": {
          "base_uri": "https://localhost:8080/"
        }
      },
      "execution_count": null,
      "outputs": [
        {
          "output_type": "stream",
          "name": "stdout",
          "text": [
            "<class 'pandas.core.frame.DataFrame'>\n",
            "RangeIndex: 3000 entries, 0 to 2999\n",
            "Data columns (total 23 columns):\n",
            " #   Column                 Non-Null Count  Dtype  \n",
            "---  ------                 --------------  -----  \n",
            " 0   id                     3000 non-null   int64  \n",
            " 1   belongs_to_collection  604 non-null    object \n",
            " 2   budget                 3000 non-null   int64  \n",
            " 3   genres                 2993 non-null   object \n",
            " 4   homepage               946 non-null    object \n",
            " 5   imdb_id                3000 non-null   object \n",
            " 6   original_language      3000 non-null   object \n",
            " 7   original_title         3000 non-null   object \n",
            " 8   overview               2992 non-null   object \n",
            " 9   popularity             3000 non-null   float64\n",
            " 10  poster_path            2999 non-null   object \n",
            " 11  production_companies   2844 non-null   object \n",
            " 12  production_countries   2945 non-null   object \n",
            " 13  release_date           3000 non-null   object \n",
            " 14  runtime                2998 non-null   float64\n",
            " 15  spoken_languages       2980 non-null   object \n",
            " 16  status                 3000 non-null   object \n",
            " 17  tagline                2403 non-null   object \n",
            " 18  title                  3000 non-null   object \n",
            " 19  Keywords               2724 non-null   object \n",
            " 20  cast                   2987 non-null   object \n",
            " 21  crew                   2984 non-null   object \n",
            " 22  revenue                3000 non-null   int64  \n",
            "dtypes: float64(2), int64(3), object(18)\n",
            "memory usage: 539.2+ KB\n"
          ]
        }
      ]
    },
    {
      "cell_type": "code",
      "source": [
        "df.describe()\n",
        "# this function is used to check for the Outliers , vague value etc\n",
        "# by inspecting the outcomes we found budget has minimum 0 which is not possible so we need to handle this missing value\n",
        "# we can easily find outlier in data my seeing below stastical value\n",
        "# by watching mean and median for example mean of popularity = 8.46 and 50% of budget 7.37"
      ],
      "metadata": {
        "colab": {
          "base_uri": "https://localhost:8080/",
          "height": 300
        },
        "id": "Mg4rEvPmLNox",
        "outputId": "e30fa66f-4a0d-48ee-c9c6-8082e6cb7ae3"
      },
      "execution_count": null,
      "outputs": [
        {
          "output_type": "execute_result",
          "data": {
            "text/plain": [
              "                id        budget   popularity      runtime       revenue\n",
              "count  3000.000000  3.000000e+03  3000.000000  2998.000000  3.000000e+03\n",
              "mean   1500.500000  2.253133e+07     8.463274   107.856571  6.672585e+07\n",
              "std     866.169729  3.702609e+07    12.104000    22.086434  1.375323e+08\n",
              "min       1.000000  0.000000e+00     0.000001     0.000000  1.000000e+00\n",
              "25%     750.750000  0.000000e+00     4.018053    94.000000  2.379808e+06\n",
              "50%    1500.500000  8.000000e+06     7.374861   104.000000  1.680707e+07\n",
              "75%    2250.250000  2.900000e+07    10.890983   118.000000  6.891920e+07\n",
              "max    3000.000000  3.800000e+08   294.337037   338.000000  1.519558e+09"
            ],
            "text/html": [
              "\n",
              "  <div id=\"df-7ce8920e-4f8e-4edd-b425-3f1e269347b2\">\n",
              "    <div class=\"colab-df-container\">\n",
              "      <div>\n",
              "<style scoped>\n",
              "    .dataframe tbody tr th:only-of-type {\n",
              "        vertical-align: middle;\n",
              "    }\n",
              "\n",
              "    .dataframe tbody tr th {\n",
              "        vertical-align: top;\n",
              "    }\n",
              "\n",
              "    .dataframe thead th {\n",
              "        text-align: right;\n",
              "    }\n",
              "</style>\n",
              "<table border=\"1\" class=\"dataframe\">\n",
              "  <thead>\n",
              "    <tr style=\"text-align: right;\">\n",
              "      <th></th>\n",
              "      <th>id</th>\n",
              "      <th>budget</th>\n",
              "      <th>popularity</th>\n",
              "      <th>runtime</th>\n",
              "      <th>revenue</th>\n",
              "    </tr>\n",
              "  </thead>\n",
              "  <tbody>\n",
              "    <tr>\n",
              "      <th>count</th>\n",
              "      <td>3000.000000</td>\n",
              "      <td>3.000000e+03</td>\n",
              "      <td>3000.000000</td>\n",
              "      <td>2998.000000</td>\n",
              "      <td>3.000000e+03</td>\n",
              "    </tr>\n",
              "    <tr>\n",
              "      <th>mean</th>\n",
              "      <td>1500.500000</td>\n",
              "      <td>2.253133e+07</td>\n",
              "      <td>8.463274</td>\n",
              "      <td>107.856571</td>\n",
              "      <td>6.672585e+07</td>\n",
              "    </tr>\n",
              "    <tr>\n",
              "      <th>std</th>\n",
              "      <td>866.169729</td>\n",
              "      <td>3.702609e+07</td>\n",
              "      <td>12.104000</td>\n",
              "      <td>22.086434</td>\n",
              "      <td>1.375323e+08</td>\n",
              "    </tr>\n",
              "    <tr>\n",
              "      <th>min</th>\n",
              "      <td>1.000000</td>\n",
              "      <td>0.000000e+00</td>\n",
              "      <td>0.000001</td>\n",
              "      <td>0.000000</td>\n",
              "      <td>1.000000e+00</td>\n",
              "    </tr>\n",
              "    <tr>\n",
              "      <th>25%</th>\n",
              "      <td>750.750000</td>\n",
              "      <td>0.000000e+00</td>\n",
              "      <td>4.018053</td>\n",
              "      <td>94.000000</td>\n",
              "      <td>2.379808e+06</td>\n",
              "    </tr>\n",
              "    <tr>\n",
              "      <th>50%</th>\n",
              "      <td>1500.500000</td>\n",
              "      <td>8.000000e+06</td>\n",
              "      <td>7.374861</td>\n",
              "      <td>104.000000</td>\n",
              "      <td>1.680707e+07</td>\n",
              "    </tr>\n",
              "    <tr>\n",
              "      <th>75%</th>\n",
              "      <td>2250.250000</td>\n",
              "      <td>2.900000e+07</td>\n",
              "      <td>10.890983</td>\n",
              "      <td>118.000000</td>\n",
              "      <td>6.891920e+07</td>\n",
              "    </tr>\n",
              "    <tr>\n",
              "      <th>max</th>\n",
              "      <td>3000.000000</td>\n",
              "      <td>3.800000e+08</td>\n",
              "      <td>294.337037</td>\n",
              "      <td>338.000000</td>\n",
              "      <td>1.519558e+09</td>\n",
              "    </tr>\n",
              "  </tbody>\n",
              "</table>\n",
              "</div>\n",
              "      <button class=\"colab-df-convert\" onclick=\"convertToInteractive('df-7ce8920e-4f8e-4edd-b425-3f1e269347b2')\"\n",
              "              title=\"Convert this dataframe to an interactive table.\"\n",
              "              style=\"display:none;\">\n",
              "        \n",
              "  <svg xmlns=\"http://www.w3.org/2000/svg\" height=\"24px\"viewBox=\"0 0 24 24\"\n",
              "       width=\"24px\">\n",
              "    <path d=\"M0 0h24v24H0V0z\" fill=\"none\"/>\n",
              "    <path d=\"M18.56 5.44l.94 2.06.94-2.06 2.06-.94-2.06-.94-.94-2.06-.94 2.06-2.06.94zm-11 1L8.5 8.5l.94-2.06 2.06-.94-2.06-.94L8.5 2.5l-.94 2.06-2.06.94zm10 10l.94 2.06.94-2.06 2.06-.94-2.06-.94-.94-2.06-.94 2.06-2.06.94z\"/><path d=\"M17.41 7.96l-1.37-1.37c-.4-.4-.92-.59-1.43-.59-.52 0-1.04.2-1.43.59L10.3 9.45l-7.72 7.72c-.78.78-.78 2.05 0 2.83L4 21.41c.39.39.9.59 1.41.59.51 0 1.02-.2 1.41-.59l7.78-7.78 2.81-2.81c.8-.78.8-2.07 0-2.86zM5.41 20L4 18.59l7.72-7.72 1.47 1.35L5.41 20z\"/>\n",
              "  </svg>\n",
              "      </button>\n",
              "      \n",
              "  <style>\n",
              "    .colab-df-container {\n",
              "      display:flex;\n",
              "      flex-wrap:wrap;\n",
              "      gap: 12px;\n",
              "    }\n",
              "\n",
              "    .colab-df-convert {\n",
              "      background-color: #E8F0FE;\n",
              "      border: none;\n",
              "      border-radius: 50%;\n",
              "      cursor: pointer;\n",
              "      display: none;\n",
              "      fill: #1967D2;\n",
              "      height: 32px;\n",
              "      padding: 0 0 0 0;\n",
              "      width: 32px;\n",
              "    }\n",
              "\n",
              "    .colab-df-convert:hover {\n",
              "      background-color: #E2EBFA;\n",
              "      box-shadow: 0px 1px 2px rgba(60, 64, 67, 0.3), 0px 1px 3px 1px rgba(60, 64, 67, 0.15);\n",
              "      fill: #174EA6;\n",
              "    }\n",
              "\n",
              "    [theme=dark] .colab-df-convert {\n",
              "      background-color: #3B4455;\n",
              "      fill: #D2E3FC;\n",
              "    }\n",
              "\n",
              "    [theme=dark] .colab-df-convert:hover {\n",
              "      background-color: #434B5C;\n",
              "      box-shadow: 0px 1px 3px 1px rgba(0, 0, 0, 0.15);\n",
              "      filter: drop-shadow(0px 1px 2px rgba(0, 0, 0, 0.3));\n",
              "      fill: #FFFFFF;\n",
              "    }\n",
              "  </style>\n",
              "\n",
              "      <script>\n",
              "        const buttonEl =\n",
              "          document.querySelector('#df-7ce8920e-4f8e-4edd-b425-3f1e269347b2 button.colab-df-convert');\n",
              "        buttonEl.style.display =\n",
              "          google.colab.kernel.accessAllowed ? 'block' : 'none';\n",
              "\n",
              "        async function convertToInteractive(key) {\n",
              "          const element = document.querySelector('#df-7ce8920e-4f8e-4edd-b425-3f1e269347b2');\n",
              "          const dataTable =\n",
              "            await google.colab.kernel.invokeFunction('convertToInteractive',\n",
              "                                                     [key], {});\n",
              "          if (!dataTable) return;\n",
              "\n",
              "          const docLinkHtml = 'Like what you see? Visit the ' +\n",
              "            '<a target=\"_blank\" href=https://colab.research.google.com/notebooks/data_table.ipynb>data table notebook</a>'\n",
              "            + ' to learn more about interactive tables.';\n",
              "          element.innerHTML = '';\n",
              "          dataTable['output_type'] = 'display_data';\n",
              "          await google.colab.output.renderOutput(dataTable, element);\n",
              "          const docLink = document.createElement('div');\n",
              "          docLink.innerHTML = docLinkHtml;\n",
              "          element.appendChild(docLink);\n",
              "        }\n",
              "      </script>\n",
              "    </div>\n",
              "  </div>\n",
              "  "
            ]
          },
          "metadata": {},
          "execution_count": 108
        }
      ]
    },
    {
      "cell_type": "code",
      "source": [
        "df.loc[0,'crew']"
      ],
      "metadata": {
        "id": "0wQhjZnYR231",
        "colab": {
          "base_uri": "https://localhost:8080/",
          "height": 139
        },
        "outputId": "3af3a763-1a27-44ea-e2cd-0f8910d39536"
      },
      "execution_count": null,
      "outputs": [
        {
          "output_type": "execute_result",
          "data": {
            "text/plain": [
              "'[{\\'credit_id\\': \\'59ac067c92514107af02c8c8\\', \\'department\\': \\'Directing\\', \\'gender\\': 0, \\'id\\': 1449071, \\'job\\': \\'First Assistant Director\\', \\'name\\': \\'Kelly Cantley\\', \\'profile_path\\': None}, {\\'credit_id\\': \\'52fe4ee7c3a36847f82afad7\\', \\'department\\': \\'Directing\\', \\'gender\\': 2, \\'id\\': 3227, \\'job\\': \\'Director\\', \\'name\\': \\'Steve Pink\\', \\'profile_path\\': \\'/myHOgo8mQSCiCAZNGMRdHVr03jr.jpg\\'}, {\\'credit_id\\': \\'5524ed25c3a3687ded000d88\\', \\'department\\': \\'Writing\\', \\'gender\\': 2, \\'id\\': 347335, \\'job\\': \\'Writer\\', \\'name\\': \\'Josh Heald\\', \\'profile_path\\': \\'/pwXJIenrDMrG7t3zNfLvr8w1RGU.jpg\\'}, {\\'credit_id\\': \\'5524ed2d925141720c001128\\', \\'department\\': \\'Writing\\', \\'gender\\': 2, \\'id\\': 347335, \\'job\\': \\'Characters\\', \\'name\\': \\'Josh Heald\\', \\'profile_path\\': \\'/pwXJIenrDMrG7t3zNfLvr8w1RGU.jpg\\'}, {\\'credit_id\\': \\'5524ed3d92514166c1004a5d\\', \\'department\\': \\'Production\\', \\'gender\\': 2, \\'id\\': 57822, \\'job\\': \\'Producer\\', \\'name\\': \\'Andrew Panay\\', \\'profile_path\\': None}, {\\'credit_id\\': \\'5524ed4bc3a3687df3000dd2\\', \\'department\\': \\'Production\\', \\'gender\\': 0, \\'id\\': 1451395, \\'job\\': \\'Associate Producer\\', \\'name\\': \\'Adam Blum\\', \\'profile_path\\': None}, {\\'credit_id\\': \\'5524ed5a925141720c00112c\\', \\'department\\': \\'Production\\', \\'gender\\': 2, \\'id\\': 52997, \\'job\\': \\'Executive Producer\\', \\'name\\': \\'Rob Corddry\\', \\'profile_path\\': \\'/k2zJL0V1nEZuFT08xUdOd3ucfXz.jpg\\'}, {\\'credit_id\\': \\'5524ed85c3a3687e0e000f56\\', \\'department\\': \\'Production\\', \\'gender\\': 0, \\'id\\': 62807, \\'job\\': \\'Executive Producer\\', \\'name\\': \\'Ben Ormand\\', \\'profile_path\\': None}, {\\'credit_id\\': \\'5524ed9fc3a3687e0e000f59\\', \\'department\\': \\'Sound\\', \\'gender\\': 2, \\'id\\': 23486, \\'job\\': \\'Original Music Composer\\', \\'name\\': \\'Christophe Beck\\', \\'profile_path\\': \\'/2fnJUmCk6IEpVIptpYaUk31epHx.jpg\\'}, {\\'credit_id\\': \\'5524eda6c3a3687e03000d28\\', \\'department\\': \\'Camera\\', \\'gender\\': 2, \\'id\\': 6117, \\'job\\': \\'Director of Photography\\', \\'name\\': \\'Declan Quinn\\', \\'profile_path\\': None}, {\\'credit_id\\': \\'5524edb4925141720c00113d\\', \\'department\\': \\'Editing\\', \\'gender\\': 0, \\'id\\': 1451396, \\'job\\': \\'Editor\\', \\'name\\': \\'Jamie Gross\\', \\'profile_path\\': None}, {\\'credit_id\\': \\'5524edc1925141727600102e\\', \\'department\\': \\'Production\\', \\'gender\\': 0, \\'id\\': 22219, \\'job\\': \\'Casting\\', \\'name\\': \\'Susie Farris\\', \\'profile_path\\': None}, {\\'credit_id\\': \\'5524edd192514171cb008257\\', \\'department\\': \\'Art\\', \\'gender\\': 0, \\'id\\': 1002643, \\'job\\': \\'Production Design\\', \\'name\\': \\'Ryan Berg\\', \\'profile_path\\': None}, {\\'credit_id\\': \\'555ad9be9251411e5b00d485\\', \\'department\\': \\'Production\\', \\'gender\\': 2, \\'id\\': 57431, \\'job\\': \\'Executive Producer\\', \\'name\\': \\'Matt Moore\\', \\'profile_path\\': None}, {\\'credit_id\\': \\'5677e93bc3a36816890087dc\\', \\'department\\': \\'Directing\\', \\'gender\\': 0, \\'id\\': 1551818, \\'job\\': \\'Script Supervisor\\', \\'name\\': \\'Nicole Garcea\\', \\'profile_path\\': None}, {\\'credit_id\\': \\'5677e96a92514179e10093d0\\', \\'department\\': \\'Production\\', \\'gender\\': 0, \\'id\\': 1551819, \\'job\\': \\'Production Coordinator\\', \\'name\\': \\'Jason Salzman\\', \\'profile_path\\': None}, {\\'credit_id\\': \\'5677e98492514179d2008cd9\\', \\'department\\': \\'Costume & Make-Up\\', \\'gender\\': 0, \\'id\\': 1422996, \\'job\\': \\'Costume Design\\', \\'name\\': \\'Carol Cutshall\\', \\'profile_path\\': None}, {\\'credit_id\\': \\'5677e9d5c3a368168e009414\\', \\'department\\': \\'Art\\', \\'gender\\': 2, \\'id\\': 500199, \\'job\\': \\'Set Decoration\\', \\'name\\': \\'Tim Cohn\\', \\'profile_path\\': None}, {\\'credit_id\\': \\'5677f89d9251417845001a61\\', \\'department\\': \\'Costume & Make-Up\\', \\'gender\\': 0, \\'id\\': 1527917, \\'job\\': \\'Hair Department Head\\', \\'name\\': \\'Voni Hinkle\\', \\'profile_path\\': None}, {\\'credit_id\\': \\'5677f8b392514179dd0089fb\\', \\'department\\': \\'Costume & Make-Up\\', \\'gender\\': 0, \\'id\\': 1431554, \\'job\\': \\'Makeup Department Head\\', \\'name\\': \\'Remi Savva\\', \\'profile_path\\': None}, {\\'credit_id\\': \\'5677f8d1c3a3681689008a4b\\', \\'department\\': \\'Art\\', \\'gender\\': 0, \\'id\\': 66495, \\'job\\': \\'Art Direction\\', \\'name\\': \\'Jason Baldwin Stewart\\', \\'profile_path\\': None}, {\\'credit_id\\': \\'5677f8eec3a3681685008dd5\\', \\'department\\': \\'Production\\', \\'gender\\': 0, \\'id\\': 1412466, \\'job\\': \\'Production Supervisor\\', \\'name\\': \\'Korey Budd\\', \\'profile_path\\': None}, {\\'credit_id\\': \\'5677f90a9251417845001a7d\\', \\'department\\': \\'Sound\\', \\'gender\\': 0, \\'id\\': 1401562, \\'job\\': \\'Sound Re-Recording Mixer\\', \\'name\\': \\'Gary C. Bourgeois\\', \\'profile_path\\': None}, {\\'credit_id\\': \\'5677f91e9251417845001a84\\', \\'department\\': \\'Sound\\', \\'gender\\': 0, \\'id\\': 1396794, \\'job\\': \\'Sound Re-Recording Mixer\\', \\'name\\': \\'Gabriel J. Serrano\\', \\'profile_path\\': None}, {\\'credit_id\\': \\'5677f938c3a3681680008dd4\\', \\'department\\': \\'Editing\\', \\'gender\\': 0, \\'id\\': 13168, \\'job\\': \\'Dialogue Editor\\', \\'name\\': \\'Victoria Rose Sampson\\', \\'profile_path\\': None}, {\\'credit_id\\': \\'5677f94e92514179dd008a1f\\', \\'department\\': \\'Sound\\', \\'gender\\': 0, \\'id\\': 1551839, \\'job\\': \\'Production Sound Mixer\\', \\'name\\': \\'Michael B. Koff\\', \\'profile_path\\': None}, {\\'credit_id\\': \\'5677f968c3a368168e009698\\', \\'department\\': \\'Sound\\', \\'gender\\': 0, \\'id\\': 113052, \\'job\\': \\'Sound Effects Editor\\', \\'name\\': \\'Randall Guth\\', \\'profile_path\\': None}, {\\'credit_id\\': \\'5677f98dc3a3681685008e02\\', \\'department\\': \\'Crew\\', \\'gender\\': 2, \\'id\\': 1442535, \\'job\\': \\'Stunt Coordinator\\', \\'name\\': \\'Chuck Picerni Jr.\\', \\'profile_path\\': \\'/yE5QtXUzcrnCzMRctZL8F5g842B.jpg\\'}, {\\'credit_id\\': \\'5677f9a692514179dd008a49\\', \\'department\\': \\'Camera\\', \\'gender\\': 0, \\'id\\': 1437305, \\'job\\': \\'Camera Operator\\', \\'name\\': \\'Michael Applebaum\\', \\'profile_path\\': None}, {\\'credit_id\\': \\'5677f9bd9251417845001aae\\', \\'department\\': \\'Camera\\', \\'gender\\': 0, \\'id\\': 1401765, \\'job\\': \\'Still Photographer\\', \\'name\\': \\'Steve Dietl\\', \\'profile_path\\': None}, {\\'credit_id\\': \\'5677f9e592514179e7008bf7\\', \\'department\\': \\'Lighting\\', \\'gender\\': 0, \\'id\\': 1402721, \\'job\\': \\'Rigging Gaffer\\', \\'name\\': \\'Tarik Naim Alherimi\\', \\'profile_path\\': None}, {\\'credit_id\\': \\'5677f9f4c3a368167c0090ed\\', \\'department\\': \\'Lighting\\', \\'gender\\': 0, \\'id\\': 1402719, \\'job\\': \\'Gaffer\\', \\'name\\': \\'Paul Olinde\\', \\'profile_path\\': None}, {\\'credit_id\\': \\'5677fa21c3a368168e0096ca\\', \\'department\\': \\'Sound\\', \\'gender\\': 0, \\'id\\': 1551840, \\'job\\': \\'Music Supervisor\\', \\'name\\': \\'Steve Griffen\\', \\'profile_path\\': None}, {\\'credit_id\\': \\'5677fa31c3a3681680008e04\\', \\'department\\': \\'Sound\\', \\'gender\\': 0, \\'id\\': 1551841, \\'job\\': \\'Music Editor\\', \\'name\\': \\'Matt Fausak\\', \\'profile_path\\': None}, {\\'credit_id\\': \\'5677fa4392514179dd008a76\\', \\'department\\': \\'Sound\\', \\'gender\\': 0, \\'id\\': 1551840, \\'job\\': \\'Music Editor\\', \\'name\\': \\'Steve Griffen\\', \\'profile_path\\': None}, {\\'credit_id\\': \\'5677fa609251417845001acf\\', \\'department\\': \\'Costume & Make-Up\\', \\'gender\\': 0, \\'id\\': 1403416, \\'job\\': \\'Costume Supervisor\\', \\'name\\': \\'Shonta T. McCray\\', \\'profile_path\\': None}, {\\'credit_id\\': \\'5677fa8492514179d2008fb3\\', \\'department\\': \\'Camera\\', \\'gender\\': 0, \\'id\\': 1425831, \\'job\\': \\'Steadicam Operator\\', \\'name\\': \\'Mark Karavite\\', \\'profile_path\\': None}, {\\'credit_id\\': \\'5677fab2c3a3681689008ac3\\', \\'department\\': \\'Camera\\', \\'gender\\': 0, \\'id\\': 1551842, \\'job\\': \\'First Assistant Camera\\', \\'name\\': \\'Joe Waistell\\', \\'profile_path\\': None}, {\\'credit_id\\': \\'5677faecc3a368168e0096fe\\', \\'department\\': \\'Sound\\', \\'gender\\': 0, \\'id\\': 58362, \\'job\\': \\'Supervising Sound Editor\\', \\'name\\': \\'Michael Hilkene\\', \\'profile_path\\': None}, {\\'credit_id\\': \\'59ac0368c3a3682c0a02c484\\', \\'department\\': \\'Crew\\', \\'gender\\': 0, \\'id\\': 1881584, \\'job\\': \\'Additional Writing\\', \\'name\\': \\'John Karnay\\', \\'profile_path\\': None}, {\\'credit_id\\': \\'59ac0411c3a3682bf0028966\\', \\'department\\': \\'Costume & Make-Up\\', \\'gender\\': 0, \\'id\\': 1431552, \\'job\\': \\'Hairstylist\\', \\'name\\': \\'Daina Daigle\\', \\'profile_path\\': None}, {\\'credit_id\\': \\'59ac0504925141072302b8fb\\', \\'department\\': \\'Costume & Make-Up\\', \\'gender\\': 0, \\'id\\': 1712001, \\'job\\': \\'Makeup Artist\\', \\'name\\': \\'Allison Gordin\\', \\'profile_path\\': None}, {\\'credit_id\\': \\'59ac0570c3a3682bf0028aac\\', \\'department\\': \\'Costume & Make-Up\\', \\'gender\\': 0, \\'id\\': 578725, \\'job\\': \\'Makeup Artist\\', \\'name\\': \\'Darryl Lucas\\', \\'profile_path\\': None}, {\\'credit_id\\': \\'59ac05a4925141077e02c97e\\', \\'department\\': \\'Costume & Make-Up\\', \\'gender\\': 0, \\'id\\': 1463274, \\'job\\': \\'Makeup Artist\\', \\'name\\': \\'Annabelle MacNeal\\', \\'profile_path\\': None}, {\\'credit_id\\': \\'59ac05c6925141076502d106\\', \\'department\\': \\'Costume & Make-Up\\', \\'gender\\': 0, \\'id\\': 1881586, \\'job\\': \\'Makeup Artist\\', \\'name\\': \\'Marina Savva\\', \\'profile_path\\': None}, {\\'credit_id\\': \\'59ac0615c3a3682c480296aa\\', \\'department\\': \\'Costume & Make-Up\\', \\'gender\\': 0, \\'id\\': 1406267, \\'job\\': \\'Hairstylist\\', \\'name\\': \\'Carl G. Variste\\', \\'profile_path\\': None}, {\\'credit_id\\': \\'59ac06ba925141076502d1fa\\', \\'department\\': \\'Directing\\', \\'gender\\': 0, \\'id\\': 1798593, \\'job\\': \\'First Assistant Director\\', \\'name\\': \\'Josh King\\', \\'profile_path\\': None}, {\\'credit_id\\': \\'59ac06f1c3a3682c2202aca0\\', \\'department\\': \\'Art\\', \\'gender\\': 0, \\'id\\': 1415083, \\'job\\': \\'Greensman\\', \\'name\\': \\'Scott C. Bivona\\', \\'profile_path\\': None}, {\\'credit_id\\': \\'59ac072c925141076502d260\\', \\'department\\': \\'Art\\', \\'gender\\': 0, \\'id\\': 1881587, \\'job\\': \\'Title Designer\\', \\'name\\': \\'Eunha Choi\\', \\'profile_path\\': None}, {\\'credit_id\\': \\'59ac077c925141077e02cb62\\', \\'department\\': \\'Art\\', \\'gender\\': 0, \\'id\\': 1585302, \\'job\\': \\'Construction Coordinator\\', \\'name\\': \\'Daniel Coe\\', \\'profile_path\\': None}, {\\'credit_id\\': \\'59ac07e0925141078a02d842\\', \\'department\\': \\'Art\\', \\'gender\\': 0, \\'id\\': 1495523, \\'job\\': \\'Set Designer\\', \\'name\\': \\'Spencer Davison\\', \\'profile_path\\': None}, {\\'credit_id\\': \\'59ac0862925141072f02cf6f\\', \\'department\\': \\'Art\\', \\'gender\\': 0, \\'id\\': 1881589, \\'job\\': \\'Painter\\', \\'name\\': \\'Sonia L. Garcia\\', \\'profile_path\\': None}, {\\'credit_id\\': \\'59ac08e0c3a3682bf0028e51\\', \\'department\\': \\'Art\\', \\'gender\\': 0, \\'id\\': 1424896, \\'job\\': \\'Art Department Coordinator\\', \\'name\\': \\'Caleb Guillotte\\', \\'profile_path\\': None}, {\\'credit_id\\': \\'59ac0920c3a3682c2202af36\\', \\'department\\': \\'Art\\', \\'gender\\': 0, \\'id\\': 1393375, \\'job\\': \\'Leadman\\', \\'name\\': \"Pat A. O\\'Connor\", \\'profile_path\\': None}, {\\'credit_id\\': \\'59ac095592514107af02cc39\\', \\'department\\': \\'Art\\', \\'gender\\': 0, \\'id\\': 1881592, \\'job\\': \\'Set Designer\\', \\'name\\': \\'Brendan Turrill\\', \\'profile_path\\': None}, {\\'credit_id\\': \\'59ac0989925141072302bdfa\\', \\'department\\': \\'Art\\', \\'gender\\': 2, \\'id\\': 76497, \\'job\\': \\'Property Master\\', \\'name\\': \\'Brook Yeaton\\', \\'profile_path\\': None}, {\\'credit_id\\': \\'59ac0a2cc3a3682c9c02add1\\', \\'department\\': \\'Sound\\', \\'gender\\': 0, \\'id\\': 1881596, \\'job\\': \\'Boom Operator\\', \\'name\\': \\'Matthew Armstrong\\', \\'profile_path\\': None}, {\\'credit_id\\': \\'59ac0aa8925141072f02d282\\', \\'department\\': \\'Visual Effects\\', \\'gender\\': 2, \\'id\\': 1558086, \\'job\\': \\'Special Effects Supervisor\\', \\'name\\': \\'Matt Kutcher\\', \\'profile_path\\': None}, {\\'credit_id\\': \\'59ac0b2ac3a3682c2202b192\\', \\'department\\': \\'Crew\\', \\'gender\\': 2, \\'id\\': 1558087, \\'job\\': \\'Special Effects Coordinator\\', \\'name\\': \\'Eric Roberts\\', \\'profile_path\\': None}, {\\'credit_id\\': \\'59ac0b7ac3a3682c2202b1fb\\', \\'department\\': \\'Visual Effects\\', \\'gender\\': 0, \\'id\\': 1392098, \\'job\\': \\'Visual Effects Supervisor\\', \\'name\\': \\'Rocco Passionino\\', \\'profile_path\\': None}, {\\'credit_id\\': \\'59ac0bbe925141077e02d0c4\\', \\'department\\': \\'Visual Effects\\', \\'gender\\': 0, \\'id\\': 1558716, \\'job\\': \\'Visual Effects Coordinator\\', \\'name\\': \\'Joseph Payo\\', \\'profile_path\\': None}, {\\'credit_id\\': \\'59ac0bf2c3a3682cc802cefa\\', \\'department\\': \\'Visual Effects\\', \\'gender\\': 0, \\'id\\': 1408784, \\'job\\': \\'Visual Effects Producer\\', \\'name\\': \\'Chris Roff\\', \\'profile_path\\': None}, {\\'credit_id\\': \\'59ac0c51c3a3682c48029d99\\', \\'department\\': \\'Lighting\\', \\'gender\\': 0, \\'id\\': 1881600, \\'job\\': \\'Best Boy Electric\\', \\'name\\': \\'Ulyan Atamanyuk\\', \\'profile_path\\': None}, {\\'credit_id\\': \\'59ac0cbac3a3682c0a02cff6\\', \\'department\\': \\'Camera\\', \\'gender\\': 0, \\'id\\': 1881602, \\'job\\': \\'Key Grip\\', \\'name\\': \\'Chris Ekstrom\\', \\'profile_path\\': None}, {\\'credit_id\\': \\'59ac0d54925141072f02d5e6\\', \\'department\\': \\'Lighting\\', \\'gender\\': 0, \\'id\\': 1484984, \\'job\\': \\'Best Boy Electric\\', \\'name\\': \\'Brad Garris\\', \\'profile_path\\': None}, {\\'credit_id\\': \\'59ac0db0925141078a02df86\\', \\'department\\': \\'Camera\\', \\'gender\\': 0, \\'id\\': 1881603, \\'job\\': \\'Dolly Grip\\', \\'name\\': \\'Kendell Joseph\\', \\'profile_path\\': None}, {\\'credit_id\\': \\'59ac0e5a925141077e02d39f\\', \\'department\\': \\'Camera\\', \\'gender\\': 0, \\'id\\': 1549179, \\'job\\': \\'Dolly Grip\\', \\'name\\': \\'Spencer Wilcox\\', \\'profile_path\\': None}, {\\'credit_id\\': \\'59ac0e9f925141079d02bee6\\', \\'department\\': \\'Costume & Make-Up\\', \\'gender\\': 0, \\'id\\': 1552626, \\'job\\': \\'Key Costumer\\', \\'name\\': \\'Sarah P. Koeppe\\', \\'profile_path\\': None}, {\\'credit_id\\': \\'59ac0ec1c3a3682bf0029524\\', \\'department\\': \\'Costume & Make-Up\\', \\'gender\\': 0, \\'id\\': 1881605, \\'job\\': \\'Seamstress\\', \\'name\\': \\'Catherine Rodi\\', \\'profile_path\\': None}, {\\'credit_id\\': \\'59ac0eef925141070702c7ff\\', \\'department\\': \\'Costume & Make-Up\\', \\'gender\\': 0, \\'id\\': 1463801, \\'job\\': \\'Seamstress\\', \\'name\\': \\'Giselle Spence\\', \\'profile_path\\': None}, {\\'credit_id\\': \\'59ac0f5dc3a3682c4802a0f5\\', \\'department\\': \\'Production\\', \\'gender\\': 0, \\'id\\': 1400837, \\'job\\': \\'Location Manager\\', \\'name\\': \\'John A. Johnston\\', \\'profile_path\\': None}, {\\'credit_id\\': \\'59ac0ff2c3a3682c4802a196\\', \\'department\\': \\'Crew\\', \\'gender\\': 0, \\'id\\': 1844322, \\'job\\': \\'Production Controller\\', \\'name\\': \\'Gail Marks\\', \\'profile_path\\': None}]'"
            ],
            "application/vnd.google.colaboratory.intrinsic+json": {
              "type": "string"
            }
          },
          "metadata": {},
          "execution_count": 109
        }
      ]
    },
    {
      "cell_type": "code",
      "source": [
        "type(df.loc[0,'crew']) # it is not a dictionary rather it is a dictionary"
      ],
      "metadata": {
        "colab": {
          "base_uri": "https://localhost:8080/"
        },
        "id": "MvDFf3UDajlu",
        "outputId": "6dce4f41-49d4-492f-a1e9-479eb92372df"
      },
      "execution_count": null,
      "outputs": [
        {
          "output_type": "execute_result",
          "data": {
            "text/plain": [
              "str"
            ]
          },
          "metadata": {},
          "execution_count": 110
        }
      ]
    },
    {
      "cell_type": "code",
      "source": [
        "crew_list = eval(df.loc[0,'crew'])"
      ],
      "metadata": {
        "id": "7lgsmCM6bZg5"
      },
      "execution_count": null,
      "outputs": []
    },
    {
      "cell_type": "code",
      "source": [
        "len(crew_list) # number of crew member is 72"
      ],
      "metadata": {
        "colab": {
          "base_uri": "https://localhost:8080/"
        },
        "id": "jkywhkrnb5cs",
        "outputId": "e8c92f22-c40f-473a-ce80-d762b5168664"
      },
      "execution_count": null,
      "outputs": [
        {
          "output_type": "execute_result",
          "data": {
            "text/plain": [
              "72"
            ]
          },
          "metadata": {},
          "execution_count": 112
        }
      ]
    },
    {
      "cell_type": "code",
      "source": [
        "df.loc[0,'genres']"
      ],
      "metadata": {
        "colab": {
          "base_uri": "https://localhost:8080/",
          "height": 35
        },
        "id": "dXueg14RcaA7",
        "outputId": "13d4d474-98db-42b8-f103-4a96bc8d80aa"
      },
      "execution_count": null,
      "outputs": [
        {
          "output_type": "execute_result",
          "data": {
            "text/plain": [
              "\"[{'id': 35, 'name': 'Comedy'}]\""
            ],
            "application/vnd.google.colaboratory.intrinsic+json": {
              "type": "string"
            }
          },
          "metadata": {},
          "execution_count": 113
        }
      ]
    },
    {
      "cell_type": "code",
      "source": [
        "type(df.loc[0,'genres']) #So why this data are in string form beacuse, someone who was collecting data they were might be storing in string form because string have immutablity feature"
      ],
      "metadata": {
        "colab": {
          "base_uri": "https://localhost:8080/"
        },
        "id": "Tt3jtvKUcqvI",
        "outputId": "0928263c-287a-44c7-cc8e-5e81c72cf8c4"
      },
      "execution_count": null,
      "outputs": [
        {
          "output_type": "execute_result",
          "data": {
            "text/plain": [
              "str"
            ]
          },
          "metadata": {},
          "execution_count": 114
        }
      ]
    },
    {
      "cell_type": "code",
      "source": [
        "eval(df.loc[0,'genres'])"
      ],
      "metadata": {
        "colab": {
          "base_uri": "https://localhost:8080/"
        },
        "id": "9uFVcIxlc538",
        "outputId": "e0791cc0-413d-4e82-b135-c2861e9b2c4d"
      },
      "execution_count": null,
      "outputs": [
        {
          "output_type": "execute_result",
          "data": {
            "text/plain": [
              "[{'id': 35, 'name': 'Comedy'}]"
            ]
          },
          "metadata": {},
          "execution_count": 115
        }
      ]
    },
    {
      "cell_type": "markdown",
      "source": [
        "## COnverting string value to proper lists and we will apply this transformation to these columns : Genres, cast and crew"
      ],
      "metadata": {
        "id": "6xkv1dUffDX-"
      }
    },
    {
      "cell_type": "code",
      "source": [
        "df.columns"
      ],
      "metadata": {
        "colab": {
          "base_uri": "https://localhost:8080/"
        },
        "id": "r4lla-tXi1WR",
        "outputId": "f185abb0-26b1-44dc-e0ad-04a301cc1d1c"
      },
      "execution_count": null,
      "outputs": [
        {
          "output_type": "execute_result",
          "data": {
            "text/plain": [
              "Index(['id', 'belongs_to_collection', 'budget', 'genres', 'homepage',\n",
              "       'imdb_id', 'original_language', 'original_title', 'overview',\n",
              "       'popularity', 'poster_path', 'production_companies',\n",
              "       'production_countries', 'release_date', 'runtime', 'spoken_languages',\n",
              "       'status', 'tagline', 'title', 'Keywords', 'cast', 'crew', 'revenue'],\n",
              "      dtype='object')"
            ]
          },
          "metadata": {},
          "execution_count": 116
        }
      ]
    },
    {
      "cell_type": "code",
      "source": [
        "columns_to_keep = ['budget','genres','imdb_id','original_language', 'original_title','cast', 'crew', 'revenue']"
      ],
      "metadata": {
        "id": "lyhQwfefi5IR"
      },
      "execution_count": null,
      "outputs": []
    },
    {
      "cell_type": "code",
      "source": [
        "df = df[columns_to_keep]"
      ],
      "metadata": {
        "id": "b-45JoNcj7ZU"
      },
      "execution_count": null,
      "outputs": []
    },
    {
      "cell_type": "code",
      "source": [
        "df.head(2)"
      ],
      "metadata": {
        "colab": {
          "base_uri": "https://localhost:8080/",
          "height": 208
        },
        "id": "npwwjG9Cj_fr",
        "outputId": "4ea4f30c-1716-4914-f991-c853223c152f"
      },
      "execution_count": null,
      "outputs": [
        {
          "output_type": "execute_result",
          "data": {
            "text/plain": [
              "     budget                                             genres    imdb_id  \\\n",
              "0  14000000                     [{'id': 35, 'name': 'Comedy'}]  tt2637294   \n",
              "1  40000000  [{'id': 35, 'name': 'Comedy'}, {'id': 18, 'nam...  tt0368933   \n",
              "\n",
              "  original_language                            original_title  \\\n",
              "0                en                    Hot Tub Time Machine 2   \n",
              "1                en  The Princess Diaries 2: Royal Engagement   \n",
              "\n",
              "                                                cast  \\\n",
              "0  [{'cast_id': 4, 'character': 'Lou', 'credit_id...   \n",
              "1  [{'cast_id': 1, 'character': 'Mia Thermopolis'...   \n",
              "\n",
              "                                                crew   revenue  \n",
              "0  [{'credit_id': '59ac067c92514107af02c8c8', 'de...  12314651  \n",
              "1  [{'credit_id': '52fe43fe9251416c7502563d', 'de...  95149435  "
            ],
            "text/html": [
              "\n",
              "  <div id=\"df-96846135-0b81-4777-9e6f-465f9ac30cfa\">\n",
              "    <div class=\"colab-df-container\">\n",
              "      <div>\n",
              "<style scoped>\n",
              "    .dataframe tbody tr th:only-of-type {\n",
              "        vertical-align: middle;\n",
              "    }\n",
              "\n",
              "    .dataframe tbody tr th {\n",
              "        vertical-align: top;\n",
              "    }\n",
              "\n",
              "    .dataframe thead th {\n",
              "        text-align: right;\n",
              "    }\n",
              "</style>\n",
              "<table border=\"1\" class=\"dataframe\">\n",
              "  <thead>\n",
              "    <tr style=\"text-align: right;\">\n",
              "      <th></th>\n",
              "      <th>budget</th>\n",
              "      <th>genres</th>\n",
              "      <th>imdb_id</th>\n",
              "      <th>original_language</th>\n",
              "      <th>original_title</th>\n",
              "      <th>cast</th>\n",
              "      <th>crew</th>\n",
              "      <th>revenue</th>\n",
              "    </tr>\n",
              "  </thead>\n",
              "  <tbody>\n",
              "    <tr>\n",
              "      <th>0</th>\n",
              "      <td>14000000</td>\n",
              "      <td>[{'id': 35, 'name': 'Comedy'}]</td>\n",
              "      <td>tt2637294</td>\n",
              "      <td>en</td>\n",
              "      <td>Hot Tub Time Machine 2</td>\n",
              "      <td>[{'cast_id': 4, 'character': 'Lou', 'credit_id...</td>\n",
              "      <td>[{'credit_id': '59ac067c92514107af02c8c8', 'de...</td>\n",
              "      <td>12314651</td>\n",
              "    </tr>\n",
              "    <tr>\n",
              "      <th>1</th>\n",
              "      <td>40000000</td>\n",
              "      <td>[{'id': 35, 'name': 'Comedy'}, {'id': 18, 'nam...</td>\n",
              "      <td>tt0368933</td>\n",
              "      <td>en</td>\n",
              "      <td>The Princess Diaries 2: Royal Engagement</td>\n",
              "      <td>[{'cast_id': 1, 'character': 'Mia Thermopolis'...</td>\n",
              "      <td>[{'credit_id': '52fe43fe9251416c7502563d', 'de...</td>\n",
              "      <td>95149435</td>\n",
              "    </tr>\n",
              "  </tbody>\n",
              "</table>\n",
              "</div>\n",
              "      <button class=\"colab-df-convert\" onclick=\"convertToInteractive('df-96846135-0b81-4777-9e6f-465f9ac30cfa')\"\n",
              "              title=\"Convert this dataframe to an interactive table.\"\n",
              "              style=\"display:none;\">\n",
              "        \n",
              "  <svg xmlns=\"http://www.w3.org/2000/svg\" height=\"24px\"viewBox=\"0 0 24 24\"\n",
              "       width=\"24px\">\n",
              "    <path d=\"M0 0h24v24H0V0z\" fill=\"none\"/>\n",
              "    <path d=\"M18.56 5.44l.94 2.06.94-2.06 2.06-.94-2.06-.94-.94-2.06-.94 2.06-2.06.94zm-11 1L8.5 8.5l.94-2.06 2.06-.94-2.06-.94L8.5 2.5l-.94 2.06-2.06.94zm10 10l.94 2.06.94-2.06 2.06-.94-2.06-.94-.94-2.06-.94 2.06-2.06.94z\"/><path d=\"M17.41 7.96l-1.37-1.37c-.4-.4-.92-.59-1.43-.59-.52 0-1.04.2-1.43.59L10.3 9.45l-7.72 7.72c-.78.78-.78 2.05 0 2.83L4 21.41c.39.39.9.59 1.41.59.51 0 1.02-.2 1.41-.59l7.78-7.78 2.81-2.81c.8-.78.8-2.07 0-2.86zM5.41 20L4 18.59l7.72-7.72 1.47 1.35L5.41 20z\"/>\n",
              "  </svg>\n",
              "      </button>\n",
              "      \n",
              "  <style>\n",
              "    .colab-df-container {\n",
              "      display:flex;\n",
              "      flex-wrap:wrap;\n",
              "      gap: 12px;\n",
              "    }\n",
              "\n",
              "    .colab-df-convert {\n",
              "      background-color: #E8F0FE;\n",
              "      border: none;\n",
              "      border-radius: 50%;\n",
              "      cursor: pointer;\n",
              "      display: none;\n",
              "      fill: #1967D2;\n",
              "      height: 32px;\n",
              "      padding: 0 0 0 0;\n",
              "      width: 32px;\n",
              "    }\n",
              "\n",
              "    .colab-df-convert:hover {\n",
              "      background-color: #E2EBFA;\n",
              "      box-shadow: 0px 1px 2px rgba(60, 64, 67, 0.3), 0px 1px 3px 1px rgba(60, 64, 67, 0.15);\n",
              "      fill: #174EA6;\n",
              "    }\n",
              "\n",
              "    [theme=dark] .colab-df-convert {\n",
              "      background-color: #3B4455;\n",
              "      fill: #D2E3FC;\n",
              "    }\n",
              "\n",
              "    [theme=dark] .colab-df-convert:hover {\n",
              "      background-color: #434B5C;\n",
              "      box-shadow: 0px 1px 3px 1px rgba(0, 0, 0, 0.15);\n",
              "      filter: drop-shadow(0px 1px 2px rgba(0, 0, 0, 0.3));\n",
              "      fill: #FFFFFF;\n",
              "    }\n",
              "  </style>\n",
              "\n",
              "      <script>\n",
              "        const buttonEl =\n",
              "          document.querySelector('#df-96846135-0b81-4777-9e6f-465f9ac30cfa button.colab-df-convert');\n",
              "        buttonEl.style.display =\n",
              "          google.colab.kernel.accessAllowed ? 'block' : 'none';\n",
              "\n",
              "        async function convertToInteractive(key) {\n",
              "          const element = document.querySelector('#df-96846135-0b81-4777-9e6f-465f9ac30cfa');\n",
              "          const dataTable =\n",
              "            await google.colab.kernel.invokeFunction('convertToInteractive',\n",
              "                                                     [key], {});\n",
              "          if (!dataTable) return;\n",
              "\n",
              "          const docLinkHtml = 'Like what you see? Visit the ' +\n",
              "            '<a target=\"_blank\" href=https://colab.research.google.com/notebooks/data_table.ipynb>data table notebook</a>'\n",
              "            + ' to learn more about interactive tables.';\n",
              "          element.innerHTML = '';\n",
              "          dataTable['output_type'] = 'display_data';\n",
              "          await google.colab.output.renderOutput(dataTable, element);\n",
              "          const docLink = document.createElement('div');\n",
              "          docLink.innerHTML = docLinkHtml;\n",
              "          element.appendChild(docLink);\n",
              "        }\n",
              "      </script>\n",
              "    </div>\n",
              "  </div>\n",
              "  "
            ]
          },
          "metadata": {},
          "execution_count": 119
        }
      ]
    },
    {
      "cell_type": "code",
      "source": [
        "# Drop the null observations\n",
        "df_null_val = df.dropna()"
      ],
      "metadata": {
        "id": "BvOoiyoTkNyQ"
      },
      "execution_count": null,
      "outputs": []
    },
    {
      "cell_type": "code",
      "source": [
        "df_null_val.shape"
      ],
      "metadata": {
        "colab": {
          "base_uri": "https://localhost:8080/"
        },
        "id": "H7BF3k01kNal",
        "outputId": "eb68fcef-e754-4225-8553-044b1327c714"
      },
      "execution_count": null,
      "outputs": [
        {
          "output_type": "execute_result",
          "data": {
            "text/plain": [
              "(2978, 8)"
            ]
          },
          "metadata": {},
          "execution_count": 121
        }
      ]
    },
    {
      "cell_type": "code",
      "source": [
        "df_null_val.info()"
      ],
      "metadata": {
        "colab": {
          "base_uri": "https://localhost:8080/"
        },
        "id": "NbornWBykNGj",
        "outputId": "eacdb46d-06ff-477c-db1c-a5b7bc338ea2"
      },
      "execution_count": null,
      "outputs": [
        {
          "output_type": "stream",
          "name": "stdout",
          "text": [
            "<class 'pandas.core.frame.DataFrame'>\n",
            "Int64Index: 2978 entries, 0 to 2999\n",
            "Data columns (total 8 columns):\n",
            " #   Column             Non-Null Count  Dtype \n",
            "---  ------             --------------  ----- \n",
            " 0   budget             2978 non-null   int64 \n",
            " 1   genres             2978 non-null   object\n",
            " 2   imdb_id            2978 non-null   object\n",
            " 3   original_language  2978 non-null   object\n",
            " 4   original_title     2978 non-null   object\n",
            " 5   cast               2978 non-null   object\n",
            " 6   crew               2978 non-null   object\n",
            " 7   revenue            2978 non-null   int64 \n",
            "dtypes: int64(2), object(6)\n",
            "memory usage: 209.4+ KB\n"
          ]
        }
      ]
    },
    {
      "cell_type": "code",
      "source": [
        "def convert_str_to_list(str):\n",
        "  return eval(str)"
      ],
      "metadata": {
        "id": "RbCfGoECdeC3"
      },
      "execution_count": null,
      "outputs": []
    },
    {
      "cell_type": "code",
      "source": [
        "# Apply the above function to the three columna genres, cast and crew\n",
        "df.loc[~df['genres'].isna(),'genres'] = df.loc[~df['genres'].isna(),'genres'].apply(convert_str_to_list)"
      ],
      "metadata": {
        "id": "9kCfSwMjf9Od"
      },
      "execution_count": null,
      "outputs": []
    },
    {
      "cell_type": "code",
      "source": [
        "df.loc[0,'genres']"
      ],
      "metadata": {
        "colab": {
          "base_uri": "https://localhost:8080/"
        },
        "id": "lBVoO8zunGKg",
        "outputId": "04e07b49-7651-4b9b-86a6-02c635c7e506"
      },
      "execution_count": null,
      "outputs": [
        {
          "output_type": "execute_result",
          "data": {
            "text/plain": [
              "[{'id': 35, 'name': 'Comedy'}]"
            ]
          },
          "metadata": {},
          "execution_count": 125
        }
      ]
    },
    {
      "cell_type": "code",
      "source": [
        "# Apply the above function to the three columna genres, cast and crew\n",
        "df.loc[~df['cast'].isna(),'cast'] = df.loc[~df['cast'].isna(),'cast'].apply(convert_str_to_list)"
      ],
      "metadata": {
        "id": "V8CxnqP6mxs9"
      },
      "execution_count": null,
      "outputs": []
    },
    {
      "cell_type": "code",
      "source": [
        "df.loc[0,'cast']"
      ],
      "metadata": {
        "colab": {
          "base_uri": "https://localhost:8080/"
        },
        "id": "-oEycld-nIGv",
        "outputId": "73b96075-ecc5-4460-890c-1703cfb2056a"
      },
      "execution_count": null,
      "outputs": [
        {
          "output_type": "execute_result",
          "data": {
            "text/plain": [
              "[{'cast_id': 4,\n",
              "  'character': 'Lou',\n",
              "  'credit_id': '52fe4ee7c3a36847f82afae7',\n",
              "  'gender': 2,\n",
              "  'id': 52997,\n",
              "  'name': 'Rob Corddry',\n",
              "  'order': 0,\n",
              "  'profile_path': '/k2zJL0V1nEZuFT08xUdOd3ucfXz.jpg'},\n",
              " {'cast_id': 5,\n",
              "  'character': 'Nick',\n",
              "  'credit_id': '52fe4ee7c3a36847f82afaeb',\n",
              "  'gender': 2,\n",
              "  'id': 64342,\n",
              "  'name': 'Craig Robinson',\n",
              "  'order': 1,\n",
              "  'profile_path': '/tVaRMkJXOEVhYxtnnFuhqW0Rjzz.jpg'},\n",
              " {'cast_id': 6,\n",
              "  'character': 'Jacob',\n",
              "  'credit_id': '52fe4ee7c3a36847f82afaef',\n",
              "  'gender': 2,\n",
              "  'id': 54729,\n",
              "  'name': 'Clark Duke',\n",
              "  'order': 2,\n",
              "  'profile_path': '/oNzK0umwm5Wn0wyEbOy6TVJCSBn.jpg'},\n",
              " {'cast_id': 7,\n",
              "  'character': 'Adam Jr.',\n",
              "  'credit_id': '52fe4ee7c3a36847f82afaf3',\n",
              "  'gender': 2,\n",
              "  'id': 36801,\n",
              "  'name': 'Adam Scott',\n",
              "  'order': 3,\n",
              "  'profile_path': '/5gb65xz8bzd42yjMAl4zwo4cvKw.jpg'},\n",
              " {'cast_id': 8,\n",
              "  'character': 'Hot Tub Repairman',\n",
              "  'credit_id': '52fe4ee7c3a36847f82afaf7',\n",
              "  'gender': 2,\n",
              "  'id': 54812,\n",
              "  'name': 'Chevy Chase',\n",
              "  'order': 4,\n",
              "  'profile_path': '/svjpyYtPwtjvRxX9IZnOmOkhDOt.jpg'},\n",
              " {'cast_id': 9,\n",
              "  'character': 'Jill',\n",
              "  'credit_id': '52fe4ee7c3a36847f82afafb',\n",
              "  'gender': 1,\n",
              "  'id': 94098,\n",
              "  'name': 'Gillian Jacobs',\n",
              "  'order': 5,\n",
              "  'profile_path': '/rBnhe5vhNPnhRUdtYahBWx90fJM.jpg'},\n",
              " {'cast_id': 10,\n",
              "  'character': 'Sophie',\n",
              "  'credit_id': '52fe4ee7c3a36847f82afaff',\n",
              "  'gender': 1,\n",
              "  'id': 1159009,\n",
              "  'name': 'Bianca Haase',\n",
              "  'order': 6,\n",
              "  'profile_path': '/4x3nbtD8q8phAJPmoGWXPvz0iM.jpg'},\n",
              " {'cast_id': 11,\n",
              "  'character': 'Kelly',\n",
              "  'credit_id': '5524ec51c3a3687df3000dbb',\n",
              "  'gender': 1,\n",
              "  'id': 86624,\n",
              "  'name': 'Collette Wolfe',\n",
              "  'order': 7,\n",
              "  'profile_path': '/aSD4h5379b2eEw3bLou9ByLimmq.jpg'},\n",
              " {'cast_id': 13,\n",
              "  'character': 'Brad',\n",
              "  'credit_id': '5524ec8ec3a3687ded000d72',\n",
              "  'gender': 2,\n",
              "  'id': 466505,\n",
              "  'name': 'Kumail Nanjiani',\n",
              "  'order': 9,\n",
              "  'profile_path': '/x4nAztHY72SVciRfxEsbhIVTsIu.jpg'},\n",
              " {'cast_id': 14,\n",
              "  'character': 'Courtney',\n",
              "  'credit_id': '5524ec9bc3a3687df8000d13',\n",
              "  'gender': 1,\n",
              "  'id': 70776,\n",
              "  'name': 'Kellee Stewart',\n",
              "  'order': 10,\n",
              "  'profile_path': '/w3xmsEPmJc1Cf0dQ4aIn8YmlHbk.jpg'},\n",
              " {'cast_id': 15,\n",
              "  'character': 'Terry',\n",
              "  'credit_id': '5524eca892514171cb008237',\n",
              "  'gender': 2,\n",
              "  'id': 347335,\n",
              "  'name': 'Josh Heald',\n",
              "  'order': 11,\n",
              "  'profile_path': '/pwXJIenrDMrG7t3zNfLvr8w1RGU.jpg'},\n",
              " {'cast_id': 16,\n",
              "  'character': 'Susan',\n",
              "  'credit_id': '5524ecb7925141720c001116',\n",
              "  'gender': 0,\n",
              "  'id': 1451392,\n",
              "  'name': 'Gretchen Koerner',\n",
              "  'order': 12,\n",
              "  'profile_path': '/muULPexCTJGyJba4yKzxronpD50.jpg'},\n",
              " {'cast_id': 17,\n",
              "  'character': 'Herself',\n",
              "  'credit_id': '5524ecc3c3a3687ded000d74',\n",
              "  'gender': 1,\n",
              "  'id': 98879,\n",
              "  'name': 'Lisa Loeb',\n",
              "  'order': 13,\n",
              "  'profile_path': '/bGqg58ca0bZR38z9HliUMmeNGE.jpg'},\n",
              " {'cast_id': 18,\n",
              "  'character': 'Herself',\n",
              "  'credit_id': '5524ecd3c3a3687e11000ed3',\n",
              "  'gender': 1,\n",
              "  'id': 1394648,\n",
              "  'name': 'Jessica Williams',\n",
              "  'order': 14,\n",
              "  'profile_path': '/A4syKjkcYB92wLEhH0c0hC3BCpz.jpg'},\n",
              " {'cast_id': 19,\n",
              "  'character': 'Himself',\n",
              "  'credit_id': '5524ece6925141718d001009',\n",
              "  'gender': 0,\n",
              "  'id': 1451393,\n",
              "  'name': 'Bruce Buffer',\n",
              "  'order': 15,\n",
              "  'profile_path': None},\n",
              " {'cast_id': 20,\n",
              "  'character': 'Shot Girl',\n",
              "  'credit_id': '5524ecf5c3a3687e08000dc2',\n",
              "  'gender': 0,\n",
              "  'id': 1451394,\n",
              "  'name': 'Mariana Paola Vicente',\n",
              "  'order': 16,\n",
              "  'profile_path': '/ckPllza8624UHWGHCbLShkLxCD1.jpg'},\n",
              " {'cast_id': 33,\n",
              "  'character': 'Choozy Doozy Host',\n",
              "  'credit_id': '555844da9251412afe0013a9',\n",
              "  'gender': 2,\n",
              "  'id': 2224,\n",
              "  'name': 'Christian Slater',\n",
              "  'order': 17,\n",
              "  'profile_path': '/3ElLWjnvchMS6Q4cIQOK8QNAoMG.jpg'},\n",
              " {'cast_id': 35,\n",
              "  'character': 'Gary Winkle',\n",
              "  'credit_id': '55872027c3a3683853005074',\n",
              "  'gender': 0,\n",
              "  'id': 185805,\n",
              "  'name': 'Jason Jones',\n",
              "  'order': 18,\n",
              "  'profile_path': '/aIoCw6vo8AGMdsQRAI5g2t0yJT3.jpg'},\n",
              " {'cast_id': 36,\n",
              "  'character': 'Bridesmaid',\n",
              "  'credit_id': '55efe971c3a368090c00cd1b',\n",
              "  'gender': 0,\n",
              "  'id': 1507448,\n",
              "  'name': 'Olivia Jordan',\n",
              "  'order': 19,\n",
              "  'profile_path': '/szMukAEiIDeasel0lvyaeyKuych.jpg'},\n",
              " {'cast_id': 37,\n",
              "  'character': 'Christine',\n",
              "  'credit_id': '55efe980c3a36871bf008176',\n",
              "  'gender': 1,\n",
              "  'id': 1334091,\n",
              "  'name': 'Christine Bently',\n",
              "  'order': 20,\n",
              "  'profile_path': '/oUZltnGa55OXE52hfyPTfCshuNy.jpg'},\n",
              " {'cast_id': 38,\n",
              "  'character': 'Excited Girl',\n",
              "  'credit_id': '55efe98e9251413e3201d316',\n",
              "  'gender': 0,\n",
              "  'id': 557803,\n",
              "  'name': 'Stacey Asaro',\n",
              "  'order': 21,\n",
              "  'profile_path': '/qTPdlr1dXf3kNdyHuDsgtGC0HCC.jpg'},\n",
              " {'cast_id': 64,\n",
              "  'character': 'Adam (uncredited)',\n",
              "  'credit_id': '58f2135ac3a3682e95008b91',\n",
              "  'gender': 2,\n",
              "  'id': 3036,\n",
              "  'name': 'John Cusack',\n",
              "  'order': 22,\n",
              "  'profile_path': '/uKydQYuZ9TnCzvbQLtj6j98vWAT.jpg'},\n",
              " {'cast_id': 65,\n",
              "  'character': 'J-Bird',\n",
              "  'credit_id': '59ac0240c3a3682cc802c399',\n",
              "  'gender': 2,\n",
              "  'id': 59256,\n",
              "  'name': 'Adam Herschman',\n",
              "  'order': 23,\n",
              "  'profile_path': '/wZMwiuX1DslF6hDS50z9OTN6z1X.jpg'},\n",
              " {'cast_id': 66,\n",
              "  'character': 'Bridesmaid',\n",
              "  'credit_id': '59ac02cd925141079d02b1b4',\n",
              "  'gender': 1,\n",
              "  'id': 129714,\n",
              "  'name': 'Kisha Sierra',\n",
              "  'order': 24,\n",
              "  'profile_path': None}]"
            ]
          },
          "metadata": {},
          "execution_count": 127
        }
      ]
    },
    {
      "cell_type": "code",
      "source": [
        "# Apply the above function to the three columna genres, cast and crew\n",
        "df.loc[~df['crew'].isna(),'crew'] = df.loc[~df['crew'].isna(),'crew'].apply(convert_str_to_list)"
      ],
      "metadata": {
        "id": "GDK_-oDFmynE"
      },
      "execution_count": null,
      "outputs": []
    },
    {
      "cell_type": "code",
      "source": [
        "df.loc[0,'crew']"
      ],
      "metadata": {
        "colab": {
          "base_uri": "https://localhost:8080/"
        },
        "id": "vdd4-N5RlDHH",
        "outputId": "f1c0f654-61c5-4596-a973-e233cab31d5f"
      },
      "execution_count": null,
      "outputs": [
        {
          "output_type": "execute_result",
          "data": {
            "text/plain": [
              "[{'credit_id': '59ac067c92514107af02c8c8',\n",
              "  'department': 'Directing',\n",
              "  'gender': 0,\n",
              "  'id': 1449071,\n",
              "  'job': 'First Assistant Director',\n",
              "  'name': 'Kelly Cantley',\n",
              "  'profile_path': None},\n",
              " {'credit_id': '52fe4ee7c3a36847f82afad7',\n",
              "  'department': 'Directing',\n",
              "  'gender': 2,\n",
              "  'id': 3227,\n",
              "  'job': 'Director',\n",
              "  'name': 'Steve Pink',\n",
              "  'profile_path': '/myHOgo8mQSCiCAZNGMRdHVr03jr.jpg'},\n",
              " {'credit_id': '5524ed25c3a3687ded000d88',\n",
              "  'department': 'Writing',\n",
              "  'gender': 2,\n",
              "  'id': 347335,\n",
              "  'job': 'Writer',\n",
              "  'name': 'Josh Heald',\n",
              "  'profile_path': '/pwXJIenrDMrG7t3zNfLvr8w1RGU.jpg'},\n",
              " {'credit_id': '5524ed2d925141720c001128',\n",
              "  'department': 'Writing',\n",
              "  'gender': 2,\n",
              "  'id': 347335,\n",
              "  'job': 'Characters',\n",
              "  'name': 'Josh Heald',\n",
              "  'profile_path': '/pwXJIenrDMrG7t3zNfLvr8w1RGU.jpg'},\n",
              " {'credit_id': '5524ed3d92514166c1004a5d',\n",
              "  'department': 'Production',\n",
              "  'gender': 2,\n",
              "  'id': 57822,\n",
              "  'job': 'Producer',\n",
              "  'name': 'Andrew Panay',\n",
              "  'profile_path': None},\n",
              " {'credit_id': '5524ed4bc3a3687df3000dd2',\n",
              "  'department': 'Production',\n",
              "  'gender': 0,\n",
              "  'id': 1451395,\n",
              "  'job': 'Associate Producer',\n",
              "  'name': 'Adam Blum',\n",
              "  'profile_path': None},\n",
              " {'credit_id': '5524ed5a925141720c00112c',\n",
              "  'department': 'Production',\n",
              "  'gender': 2,\n",
              "  'id': 52997,\n",
              "  'job': 'Executive Producer',\n",
              "  'name': 'Rob Corddry',\n",
              "  'profile_path': '/k2zJL0V1nEZuFT08xUdOd3ucfXz.jpg'},\n",
              " {'credit_id': '5524ed85c3a3687e0e000f56',\n",
              "  'department': 'Production',\n",
              "  'gender': 0,\n",
              "  'id': 62807,\n",
              "  'job': 'Executive Producer',\n",
              "  'name': 'Ben Ormand',\n",
              "  'profile_path': None},\n",
              " {'credit_id': '5524ed9fc3a3687e0e000f59',\n",
              "  'department': 'Sound',\n",
              "  'gender': 2,\n",
              "  'id': 23486,\n",
              "  'job': 'Original Music Composer',\n",
              "  'name': 'Christophe Beck',\n",
              "  'profile_path': '/2fnJUmCk6IEpVIptpYaUk31epHx.jpg'},\n",
              " {'credit_id': '5524eda6c3a3687e03000d28',\n",
              "  'department': 'Camera',\n",
              "  'gender': 2,\n",
              "  'id': 6117,\n",
              "  'job': 'Director of Photography',\n",
              "  'name': 'Declan Quinn',\n",
              "  'profile_path': None},\n",
              " {'credit_id': '5524edb4925141720c00113d',\n",
              "  'department': 'Editing',\n",
              "  'gender': 0,\n",
              "  'id': 1451396,\n",
              "  'job': 'Editor',\n",
              "  'name': 'Jamie Gross',\n",
              "  'profile_path': None},\n",
              " {'credit_id': '5524edc1925141727600102e',\n",
              "  'department': 'Production',\n",
              "  'gender': 0,\n",
              "  'id': 22219,\n",
              "  'job': 'Casting',\n",
              "  'name': 'Susie Farris',\n",
              "  'profile_path': None},\n",
              " {'credit_id': '5524edd192514171cb008257',\n",
              "  'department': 'Art',\n",
              "  'gender': 0,\n",
              "  'id': 1002643,\n",
              "  'job': 'Production Design',\n",
              "  'name': 'Ryan Berg',\n",
              "  'profile_path': None},\n",
              " {'credit_id': '555ad9be9251411e5b00d485',\n",
              "  'department': 'Production',\n",
              "  'gender': 2,\n",
              "  'id': 57431,\n",
              "  'job': 'Executive Producer',\n",
              "  'name': 'Matt Moore',\n",
              "  'profile_path': None},\n",
              " {'credit_id': '5677e93bc3a36816890087dc',\n",
              "  'department': 'Directing',\n",
              "  'gender': 0,\n",
              "  'id': 1551818,\n",
              "  'job': 'Script Supervisor',\n",
              "  'name': 'Nicole Garcea',\n",
              "  'profile_path': None},\n",
              " {'credit_id': '5677e96a92514179e10093d0',\n",
              "  'department': 'Production',\n",
              "  'gender': 0,\n",
              "  'id': 1551819,\n",
              "  'job': 'Production Coordinator',\n",
              "  'name': 'Jason Salzman',\n",
              "  'profile_path': None},\n",
              " {'credit_id': '5677e98492514179d2008cd9',\n",
              "  'department': 'Costume & Make-Up',\n",
              "  'gender': 0,\n",
              "  'id': 1422996,\n",
              "  'job': 'Costume Design',\n",
              "  'name': 'Carol Cutshall',\n",
              "  'profile_path': None},\n",
              " {'credit_id': '5677e9d5c3a368168e009414',\n",
              "  'department': 'Art',\n",
              "  'gender': 2,\n",
              "  'id': 500199,\n",
              "  'job': 'Set Decoration',\n",
              "  'name': 'Tim Cohn',\n",
              "  'profile_path': None},\n",
              " {'credit_id': '5677f89d9251417845001a61',\n",
              "  'department': 'Costume & Make-Up',\n",
              "  'gender': 0,\n",
              "  'id': 1527917,\n",
              "  'job': 'Hair Department Head',\n",
              "  'name': 'Voni Hinkle',\n",
              "  'profile_path': None},\n",
              " {'credit_id': '5677f8b392514179dd0089fb',\n",
              "  'department': 'Costume & Make-Up',\n",
              "  'gender': 0,\n",
              "  'id': 1431554,\n",
              "  'job': 'Makeup Department Head',\n",
              "  'name': 'Remi Savva',\n",
              "  'profile_path': None},\n",
              " {'credit_id': '5677f8d1c3a3681689008a4b',\n",
              "  'department': 'Art',\n",
              "  'gender': 0,\n",
              "  'id': 66495,\n",
              "  'job': 'Art Direction',\n",
              "  'name': 'Jason Baldwin Stewart',\n",
              "  'profile_path': None},\n",
              " {'credit_id': '5677f8eec3a3681685008dd5',\n",
              "  'department': 'Production',\n",
              "  'gender': 0,\n",
              "  'id': 1412466,\n",
              "  'job': 'Production Supervisor',\n",
              "  'name': 'Korey Budd',\n",
              "  'profile_path': None},\n",
              " {'credit_id': '5677f90a9251417845001a7d',\n",
              "  'department': 'Sound',\n",
              "  'gender': 0,\n",
              "  'id': 1401562,\n",
              "  'job': 'Sound Re-Recording Mixer',\n",
              "  'name': 'Gary C. Bourgeois',\n",
              "  'profile_path': None},\n",
              " {'credit_id': '5677f91e9251417845001a84',\n",
              "  'department': 'Sound',\n",
              "  'gender': 0,\n",
              "  'id': 1396794,\n",
              "  'job': 'Sound Re-Recording Mixer',\n",
              "  'name': 'Gabriel J. Serrano',\n",
              "  'profile_path': None},\n",
              " {'credit_id': '5677f938c3a3681680008dd4',\n",
              "  'department': 'Editing',\n",
              "  'gender': 0,\n",
              "  'id': 13168,\n",
              "  'job': 'Dialogue Editor',\n",
              "  'name': 'Victoria Rose Sampson',\n",
              "  'profile_path': None},\n",
              " {'credit_id': '5677f94e92514179dd008a1f',\n",
              "  'department': 'Sound',\n",
              "  'gender': 0,\n",
              "  'id': 1551839,\n",
              "  'job': 'Production Sound Mixer',\n",
              "  'name': 'Michael B. Koff',\n",
              "  'profile_path': None},\n",
              " {'credit_id': '5677f968c3a368168e009698',\n",
              "  'department': 'Sound',\n",
              "  'gender': 0,\n",
              "  'id': 113052,\n",
              "  'job': 'Sound Effects Editor',\n",
              "  'name': 'Randall Guth',\n",
              "  'profile_path': None},\n",
              " {'credit_id': '5677f98dc3a3681685008e02',\n",
              "  'department': 'Crew',\n",
              "  'gender': 2,\n",
              "  'id': 1442535,\n",
              "  'job': 'Stunt Coordinator',\n",
              "  'name': 'Chuck Picerni Jr.',\n",
              "  'profile_path': '/yE5QtXUzcrnCzMRctZL8F5g842B.jpg'},\n",
              " {'credit_id': '5677f9a692514179dd008a49',\n",
              "  'department': 'Camera',\n",
              "  'gender': 0,\n",
              "  'id': 1437305,\n",
              "  'job': 'Camera Operator',\n",
              "  'name': 'Michael Applebaum',\n",
              "  'profile_path': None},\n",
              " {'credit_id': '5677f9bd9251417845001aae',\n",
              "  'department': 'Camera',\n",
              "  'gender': 0,\n",
              "  'id': 1401765,\n",
              "  'job': 'Still Photographer',\n",
              "  'name': 'Steve Dietl',\n",
              "  'profile_path': None},\n",
              " {'credit_id': '5677f9e592514179e7008bf7',\n",
              "  'department': 'Lighting',\n",
              "  'gender': 0,\n",
              "  'id': 1402721,\n",
              "  'job': 'Rigging Gaffer',\n",
              "  'name': 'Tarik Naim Alherimi',\n",
              "  'profile_path': None},\n",
              " {'credit_id': '5677f9f4c3a368167c0090ed',\n",
              "  'department': 'Lighting',\n",
              "  'gender': 0,\n",
              "  'id': 1402719,\n",
              "  'job': 'Gaffer',\n",
              "  'name': 'Paul Olinde',\n",
              "  'profile_path': None},\n",
              " {'credit_id': '5677fa21c3a368168e0096ca',\n",
              "  'department': 'Sound',\n",
              "  'gender': 0,\n",
              "  'id': 1551840,\n",
              "  'job': 'Music Supervisor',\n",
              "  'name': 'Steve Griffen',\n",
              "  'profile_path': None},\n",
              " {'credit_id': '5677fa31c3a3681680008e04',\n",
              "  'department': 'Sound',\n",
              "  'gender': 0,\n",
              "  'id': 1551841,\n",
              "  'job': 'Music Editor',\n",
              "  'name': 'Matt Fausak',\n",
              "  'profile_path': None},\n",
              " {'credit_id': '5677fa4392514179dd008a76',\n",
              "  'department': 'Sound',\n",
              "  'gender': 0,\n",
              "  'id': 1551840,\n",
              "  'job': 'Music Editor',\n",
              "  'name': 'Steve Griffen',\n",
              "  'profile_path': None},\n",
              " {'credit_id': '5677fa609251417845001acf',\n",
              "  'department': 'Costume & Make-Up',\n",
              "  'gender': 0,\n",
              "  'id': 1403416,\n",
              "  'job': 'Costume Supervisor',\n",
              "  'name': 'Shonta T. McCray',\n",
              "  'profile_path': None},\n",
              " {'credit_id': '5677fa8492514179d2008fb3',\n",
              "  'department': 'Camera',\n",
              "  'gender': 0,\n",
              "  'id': 1425831,\n",
              "  'job': 'Steadicam Operator',\n",
              "  'name': 'Mark Karavite',\n",
              "  'profile_path': None},\n",
              " {'credit_id': '5677fab2c3a3681689008ac3',\n",
              "  'department': 'Camera',\n",
              "  'gender': 0,\n",
              "  'id': 1551842,\n",
              "  'job': 'First Assistant Camera',\n",
              "  'name': 'Joe Waistell',\n",
              "  'profile_path': None},\n",
              " {'credit_id': '5677faecc3a368168e0096fe',\n",
              "  'department': 'Sound',\n",
              "  'gender': 0,\n",
              "  'id': 58362,\n",
              "  'job': 'Supervising Sound Editor',\n",
              "  'name': 'Michael Hilkene',\n",
              "  'profile_path': None},\n",
              " {'credit_id': '59ac0368c3a3682c0a02c484',\n",
              "  'department': 'Crew',\n",
              "  'gender': 0,\n",
              "  'id': 1881584,\n",
              "  'job': 'Additional Writing',\n",
              "  'name': 'John Karnay',\n",
              "  'profile_path': None},\n",
              " {'credit_id': '59ac0411c3a3682bf0028966',\n",
              "  'department': 'Costume & Make-Up',\n",
              "  'gender': 0,\n",
              "  'id': 1431552,\n",
              "  'job': 'Hairstylist',\n",
              "  'name': 'Daina Daigle',\n",
              "  'profile_path': None},\n",
              " {'credit_id': '59ac0504925141072302b8fb',\n",
              "  'department': 'Costume & Make-Up',\n",
              "  'gender': 0,\n",
              "  'id': 1712001,\n",
              "  'job': 'Makeup Artist',\n",
              "  'name': 'Allison Gordin',\n",
              "  'profile_path': None},\n",
              " {'credit_id': '59ac0570c3a3682bf0028aac',\n",
              "  'department': 'Costume & Make-Up',\n",
              "  'gender': 0,\n",
              "  'id': 578725,\n",
              "  'job': 'Makeup Artist',\n",
              "  'name': 'Darryl Lucas',\n",
              "  'profile_path': None},\n",
              " {'credit_id': '59ac05a4925141077e02c97e',\n",
              "  'department': 'Costume & Make-Up',\n",
              "  'gender': 0,\n",
              "  'id': 1463274,\n",
              "  'job': 'Makeup Artist',\n",
              "  'name': 'Annabelle MacNeal',\n",
              "  'profile_path': None},\n",
              " {'credit_id': '59ac05c6925141076502d106',\n",
              "  'department': 'Costume & Make-Up',\n",
              "  'gender': 0,\n",
              "  'id': 1881586,\n",
              "  'job': 'Makeup Artist',\n",
              "  'name': 'Marina Savva',\n",
              "  'profile_path': None},\n",
              " {'credit_id': '59ac0615c3a3682c480296aa',\n",
              "  'department': 'Costume & Make-Up',\n",
              "  'gender': 0,\n",
              "  'id': 1406267,\n",
              "  'job': 'Hairstylist',\n",
              "  'name': 'Carl G. Variste',\n",
              "  'profile_path': None},\n",
              " {'credit_id': '59ac06ba925141076502d1fa',\n",
              "  'department': 'Directing',\n",
              "  'gender': 0,\n",
              "  'id': 1798593,\n",
              "  'job': 'First Assistant Director',\n",
              "  'name': 'Josh King',\n",
              "  'profile_path': None},\n",
              " {'credit_id': '59ac06f1c3a3682c2202aca0',\n",
              "  'department': 'Art',\n",
              "  'gender': 0,\n",
              "  'id': 1415083,\n",
              "  'job': 'Greensman',\n",
              "  'name': 'Scott C. Bivona',\n",
              "  'profile_path': None},\n",
              " {'credit_id': '59ac072c925141076502d260',\n",
              "  'department': 'Art',\n",
              "  'gender': 0,\n",
              "  'id': 1881587,\n",
              "  'job': 'Title Designer',\n",
              "  'name': 'Eunha Choi',\n",
              "  'profile_path': None},\n",
              " {'credit_id': '59ac077c925141077e02cb62',\n",
              "  'department': 'Art',\n",
              "  'gender': 0,\n",
              "  'id': 1585302,\n",
              "  'job': 'Construction Coordinator',\n",
              "  'name': 'Daniel Coe',\n",
              "  'profile_path': None},\n",
              " {'credit_id': '59ac07e0925141078a02d842',\n",
              "  'department': 'Art',\n",
              "  'gender': 0,\n",
              "  'id': 1495523,\n",
              "  'job': 'Set Designer',\n",
              "  'name': 'Spencer Davison',\n",
              "  'profile_path': None},\n",
              " {'credit_id': '59ac0862925141072f02cf6f',\n",
              "  'department': 'Art',\n",
              "  'gender': 0,\n",
              "  'id': 1881589,\n",
              "  'job': 'Painter',\n",
              "  'name': 'Sonia L. Garcia',\n",
              "  'profile_path': None},\n",
              " {'credit_id': '59ac08e0c3a3682bf0028e51',\n",
              "  'department': 'Art',\n",
              "  'gender': 0,\n",
              "  'id': 1424896,\n",
              "  'job': 'Art Department Coordinator',\n",
              "  'name': 'Caleb Guillotte',\n",
              "  'profile_path': None},\n",
              " {'credit_id': '59ac0920c3a3682c2202af36',\n",
              "  'department': 'Art',\n",
              "  'gender': 0,\n",
              "  'id': 1393375,\n",
              "  'job': 'Leadman',\n",
              "  'name': \"Pat A. O'Connor\",\n",
              "  'profile_path': None},\n",
              " {'credit_id': '59ac095592514107af02cc39',\n",
              "  'department': 'Art',\n",
              "  'gender': 0,\n",
              "  'id': 1881592,\n",
              "  'job': 'Set Designer',\n",
              "  'name': 'Brendan Turrill',\n",
              "  'profile_path': None},\n",
              " {'credit_id': '59ac0989925141072302bdfa',\n",
              "  'department': 'Art',\n",
              "  'gender': 2,\n",
              "  'id': 76497,\n",
              "  'job': 'Property Master',\n",
              "  'name': 'Brook Yeaton',\n",
              "  'profile_path': None},\n",
              " {'credit_id': '59ac0a2cc3a3682c9c02add1',\n",
              "  'department': 'Sound',\n",
              "  'gender': 0,\n",
              "  'id': 1881596,\n",
              "  'job': 'Boom Operator',\n",
              "  'name': 'Matthew Armstrong',\n",
              "  'profile_path': None},\n",
              " {'credit_id': '59ac0aa8925141072f02d282',\n",
              "  'department': 'Visual Effects',\n",
              "  'gender': 2,\n",
              "  'id': 1558086,\n",
              "  'job': 'Special Effects Supervisor',\n",
              "  'name': 'Matt Kutcher',\n",
              "  'profile_path': None},\n",
              " {'credit_id': '59ac0b2ac3a3682c2202b192',\n",
              "  'department': 'Crew',\n",
              "  'gender': 2,\n",
              "  'id': 1558087,\n",
              "  'job': 'Special Effects Coordinator',\n",
              "  'name': 'Eric Roberts',\n",
              "  'profile_path': None},\n",
              " {'credit_id': '59ac0b7ac3a3682c2202b1fb',\n",
              "  'department': 'Visual Effects',\n",
              "  'gender': 0,\n",
              "  'id': 1392098,\n",
              "  'job': 'Visual Effects Supervisor',\n",
              "  'name': 'Rocco Passionino',\n",
              "  'profile_path': None},\n",
              " {'credit_id': '59ac0bbe925141077e02d0c4',\n",
              "  'department': 'Visual Effects',\n",
              "  'gender': 0,\n",
              "  'id': 1558716,\n",
              "  'job': 'Visual Effects Coordinator',\n",
              "  'name': 'Joseph Payo',\n",
              "  'profile_path': None},\n",
              " {'credit_id': '59ac0bf2c3a3682cc802cefa',\n",
              "  'department': 'Visual Effects',\n",
              "  'gender': 0,\n",
              "  'id': 1408784,\n",
              "  'job': 'Visual Effects Producer',\n",
              "  'name': 'Chris Roff',\n",
              "  'profile_path': None},\n",
              " {'credit_id': '59ac0c51c3a3682c48029d99',\n",
              "  'department': 'Lighting',\n",
              "  'gender': 0,\n",
              "  'id': 1881600,\n",
              "  'job': 'Best Boy Electric',\n",
              "  'name': 'Ulyan Atamanyuk',\n",
              "  'profile_path': None},\n",
              " {'credit_id': '59ac0cbac3a3682c0a02cff6',\n",
              "  'department': 'Camera',\n",
              "  'gender': 0,\n",
              "  'id': 1881602,\n",
              "  'job': 'Key Grip',\n",
              "  'name': 'Chris Ekstrom',\n",
              "  'profile_path': None},\n",
              " {'credit_id': '59ac0d54925141072f02d5e6',\n",
              "  'department': 'Lighting',\n",
              "  'gender': 0,\n",
              "  'id': 1484984,\n",
              "  'job': 'Best Boy Electric',\n",
              "  'name': 'Brad Garris',\n",
              "  'profile_path': None},\n",
              " {'credit_id': '59ac0db0925141078a02df86',\n",
              "  'department': 'Camera',\n",
              "  'gender': 0,\n",
              "  'id': 1881603,\n",
              "  'job': 'Dolly Grip',\n",
              "  'name': 'Kendell Joseph',\n",
              "  'profile_path': None},\n",
              " {'credit_id': '59ac0e5a925141077e02d39f',\n",
              "  'department': 'Camera',\n",
              "  'gender': 0,\n",
              "  'id': 1549179,\n",
              "  'job': 'Dolly Grip',\n",
              "  'name': 'Spencer Wilcox',\n",
              "  'profile_path': None},\n",
              " {'credit_id': '59ac0e9f925141079d02bee6',\n",
              "  'department': 'Costume & Make-Up',\n",
              "  'gender': 0,\n",
              "  'id': 1552626,\n",
              "  'job': 'Key Costumer',\n",
              "  'name': 'Sarah P. Koeppe',\n",
              "  'profile_path': None},\n",
              " {'credit_id': '59ac0ec1c3a3682bf0029524',\n",
              "  'department': 'Costume & Make-Up',\n",
              "  'gender': 0,\n",
              "  'id': 1881605,\n",
              "  'job': 'Seamstress',\n",
              "  'name': 'Catherine Rodi',\n",
              "  'profile_path': None},\n",
              " {'credit_id': '59ac0eef925141070702c7ff',\n",
              "  'department': 'Costume & Make-Up',\n",
              "  'gender': 0,\n",
              "  'id': 1463801,\n",
              "  'job': 'Seamstress',\n",
              "  'name': 'Giselle Spence',\n",
              "  'profile_path': None},\n",
              " {'credit_id': '59ac0f5dc3a3682c4802a0f5',\n",
              "  'department': 'Production',\n",
              "  'gender': 0,\n",
              "  'id': 1400837,\n",
              "  'job': 'Location Manager',\n",
              "  'name': 'John A. Johnston',\n",
              "  'profile_path': None},\n",
              " {'credit_id': '59ac0ff2c3a3682c4802a196',\n",
              "  'department': 'Crew',\n",
              "  'gender': 0,\n",
              "  'id': 1844322,\n",
              "  'job': 'Production Controller',\n",
              "  'name': 'Gail Marks',\n",
              "  'profile_path': None}]"
            ]
          },
          "metadata": {},
          "execution_count": 129
        }
      ]
    },
    {
      "cell_type": "code",
      "source": [
        "# create a copy of df\n",
        "df2 = df.copy()"
      ],
      "metadata": {
        "id": "-k3dhvVVmqGw"
      },
      "execution_count": null,
      "outputs": []
    },
    {
      "cell_type": "code",
      "source": [
        "df2[df2['genres'].isna()]"
      ],
      "metadata": {
        "colab": {
          "base_uri": "https://localhost:8080/",
          "height": 434
        },
        "id": "t6oWcvJNoIam",
        "outputId": "af6470dc-a98c-4355-c250-3c4d29517405"
      },
      "execution_count": null,
      "outputs": [
        {
          "output_type": "execute_result",
          "data": {
            "text/plain": [
              "       budget genres    imdb_id original_language  \\\n",
              "470   2000000    NaN  tt0349159                en   \n",
              "1622   400000    NaN  tt0261755                en   \n",
              "1814  2700000    NaN  tt0110289                it   \n",
              "1819        0    NaN  tt0352622                ru   \n",
              "2423   500000    NaN  tt0984177                en   \n",
              "2686        0    NaN  tt0833448                ru   \n",
              "2900   200000    NaN  tt1766044                en   \n",
              "\n",
              "                                       original_title  \\\n",
              "470   The Book of Mormon Movie, Volume 1: The Journey   \n",
              "1622                                          Jackpot   \n",
              "1814                                     Курочка Ряба   \n",
              "1819                          Небо. Самолёт. Девушка.   \n",
              "2423                                        Amarkalam   \n",
              "2686                                             Лифт   \n",
              "2900                          Poslednyaya skazka Rity   \n",
              "\n",
              "                                                   cast  \\\n",
              "470   [{'cast_id': 1, 'character': 'Sam', 'credit_id...   \n",
              "1622  [{'cast_id': 4, 'character': '', 'credit_id': ...   \n",
              "1814                                                 []   \n",
              "1819  [{'cast_id': 2, 'character': '', 'credit_id': ...   \n",
              "2423  [{'cast_id': 1, 'character': 'Vaasu', 'credit_...   \n",
              "2686                                                 []   \n",
              "2900  [{'cast_id': 3, 'character': '', 'credit_id': ...   \n",
              "\n",
              "                                                   crew  revenue  \n",
              "470                                                 NaN  1672730  \n",
              "1622  [{'credit_id': '52fe4d3c9251416c9110f319', 'de...    43719  \n",
              "1814  [{'credit_id': '52fe4c139251416c910eeee3', 'de...  4635143  \n",
              "1819  [{'credit_id': '52fe4728c3a368484e0b7f53', 'de...   314195  \n",
              "2423  [{'credit_id': '53b42af80e0a26598c00cea3', 'de...   500000  \n",
              "2686  [{'credit_id': '57b8a5d19251411bc6000587', 'de...   123182  \n",
              "2900  [{'credit_id': '52fe4ab89251416c750ebaab', 'de...   486937  "
            ],
            "text/html": [
              "\n",
              "  <div id=\"df-5d2d5c50-21ca-48af-bb6f-f49c7ac75f95\">\n",
              "    <div class=\"colab-df-container\">\n",
              "      <div>\n",
              "<style scoped>\n",
              "    .dataframe tbody tr th:only-of-type {\n",
              "        vertical-align: middle;\n",
              "    }\n",
              "\n",
              "    .dataframe tbody tr th {\n",
              "        vertical-align: top;\n",
              "    }\n",
              "\n",
              "    .dataframe thead th {\n",
              "        text-align: right;\n",
              "    }\n",
              "</style>\n",
              "<table border=\"1\" class=\"dataframe\">\n",
              "  <thead>\n",
              "    <tr style=\"text-align: right;\">\n",
              "      <th></th>\n",
              "      <th>budget</th>\n",
              "      <th>genres</th>\n",
              "      <th>imdb_id</th>\n",
              "      <th>original_language</th>\n",
              "      <th>original_title</th>\n",
              "      <th>cast</th>\n",
              "      <th>crew</th>\n",
              "      <th>revenue</th>\n",
              "    </tr>\n",
              "  </thead>\n",
              "  <tbody>\n",
              "    <tr>\n",
              "      <th>470</th>\n",
              "      <td>2000000</td>\n",
              "      <td>NaN</td>\n",
              "      <td>tt0349159</td>\n",
              "      <td>en</td>\n",
              "      <td>The Book of Mormon Movie, Volume 1: The Journey</td>\n",
              "      <td>[{'cast_id': 1, 'character': 'Sam', 'credit_id...</td>\n",
              "      <td>NaN</td>\n",
              "      <td>1672730</td>\n",
              "    </tr>\n",
              "    <tr>\n",
              "      <th>1622</th>\n",
              "      <td>400000</td>\n",
              "      <td>NaN</td>\n",
              "      <td>tt0261755</td>\n",
              "      <td>en</td>\n",
              "      <td>Jackpot</td>\n",
              "      <td>[{'cast_id': 4, 'character': '', 'credit_id': ...</td>\n",
              "      <td>[{'credit_id': '52fe4d3c9251416c9110f319', 'de...</td>\n",
              "      <td>43719</td>\n",
              "    </tr>\n",
              "    <tr>\n",
              "      <th>1814</th>\n",
              "      <td>2700000</td>\n",
              "      <td>NaN</td>\n",
              "      <td>tt0110289</td>\n",
              "      <td>it</td>\n",
              "      <td>Курочка Ряба</td>\n",
              "      <td>[]</td>\n",
              "      <td>[{'credit_id': '52fe4c139251416c910eeee3', 'de...</td>\n",
              "      <td>4635143</td>\n",
              "    </tr>\n",
              "    <tr>\n",
              "      <th>1819</th>\n",
              "      <td>0</td>\n",
              "      <td>NaN</td>\n",
              "      <td>tt0352622</td>\n",
              "      <td>ru</td>\n",
              "      <td>Небо. Самолёт. Девушка.</td>\n",
              "      <td>[{'cast_id': 2, 'character': '', 'credit_id': ...</td>\n",
              "      <td>[{'credit_id': '52fe4728c3a368484e0b7f53', 'de...</td>\n",
              "      <td>314195</td>\n",
              "    </tr>\n",
              "    <tr>\n",
              "      <th>2423</th>\n",
              "      <td>500000</td>\n",
              "      <td>NaN</td>\n",
              "      <td>tt0984177</td>\n",
              "      <td>en</td>\n",
              "      <td>Amarkalam</td>\n",
              "      <td>[{'cast_id': 1, 'character': 'Vaasu', 'credit_...</td>\n",
              "      <td>[{'credit_id': '53b42af80e0a26598c00cea3', 'de...</td>\n",
              "      <td>500000</td>\n",
              "    </tr>\n",
              "    <tr>\n",
              "      <th>2686</th>\n",
              "      <td>0</td>\n",
              "      <td>NaN</td>\n",
              "      <td>tt0833448</td>\n",
              "      <td>ru</td>\n",
              "      <td>Лифт</td>\n",
              "      <td>[]</td>\n",
              "      <td>[{'credit_id': '57b8a5d19251411bc6000587', 'de...</td>\n",
              "      <td>123182</td>\n",
              "    </tr>\n",
              "    <tr>\n",
              "      <th>2900</th>\n",
              "      <td>200000</td>\n",
              "      <td>NaN</td>\n",
              "      <td>tt1766044</td>\n",
              "      <td>en</td>\n",
              "      <td>Poslednyaya skazka Rity</td>\n",
              "      <td>[{'cast_id': 3, 'character': '', 'credit_id': ...</td>\n",
              "      <td>[{'credit_id': '52fe4ab89251416c750ebaab', 'de...</td>\n",
              "      <td>486937</td>\n",
              "    </tr>\n",
              "  </tbody>\n",
              "</table>\n",
              "</div>\n",
              "      <button class=\"colab-df-convert\" onclick=\"convertToInteractive('df-5d2d5c50-21ca-48af-bb6f-f49c7ac75f95')\"\n",
              "              title=\"Convert this dataframe to an interactive table.\"\n",
              "              style=\"display:none;\">\n",
              "        \n",
              "  <svg xmlns=\"http://www.w3.org/2000/svg\" height=\"24px\"viewBox=\"0 0 24 24\"\n",
              "       width=\"24px\">\n",
              "    <path d=\"M0 0h24v24H0V0z\" fill=\"none\"/>\n",
              "    <path d=\"M18.56 5.44l.94 2.06.94-2.06 2.06-.94-2.06-.94-.94-2.06-.94 2.06-2.06.94zm-11 1L8.5 8.5l.94-2.06 2.06-.94-2.06-.94L8.5 2.5l-.94 2.06-2.06.94zm10 10l.94 2.06.94-2.06 2.06-.94-2.06-.94-.94-2.06-.94 2.06-2.06.94z\"/><path d=\"M17.41 7.96l-1.37-1.37c-.4-.4-.92-.59-1.43-.59-.52 0-1.04.2-1.43.59L10.3 9.45l-7.72 7.72c-.78.78-.78 2.05 0 2.83L4 21.41c.39.39.9.59 1.41.59.51 0 1.02-.2 1.41-.59l7.78-7.78 2.81-2.81c.8-.78.8-2.07 0-2.86zM5.41 20L4 18.59l7.72-7.72 1.47 1.35L5.41 20z\"/>\n",
              "  </svg>\n",
              "      </button>\n",
              "      \n",
              "  <style>\n",
              "    .colab-df-container {\n",
              "      display:flex;\n",
              "      flex-wrap:wrap;\n",
              "      gap: 12px;\n",
              "    }\n",
              "\n",
              "    .colab-df-convert {\n",
              "      background-color: #E8F0FE;\n",
              "      border: none;\n",
              "      border-radius: 50%;\n",
              "      cursor: pointer;\n",
              "      display: none;\n",
              "      fill: #1967D2;\n",
              "      height: 32px;\n",
              "      padding: 0 0 0 0;\n",
              "      width: 32px;\n",
              "    }\n",
              "\n",
              "    .colab-df-convert:hover {\n",
              "      background-color: #E2EBFA;\n",
              "      box-shadow: 0px 1px 2px rgba(60, 64, 67, 0.3), 0px 1px 3px 1px rgba(60, 64, 67, 0.15);\n",
              "      fill: #174EA6;\n",
              "    }\n",
              "\n",
              "    [theme=dark] .colab-df-convert {\n",
              "      background-color: #3B4455;\n",
              "      fill: #D2E3FC;\n",
              "    }\n",
              "\n",
              "    [theme=dark] .colab-df-convert:hover {\n",
              "      background-color: #434B5C;\n",
              "      box-shadow: 0px 1px 3px 1px rgba(0, 0, 0, 0.15);\n",
              "      filter: drop-shadow(0px 1px 2px rgba(0, 0, 0, 0.3));\n",
              "      fill: #FFFFFF;\n",
              "    }\n",
              "  </style>\n",
              "\n",
              "      <script>\n",
              "        const buttonEl =\n",
              "          document.querySelector('#df-5d2d5c50-21ca-48af-bb6f-f49c7ac75f95 button.colab-df-convert');\n",
              "        buttonEl.style.display =\n",
              "          google.colab.kernel.accessAllowed ? 'block' : 'none';\n",
              "\n",
              "        async function convertToInteractive(key) {\n",
              "          const element = document.querySelector('#df-5d2d5c50-21ca-48af-bb6f-f49c7ac75f95');\n",
              "          const dataTable =\n",
              "            await google.colab.kernel.invokeFunction('convertToInteractive',\n",
              "                                                     [key], {});\n",
              "          if (!dataTable) return;\n",
              "\n",
              "          const docLinkHtml = 'Like what you see? Visit the ' +\n",
              "            '<a target=\"_blank\" href=https://colab.research.google.com/notebooks/data_table.ipynb>data table notebook</a>'\n",
              "            + ' to learn more about interactive tables.';\n",
              "          element.innerHTML = '';\n",
              "          dataTable['output_type'] = 'display_data';\n",
              "          await google.colab.output.renderOutput(dataTable, element);\n",
              "          const docLink = document.createElement('div');\n",
              "          docLink.innerHTML = docLinkHtml;\n",
              "          element.appendChild(docLink);\n",
              "        }\n",
              "      </script>\n",
              "    </div>\n",
              "  </div>\n",
              "  "
            ]
          },
          "metadata": {},
          "execution_count": 131
        }
      ]
    },
    {
      "cell_type": "markdown",
      "source": [
        "##Which movie made the highest profit? Who were its producer and director? Identify the actors in that film."
      ],
      "metadata": {
        "id": "mjIAThdUsfKb"
      }
    },
    {
      "cell_type": "code",
      "source": [
        "# this function is used to check for the Outliers , vague value etc\n",
        "df2.describe() # by inspecting the outcomes we found budget has minimum 0 which is not possible so we need to handle this missing value\n",
        "# we can easily find outlier in data my seeing below stastical value\n",
        "# by watching mean and median for example mean of budget = 2.25 and 50% of budget 0.8"
      ],
      "metadata": {
        "colab": {
          "base_uri": "https://localhost:8080/",
          "height": 300
        },
        "id": "B0q5wex9tGVH",
        "outputId": "8806c80a-20ae-4983-ee61-19f7837509e3"
      },
      "execution_count": null,
      "outputs": [
        {
          "output_type": "execute_result",
          "data": {
            "text/plain": [
              "             budget       revenue\n",
              "count  3.000000e+03  3.000000e+03\n",
              "mean   2.253133e+07  6.672585e+07\n",
              "std    3.702609e+07  1.375323e+08\n",
              "min    0.000000e+00  1.000000e+00\n",
              "25%    0.000000e+00  2.379808e+06\n",
              "50%    8.000000e+06  1.680707e+07\n",
              "75%    2.900000e+07  6.891920e+07\n",
              "max    3.800000e+08  1.519558e+09"
            ],
            "text/html": [
              "\n",
              "  <div id=\"df-4dbe3e93-caf1-4c5b-8715-6ce2412bb238\">\n",
              "    <div class=\"colab-df-container\">\n",
              "      <div>\n",
              "<style scoped>\n",
              "    .dataframe tbody tr th:only-of-type {\n",
              "        vertical-align: middle;\n",
              "    }\n",
              "\n",
              "    .dataframe tbody tr th {\n",
              "        vertical-align: top;\n",
              "    }\n",
              "\n",
              "    .dataframe thead th {\n",
              "        text-align: right;\n",
              "    }\n",
              "</style>\n",
              "<table border=\"1\" class=\"dataframe\">\n",
              "  <thead>\n",
              "    <tr style=\"text-align: right;\">\n",
              "      <th></th>\n",
              "      <th>budget</th>\n",
              "      <th>revenue</th>\n",
              "    </tr>\n",
              "  </thead>\n",
              "  <tbody>\n",
              "    <tr>\n",
              "      <th>count</th>\n",
              "      <td>3.000000e+03</td>\n",
              "      <td>3.000000e+03</td>\n",
              "    </tr>\n",
              "    <tr>\n",
              "      <th>mean</th>\n",
              "      <td>2.253133e+07</td>\n",
              "      <td>6.672585e+07</td>\n",
              "    </tr>\n",
              "    <tr>\n",
              "      <th>std</th>\n",
              "      <td>3.702609e+07</td>\n",
              "      <td>1.375323e+08</td>\n",
              "    </tr>\n",
              "    <tr>\n",
              "      <th>min</th>\n",
              "      <td>0.000000e+00</td>\n",
              "      <td>1.000000e+00</td>\n",
              "    </tr>\n",
              "    <tr>\n",
              "      <th>25%</th>\n",
              "      <td>0.000000e+00</td>\n",
              "      <td>2.379808e+06</td>\n",
              "    </tr>\n",
              "    <tr>\n",
              "      <th>50%</th>\n",
              "      <td>8.000000e+06</td>\n",
              "      <td>1.680707e+07</td>\n",
              "    </tr>\n",
              "    <tr>\n",
              "      <th>75%</th>\n",
              "      <td>2.900000e+07</td>\n",
              "      <td>6.891920e+07</td>\n",
              "    </tr>\n",
              "    <tr>\n",
              "      <th>max</th>\n",
              "      <td>3.800000e+08</td>\n",
              "      <td>1.519558e+09</td>\n",
              "    </tr>\n",
              "  </tbody>\n",
              "</table>\n",
              "</div>\n",
              "      <button class=\"colab-df-convert\" onclick=\"convertToInteractive('df-4dbe3e93-caf1-4c5b-8715-6ce2412bb238')\"\n",
              "              title=\"Convert this dataframe to an interactive table.\"\n",
              "              style=\"display:none;\">\n",
              "        \n",
              "  <svg xmlns=\"http://www.w3.org/2000/svg\" height=\"24px\"viewBox=\"0 0 24 24\"\n",
              "       width=\"24px\">\n",
              "    <path d=\"M0 0h24v24H0V0z\" fill=\"none\"/>\n",
              "    <path d=\"M18.56 5.44l.94 2.06.94-2.06 2.06-.94-2.06-.94-.94-2.06-.94 2.06-2.06.94zm-11 1L8.5 8.5l.94-2.06 2.06-.94-2.06-.94L8.5 2.5l-.94 2.06-2.06.94zm10 10l.94 2.06.94-2.06 2.06-.94-2.06-.94-.94-2.06-.94 2.06-2.06.94z\"/><path d=\"M17.41 7.96l-1.37-1.37c-.4-.4-.92-.59-1.43-.59-.52 0-1.04.2-1.43.59L10.3 9.45l-7.72 7.72c-.78.78-.78 2.05 0 2.83L4 21.41c.39.39.9.59 1.41.59.51 0 1.02-.2 1.41-.59l7.78-7.78 2.81-2.81c.8-.78.8-2.07 0-2.86zM5.41 20L4 18.59l7.72-7.72 1.47 1.35L5.41 20z\"/>\n",
              "  </svg>\n",
              "      </button>\n",
              "      \n",
              "  <style>\n",
              "    .colab-df-container {\n",
              "      display:flex;\n",
              "      flex-wrap:wrap;\n",
              "      gap: 12px;\n",
              "    }\n",
              "\n",
              "    .colab-df-convert {\n",
              "      background-color: #E8F0FE;\n",
              "      border: none;\n",
              "      border-radius: 50%;\n",
              "      cursor: pointer;\n",
              "      display: none;\n",
              "      fill: #1967D2;\n",
              "      height: 32px;\n",
              "      padding: 0 0 0 0;\n",
              "      width: 32px;\n",
              "    }\n",
              "\n",
              "    .colab-df-convert:hover {\n",
              "      background-color: #E2EBFA;\n",
              "      box-shadow: 0px 1px 2px rgba(60, 64, 67, 0.3), 0px 1px 3px 1px rgba(60, 64, 67, 0.15);\n",
              "      fill: #174EA6;\n",
              "    }\n",
              "\n",
              "    [theme=dark] .colab-df-convert {\n",
              "      background-color: #3B4455;\n",
              "      fill: #D2E3FC;\n",
              "    }\n",
              "\n",
              "    [theme=dark] .colab-df-convert:hover {\n",
              "      background-color: #434B5C;\n",
              "      box-shadow: 0px 1px 3px 1px rgba(0, 0, 0, 0.15);\n",
              "      filter: drop-shadow(0px 1px 2px rgba(0, 0, 0, 0.3));\n",
              "      fill: #FFFFFF;\n",
              "    }\n",
              "  </style>\n",
              "\n",
              "      <script>\n",
              "        const buttonEl =\n",
              "          document.querySelector('#df-4dbe3e93-caf1-4c5b-8715-6ce2412bb238 button.colab-df-convert');\n",
              "        buttonEl.style.display =\n",
              "          google.colab.kernel.accessAllowed ? 'block' : 'none';\n",
              "\n",
              "        async function convertToInteractive(key) {\n",
              "          const element = document.querySelector('#df-4dbe3e93-caf1-4c5b-8715-6ce2412bb238');\n",
              "          const dataTable =\n",
              "            await google.colab.kernel.invokeFunction('convertToInteractive',\n",
              "                                                     [key], {});\n",
              "          if (!dataTable) return;\n",
              "\n",
              "          const docLinkHtml = 'Like what you see? Visit the ' +\n",
              "            '<a target=\"_blank\" href=https://colab.research.google.com/notebooks/data_table.ipynb>data table notebook</a>'\n",
              "            + ' to learn more about interactive tables.';\n",
              "          element.innerHTML = '';\n",
              "          dataTable['output_type'] = 'display_data';\n",
              "          await google.colab.output.renderOutput(dataTable, element);\n",
              "          const docLink = document.createElement('div');\n",
              "          docLink.innerHTML = docLinkHtml;\n",
              "          element.appendChild(docLink);\n",
              "        }\n",
              "      </script>\n",
              "    </div>\n",
              "  </div>\n",
              "  "
            ]
          },
          "metadata": {},
          "execution_count": 132
        }
      ]
    },
    {
      "cell_type": "code",
      "source": [
        "# Replace extremly low value of budget with the median value\n",
        "df2.loc[df2['budget'] < 1000, 'budget'] = df2.loc[df2['budget'] >= 1000, 'budget'].median() \n",
        "df2.loc[df2['revenue'] < 1000, 'revenue'] = df2.loc[df2['revenue'] >= 1000, 'revenue'].median() \n",
        "# df2['budget'] = df2['budget'].fillna"
      ],
      "metadata": {
        "id": "HQ_huI1ntGNA"
      },
      "execution_count": null,
      "outputs": []
    },
    {
      "cell_type": "markdown",
      "source": [
        "## Profit can be calculated as the difference between the revenue and the budget"
      ],
      "metadata": {
        "id": "8SffLNVqwKHf"
      }
    },
    {
      "cell_type": "code",
      "source": [
        "df2['profit'] = df2['revenue'] - df2['budget']"
      ],
      "metadata": {
        "id": "T_HHo5xEoPc5"
      },
      "execution_count": null,
      "outputs": []
    },
    {
      "cell_type": "code",
      "source": [
        "df2.head(2)"
      ],
      "metadata": {
        "colab": {
          "base_uri": "https://localhost:8080/",
          "height": 225
        },
        "id": "BaMnBT2Fs4Vv",
        "outputId": "7dce1016-e3aa-4d4e-c55e-40dec727ae81"
      },
      "execution_count": null,
      "outputs": [
        {
          "output_type": "execute_result",
          "data": {
            "text/plain": [
              "     budget                                             genres    imdb_id  \\\n",
              "0  14000000                     [{'id': 35, 'name': 'Comedy'}]  tt2637294   \n",
              "1  40000000  [{'id': 35, 'name': 'Comedy'}, {'id': 18, 'nam...  tt0368933   \n",
              "\n",
              "  original_language                            original_title  \\\n",
              "0                en                    Hot Tub Time Machine 2   \n",
              "1                en  The Princess Diaries 2: Royal Engagement   \n",
              "\n",
              "                                                cast  \\\n",
              "0  [{'cast_id': 4, 'character': 'Lou', 'credit_id...   \n",
              "1  [{'cast_id': 1, 'character': 'Mia Thermopolis'...   \n",
              "\n",
              "                                                crew   revenue    profit  \n",
              "0  [{'credit_id': '59ac067c92514107af02c8c8', 'de...  12314651  -1685349  \n",
              "1  [{'credit_id': '52fe43fe9251416c7502563d', 'de...  95149435  55149435  "
            ],
            "text/html": [
              "\n",
              "  <div id=\"df-0dbab423-0acd-4c4e-9bed-024d8fe36d2b\">\n",
              "    <div class=\"colab-df-container\">\n",
              "      <div>\n",
              "<style scoped>\n",
              "    .dataframe tbody tr th:only-of-type {\n",
              "        vertical-align: middle;\n",
              "    }\n",
              "\n",
              "    .dataframe tbody tr th {\n",
              "        vertical-align: top;\n",
              "    }\n",
              "\n",
              "    .dataframe thead th {\n",
              "        text-align: right;\n",
              "    }\n",
              "</style>\n",
              "<table border=\"1\" class=\"dataframe\">\n",
              "  <thead>\n",
              "    <tr style=\"text-align: right;\">\n",
              "      <th></th>\n",
              "      <th>budget</th>\n",
              "      <th>genres</th>\n",
              "      <th>imdb_id</th>\n",
              "      <th>original_language</th>\n",
              "      <th>original_title</th>\n",
              "      <th>cast</th>\n",
              "      <th>crew</th>\n",
              "      <th>revenue</th>\n",
              "      <th>profit</th>\n",
              "    </tr>\n",
              "  </thead>\n",
              "  <tbody>\n",
              "    <tr>\n",
              "      <th>0</th>\n",
              "      <td>14000000</td>\n",
              "      <td>[{'id': 35, 'name': 'Comedy'}]</td>\n",
              "      <td>tt2637294</td>\n",
              "      <td>en</td>\n",
              "      <td>Hot Tub Time Machine 2</td>\n",
              "      <td>[{'cast_id': 4, 'character': 'Lou', 'credit_id...</td>\n",
              "      <td>[{'credit_id': '59ac067c92514107af02c8c8', 'de...</td>\n",
              "      <td>12314651</td>\n",
              "      <td>-1685349</td>\n",
              "    </tr>\n",
              "    <tr>\n",
              "      <th>1</th>\n",
              "      <td>40000000</td>\n",
              "      <td>[{'id': 35, 'name': 'Comedy'}, {'id': 18, 'nam...</td>\n",
              "      <td>tt0368933</td>\n",
              "      <td>en</td>\n",
              "      <td>The Princess Diaries 2: Royal Engagement</td>\n",
              "      <td>[{'cast_id': 1, 'character': 'Mia Thermopolis'...</td>\n",
              "      <td>[{'credit_id': '52fe43fe9251416c7502563d', 'de...</td>\n",
              "      <td>95149435</td>\n",
              "      <td>55149435</td>\n",
              "    </tr>\n",
              "  </tbody>\n",
              "</table>\n",
              "</div>\n",
              "      <button class=\"colab-df-convert\" onclick=\"convertToInteractive('df-0dbab423-0acd-4c4e-9bed-024d8fe36d2b')\"\n",
              "              title=\"Convert this dataframe to an interactive table.\"\n",
              "              style=\"display:none;\">\n",
              "        \n",
              "  <svg xmlns=\"http://www.w3.org/2000/svg\" height=\"24px\"viewBox=\"0 0 24 24\"\n",
              "       width=\"24px\">\n",
              "    <path d=\"M0 0h24v24H0V0z\" fill=\"none\"/>\n",
              "    <path d=\"M18.56 5.44l.94 2.06.94-2.06 2.06-.94-2.06-.94-.94-2.06-.94 2.06-2.06.94zm-11 1L8.5 8.5l.94-2.06 2.06-.94-2.06-.94L8.5 2.5l-.94 2.06-2.06.94zm10 10l.94 2.06.94-2.06 2.06-.94-2.06-.94-.94-2.06-.94 2.06-2.06.94z\"/><path d=\"M17.41 7.96l-1.37-1.37c-.4-.4-.92-.59-1.43-.59-.52 0-1.04.2-1.43.59L10.3 9.45l-7.72 7.72c-.78.78-.78 2.05 0 2.83L4 21.41c.39.39.9.59 1.41.59.51 0 1.02-.2 1.41-.59l7.78-7.78 2.81-2.81c.8-.78.8-2.07 0-2.86zM5.41 20L4 18.59l7.72-7.72 1.47 1.35L5.41 20z\"/>\n",
              "  </svg>\n",
              "      </button>\n",
              "      \n",
              "  <style>\n",
              "    .colab-df-container {\n",
              "      display:flex;\n",
              "      flex-wrap:wrap;\n",
              "      gap: 12px;\n",
              "    }\n",
              "\n",
              "    .colab-df-convert {\n",
              "      background-color: #E8F0FE;\n",
              "      border: none;\n",
              "      border-radius: 50%;\n",
              "      cursor: pointer;\n",
              "      display: none;\n",
              "      fill: #1967D2;\n",
              "      height: 32px;\n",
              "      padding: 0 0 0 0;\n",
              "      width: 32px;\n",
              "    }\n",
              "\n",
              "    .colab-df-convert:hover {\n",
              "      background-color: #E2EBFA;\n",
              "      box-shadow: 0px 1px 2px rgba(60, 64, 67, 0.3), 0px 1px 3px 1px rgba(60, 64, 67, 0.15);\n",
              "      fill: #174EA6;\n",
              "    }\n",
              "\n",
              "    [theme=dark] .colab-df-convert {\n",
              "      background-color: #3B4455;\n",
              "      fill: #D2E3FC;\n",
              "    }\n",
              "\n",
              "    [theme=dark] .colab-df-convert:hover {\n",
              "      background-color: #434B5C;\n",
              "      box-shadow: 0px 1px 3px 1px rgba(0, 0, 0, 0.15);\n",
              "      filter: drop-shadow(0px 1px 2px rgba(0, 0, 0, 0.3));\n",
              "      fill: #FFFFFF;\n",
              "    }\n",
              "  </style>\n",
              "\n",
              "      <script>\n",
              "        const buttonEl =\n",
              "          document.querySelector('#df-0dbab423-0acd-4c4e-9bed-024d8fe36d2b button.colab-df-convert');\n",
              "        buttonEl.style.display =\n",
              "          google.colab.kernel.accessAllowed ? 'block' : 'none';\n",
              "\n",
              "        async function convertToInteractive(key) {\n",
              "          const element = document.querySelector('#df-0dbab423-0acd-4c4e-9bed-024d8fe36d2b');\n",
              "          const dataTable =\n",
              "            await google.colab.kernel.invokeFunction('convertToInteractive',\n",
              "                                                     [key], {});\n",
              "          if (!dataTable) return;\n",
              "\n",
              "          const docLinkHtml = 'Like what you see? Visit the ' +\n",
              "            '<a target=\"_blank\" href=https://colab.research.google.com/notebooks/data_table.ipynb>data table notebook</a>'\n",
              "            + ' to learn more about interactive tables.';\n",
              "          element.innerHTML = '';\n",
              "          dataTable['output_type'] = 'display_data';\n",
              "          await google.colab.output.renderOutput(dataTable, element);\n",
              "          const docLink = document.createElement('div');\n",
              "          docLink.innerHTML = docLinkHtml;\n",
              "          element.appendChild(docLink);\n",
              "        }\n",
              "      </script>\n",
              "    </div>\n",
              "  </div>\n",
              "  "
            ]
          },
          "metadata": {},
          "execution_count": 135
        }
      ]
    },
    {
      "cell_type": "code",
      "source": [
        "# Calculate the maximum profit\n",
        "max_profit = df2['profit'].max()"
      ],
      "metadata": {
        "id": "mGMXfYOTwbVr"
      },
      "execution_count": null,
      "outputs": []
    },
    {
      "cell_type": "code",
      "source": [
        "max_profit_movie_df2 = df2[df2['profit'] == max_profit]"
      ],
      "metadata": {
        "id": "900fvolqwnN9"
      },
      "execution_count": null,
      "outputs": []
    },
    {
      "cell_type": "code",
      "source": [
        "# Creating the crew list- list of crew member dictionaries\n",
        "crew_list = max_profit_movie_df2.iloc[0]['crew']"
      ],
      "metadata": {
        "id": "ckQCnbpT9Y42"
      },
      "execution_count": null,
      "outputs": []
    },
    {
      "cell_type": "code",
      "source": [
        "crew_list[:2]"
      ],
      "metadata": {
        "colab": {
          "base_uri": "https://localhost:8080/"
        },
        "id": "nwdCcDBR9mcE",
        "outputId": "2b1bba6e-8b03-4bca-c75b-77010103f6e5"
      },
      "execution_count": null,
      "outputs": [
        {
          "output_type": "execute_result",
          "data": {
            "text/plain": [
              "[{'credit_id': '52fe4cc8c3a36847f823e681',\n",
              "  'department': 'Production',\n",
              "  'gender': 2,\n",
              "  'id': 12835,\n",
              "  'job': 'Producer',\n",
              "  'name': 'Vin Diesel',\n",
              "  'profile_path': '/7rwSXluNWZAluYMOEWBxkPmckES.jpg'},\n",
              " {'credit_id': '52fe4cc8c3a36847f823e687',\n",
              "  'department': 'Production',\n",
              "  'gender': 2,\n",
              "  'id': 11874,\n",
              "  'job': 'Producer',\n",
              "  'name': 'Neal H. Moritz',\n",
              "  'profile_path': '/cNcsEYmoS4niCz3UkVAA09dUIob.jpg'}]"
            ]
          },
          "metadata": {},
          "execution_count": 139
        }
      ]
    },
    {
      "cell_type": "code",
      "source": [
        "# Get the names of producer and director\n",
        "Producer_list = []\n",
        "Director_list = []\n",
        "for elem in crew_list:\n",
        "   if elem['job'] == 'Producer':\n",
        "     Producer_list.append(elem['name'])\n",
        "    #  print(f\"The producer for the movie is {elem['name']}\")\n",
        "   if elem['job'] == 'Director':\n",
        "     Director_list.append(elem['name'])\n",
        "    #  print(f\"The Director of the movie is {elem['name']}\")\n"
      ],
      "metadata": {
        "id": "VaLZusGXDHrB"
      },
      "execution_count": null,
      "outputs": []
    },
    {
      "cell_type": "code",
      "source": [
        "Producer_list,Director_list"
      ],
      "metadata": {
        "colab": {
          "base_uri": "https://localhost:8080/"
        },
        "id": "aj_v1DS1E-aB",
        "outputId": "49101e79-d456-40ce-ed58-67613b2a4355"
      },
      "execution_count": null,
      "outputs": [
        {
          "output_type": "execute_result",
          "data": {
            "text/plain": [
              "(['Vin Diesel', 'Neal H. Moritz', 'Michael Fottrell', 'Brandon Birtell'],\n",
              " ['James Wan'])"
            ]
          },
          "metadata": {},
          "execution_count": 141
        }
      ]
    },
    {
      "cell_type": "markdown",
      "source": [
        "## Get the Actor for the highest Grossing Movie"
      ],
      "metadata": {
        "id": "g-JmfCkeGG_t"
      }
    },
    {
      "cell_type": "code",
      "source": [
        "# Creating the cast list- list of cast member dictionaries\n",
        "cast_list = max_profit_movie_df2.iloc[0]['cast']"
      ],
      "metadata": {
        "id": "T-c6kd8oF3ZH"
      },
      "execution_count": null,
      "outputs": []
    },
    {
      "cell_type": "code",
      "source": [
        "cast_list[:2]"
      ],
      "metadata": {
        "colab": {
          "base_uri": "https://localhost:8080/"
        },
        "id": "I1H6RyXcGjHu",
        "outputId": "7748a45d-f5b7-4a12-ad15-f977cee96e30"
      },
      "execution_count": null,
      "outputs": [
        {
          "output_type": "execute_result",
          "data": {
            "text/plain": [
              "[{'cast_id': 17,\n",
              "  'character': 'Dominic Toretto',\n",
              "  'credit_id': '5431dfd10e0a265915002c34',\n",
              "  'gender': 2,\n",
              "  'id': 12835,\n",
              "  'name': 'Vin Diesel',\n",
              "  'order': 0,\n",
              "  'profile_path': '/7rwSXluNWZAluYMOEWBxkPmckES.jpg'},\n",
              " {'cast_id': 19,\n",
              "  'character': \"Brian O'Conner\",\n",
              "  'credit_id': '5431dfe4c3a3681143002b98',\n",
              "  'gender': 2,\n",
              "  'id': 8167,\n",
              "  'name': 'Paul Walker',\n",
              "  'order': 1,\n",
              "  'profile_path': '/iqvYezRoEY5k8wnlfHriHQfl5dX.jpg'}]"
            ]
          },
          "metadata": {},
          "execution_count": 115
        }
      ]
    },
    {
      "cell_type": "code",
      "source": [
        "# Get the names of Actor\n",
        "Actor_list = []\n",
        "\n",
        "for elem in crew_list:\n",
        "  Actor_list.append(elem['name'])"
      ],
      "metadata": {
        "id": "L-uPodofGluD"
      },
      "execution_count": null,
      "outputs": []
    },
    {
      "cell_type": "code",
      "source": [
        "Actor_list[:5]"
      ],
      "metadata": {
        "colab": {
          "base_uri": "https://localhost:8080/"
        },
        "id": "t1UPPfueHEhE",
        "outputId": "4d01c330-d35d-4ef7-a52a-89fbd36f8e02"
      },
      "execution_count": null,
      "outputs": [
        {
          "output_type": "execute_result",
          "data": {
            "text/plain": [
              "['Vin Diesel',\n",
              " 'Neal H. Moritz',\n",
              " 'Chris Morgan',\n",
              " 'Gary Scott Thompson',\n",
              " 'James Wan']"
            ]
          },
          "metadata": {},
          "execution_count": 117
        }
      ]
    },
    {
      "cell_type": "markdown",
      "source": [
        "##This data has information about movies made in different languages. Which language has the highest average ROI (return on investment)?\n",
        "###ROI is profit percentage out off budget means profit/budget *100"
      ],
      "metadata": {
        "id": "aZ6cIMGoHqIK"
      }
    },
    {
      "cell_type": "code",
      "source": [
        "# Calculate the ROI\n",
        "df2['ROI'] = (df2['profit'] / df2['budget'])*100"
      ],
      "metadata": {
        "id": "bHX0kiXPHGRm"
      },
      "execution_count": null,
      "outputs": []
    },
    {
      "cell_type": "code",
      "source": [
        "df2.head(2)"
      ],
      "metadata": {
        "colab": {
          "base_uri": "https://localhost:8080/",
          "height": 260
        },
        "id": "PB9onOvCljPJ",
        "outputId": "f99fb531-2276-48ee-c7b7-bde81012d283"
      },
      "execution_count": null,
      "outputs": [
        {
          "output_type": "execute_result",
          "data": {
            "text/plain": [
              "     budget                                             genres    imdb_id  \\\n",
              "0  14000000                     [{'id': 35, 'name': 'Comedy'}]  tt2637294   \n",
              "1  40000000  [{'id': 35, 'name': 'Comedy'}, {'id': 18, 'nam...  tt0368933   \n",
              "\n",
              "  original_language                            original_title  \\\n",
              "0                en                    Hot Tub Time Machine 2   \n",
              "1                en  The Princess Diaries 2: Royal Engagement   \n",
              "\n",
              "                                                cast  \\\n",
              "0  [{'cast_id': 4, 'character': 'Lou', 'credit_id...   \n",
              "1  [{'cast_id': 1, 'character': 'Mia Thermopolis'...   \n",
              "\n",
              "                                                crew   revenue    profit  \\\n",
              "0  [{'credit_id': '59ac067c92514107af02c8c8', 'de...  12314651  -1685349   \n",
              "1  [{'credit_id': '52fe43fe9251416c7502563d', 'de...  95149435  55149435   \n",
              "\n",
              "          ROI  \n",
              "0  -12.038207  \n",
              "1  137.873588  "
            ],
            "text/html": [
              "\n",
              "  <div id=\"df-4ca51c77-c4e9-4da3-94a7-b612e22064b2\">\n",
              "    <div class=\"colab-df-container\">\n",
              "      <div>\n",
              "<style scoped>\n",
              "    .dataframe tbody tr th:only-of-type {\n",
              "        vertical-align: middle;\n",
              "    }\n",
              "\n",
              "    .dataframe tbody tr th {\n",
              "        vertical-align: top;\n",
              "    }\n",
              "\n",
              "    .dataframe thead th {\n",
              "        text-align: right;\n",
              "    }\n",
              "</style>\n",
              "<table border=\"1\" class=\"dataframe\">\n",
              "  <thead>\n",
              "    <tr style=\"text-align: right;\">\n",
              "      <th></th>\n",
              "      <th>budget</th>\n",
              "      <th>genres</th>\n",
              "      <th>imdb_id</th>\n",
              "      <th>original_language</th>\n",
              "      <th>original_title</th>\n",
              "      <th>cast</th>\n",
              "      <th>crew</th>\n",
              "      <th>revenue</th>\n",
              "      <th>profit</th>\n",
              "      <th>ROI</th>\n",
              "    </tr>\n",
              "  </thead>\n",
              "  <tbody>\n",
              "    <tr>\n",
              "      <th>0</th>\n",
              "      <td>14000000</td>\n",
              "      <td>[{'id': 35, 'name': 'Comedy'}]</td>\n",
              "      <td>tt2637294</td>\n",
              "      <td>en</td>\n",
              "      <td>Hot Tub Time Machine 2</td>\n",
              "      <td>[{'cast_id': 4, 'character': 'Lou', 'credit_id...</td>\n",
              "      <td>[{'credit_id': '59ac067c92514107af02c8c8', 'de...</td>\n",
              "      <td>12314651</td>\n",
              "      <td>-1685349</td>\n",
              "      <td>-12.038207</td>\n",
              "    </tr>\n",
              "    <tr>\n",
              "      <th>1</th>\n",
              "      <td>40000000</td>\n",
              "      <td>[{'id': 35, 'name': 'Comedy'}, {'id': 18, 'nam...</td>\n",
              "      <td>tt0368933</td>\n",
              "      <td>en</td>\n",
              "      <td>The Princess Diaries 2: Royal Engagement</td>\n",
              "      <td>[{'cast_id': 1, 'character': 'Mia Thermopolis'...</td>\n",
              "      <td>[{'credit_id': '52fe43fe9251416c7502563d', 'de...</td>\n",
              "      <td>95149435</td>\n",
              "      <td>55149435</td>\n",
              "      <td>137.873588</td>\n",
              "    </tr>\n",
              "  </tbody>\n",
              "</table>\n",
              "</div>\n",
              "      <button class=\"colab-df-convert\" onclick=\"convertToInteractive('df-4ca51c77-c4e9-4da3-94a7-b612e22064b2')\"\n",
              "              title=\"Convert this dataframe to an interactive table.\"\n",
              "              style=\"display:none;\">\n",
              "        \n",
              "  <svg xmlns=\"http://www.w3.org/2000/svg\" height=\"24px\"viewBox=\"0 0 24 24\"\n",
              "       width=\"24px\">\n",
              "    <path d=\"M0 0h24v24H0V0z\" fill=\"none\"/>\n",
              "    <path d=\"M18.56 5.44l.94 2.06.94-2.06 2.06-.94-2.06-.94-.94-2.06-.94 2.06-2.06.94zm-11 1L8.5 8.5l.94-2.06 2.06-.94-2.06-.94L8.5 2.5l-.94 2.06-2.06.94zm10 10l.94 2.06.94-2.06 2.06-.94-2.06-.94-.94-2.06-.94 2.06-2.06.94z\"/><path d=\"M17.41 7.96l-1.37-1.37c-.4-.4-.92-.59-1.43-.59-.52 0-1.04.2-1.43.59L10.3 9.45l-7.72 7.72c-.78.78-.78 2.05 0 2.83L4 21.41c.39.39.9.59 1.41.59.51 0 1.02-.2 1.41-.59l7.78-7.78 2.81-2.81c.8-.78.8-2.07 0-2.86zM5.41 20L4 18.59l7.72-7.72 1.47 1.35L5.41 20z\"/>\n",
              "  </svg>\n",
              "      </button>\n",
              "      \n",
              "  <style>\n",
              "    .colab-df-container {\n",
              "      display:flex;\n",
              "      flex-wrap:wrap;\n",
              "      gap: 12px;\n",
              "    }\n",
              "\n",
              "    .colab-df-convert {\n",
              "      background-color: #E8F0FE;\n",
              "      border: none;\n",
              "      border-radius: 50%;\n",
              "      cursor: pointer;\n",
              "      display: none;\n",
              "      fill: #1967D2;\n",
              "      height: 32px;\n",
              "      padding: 0 0 0 0;\n",
              "      width: 32px;\n",
              "    }\n",
              "\n",
              "    .colab-df-convert:hover {\n",
              "      background-color: #E2EBFA;\n",
              "      box-shadow: 0px 1px 2px rgba(60, 64, 67, 0.3), 0px 1px 3px 1px rgba(60, 64, 67, 0.15);\n",
              "      fill: #174EA6;\n",
              "    }\n",
              "\n",
              "    [theme=dark] .colab-df-convert {\n",
              "      background-color: #3B4455;\n",
              "      fill: #D2E3FC;\n",
              "    }\n",
              "\n",
              "    [theme=dark] .colab-df-convert:hover {\n",
              "      background-color: #434B5C;\n",
              "      box-shadow: 0px 1px 3px 1px rgba(0, 0, 0, 0.15);\n",
              "      filter: drop-shadow(0px 1px 2px rgba(0, 0, 0, 0.3));\n",
              "      fill: #FFFFFF;\n",
              "    }\n",
              "  </style>\n",
              "\n",
              "      <script>\n",
              "        const buttonEl =\n",
              "          document.querySelector('#df-4ca51c77-c4e9-4da3-94a7-b612e22064b2 button.colab-df-convert');\n",
              "        buttonEl.style.display =\n",
              "          google.colab.kernel.accessAllowed ? 'block' : 'none';\n",
              "\n",
              "        async function convertToInteractive(key) {\n",
              "          const element = document.querySelector('#df-4ca51c77-c4e9-4da3-94a7-b612e22064b2');\n",
              "          const dataTable =\n",
              "            await google.colab.kernel.invokeFunction('convertToInteractive',\n",
              "                                                     [key], {});\n",
              "          if (!dataTable) return;\n",
              "\n",
              "          const docLinkHtml = 'Like what you see? Visit the ' +\n",
              "            '<a target=\"_blank\" href=https://colab.research.google.com/notebooks/data_table.ipynb>data table notebook</a>'\n",
              "            + ' to learn more about interactive tables.';\n",
              "          element.innerHTML = '';\n",
              "          dataTable['output_type'] = 'display_data';\n",
              "          await google.colab.output.renderOutput(dataTable, element);\n",
              "          const docLink = document.createElement('div');\n",
              "          docLink.innerHTML = docLinkHtml;\n",
              "          element.appendChild(docLink);\n",
              "        }\n",
              "      </script>\n",
              "    </div>\n",
              "  </div>\n",
              "  "
            ]
          },
          "metadata": {},
          "execution_count": 119
        }
      ]
    },
    {
      "cell_type": "code",
      "source": [
        "df2['ROI'].max()"
      ],
      "metadata": {
        "colab": {
          "base_uri": "https://localhost:8080/"
        },
        "id": "wWr3tnpXll5H",
        "outputId": "55eac672-6c0f-4e0a-80ce-44417e9e3e3b"
      },
      "execution_count": null,
      "outputs": [
        {
          "output_type": "execute_result",
          "data": {
            "text/plain": [
              "1288938.6666666667"
            ]
          },
          "metadata": {},
          "execution_count": 120
        }
      ]
    },
    {
      "cell_type": "markdown",
      "source": [
        "### we will use groupby method on original language and find out the average of ROI"
      ],
      "metadata": {
        "id": "pYVIAympmYEh"
      }
    },
    {
      "cell_type": "code",
      "source": [
        "ROI_lang_df = df2.groupby('original_language')['ROI'].mean().reset_index()"
      ],
      "metadata": {
        "id": "iFaNjsm3l2ZA"
      },
      "execution_count": null,
      "outputs": []
    },
    {
      "cell_type": "code",
      "source": [
        "max_ROI_lang = ROI_lang_df[ROI_lang_df['ROI'] == ROI_lang_df['ROI'].max()]['original_language']"
      ],
      "metadata": {
        "id": "H4vWsufmm6Qn"
      },
      "execution_count": null,
      "outputs": []
    },
    {
      "cell_type": "code",
      "source": [
        "max_ROI_lang"
      ],
      "metadata": {
        "colab": {
          "base_uri": "https://localhost:8080/"
        },
        "id": "zF2xR7TTofrc",
        "outputId": "60539d29-fd25-4f69-b51c-7d93f0fa6394"
      },
      "execution_count": null,
      "outputs": [
        {
          "output_type": "execute_result",
          "data": {
            "text/plain": [
              "18    ko\n",
              "Name: original_language, dtype: object"
            ]
          },
          "metadata": {},
          "execution_count": 123
        }
      ]
    },
    {
      "cell_type": "code",
      "source": [
        "print(f\"The language with highest ROI is  { max_ROI_lang.values[0]}rean\")"
      ],
      "metadata": {
        "colab": {
          "base_uri": "https://localhost:8080/"
        },
        "id": "4i_FIXJaoiwQ",
        "outputId": "6df396a8-36b4-48af-9a4e-6986adb5513c"
      },
      "execution_count": null,
      "outputs": [
        {
          "output_type": "stream",
          "name": "stdout",
          "text": [
            "The language with highest ROI is  korean\n"
          ]
        }
      ]
    },
    {
      "cell_type": "markdown",
      "source": [
        "##3.Find out the unique genres of movies in this dataset."
      ],
      "metadata": {
        "id": "FpHy2HSCu6Xq"
      }
    },
    {
      "cell_type": "code",
      "source": [
        "unq_genres_df = df2[~df2['genres'].isna()]"
      ],
      "metadata": {
        "id": "SVdF401Dtyhf"
      },
      "execution_count": null,
      "outputs": []
    },
    {
      "cell_type": "code",
      "source": [
        "len(unq_genres_df)"
      ],
      "metadata": {
        "colab": {
          "base_uri": "https://localhost:8080/"
        },
        "id": "t-EU8XxEv-UF",
        "outputId": "11d6bbe7-38fe-4418-8aa3-a4c7965d9378"
      },
      "execution_count": null,
      "outputs": [
        {
          "output_type": "execute_result",
          "data": {
            "text/plain": [
              "2993"
            ]
          },
          "metadata": {},
          "execution_count": 126
        }
      ]
    },
    {
      "cell_type": "code",
      "source": [
        "unq_genres_df.iloc[100]['genres']"
      ],
      "metadata": {
        "colab": {
          "base_uri": "https://localhost:8080/"
        },
        "id": "jdW6Kfr3wrHg",
        "outputId": "203a0dd5-9d3e-4fd4-9b60-1bb516f56dbe"
      },
      "execution_count": null,
      "outputs": [
        {
          "output_type": "execute_result",
          "data": {
            "text/plain": [
              "[{'id': 28, 'name': 'Action'},\n",
              " {'id': 53, 'name': 'Thriller'},\n",
              " {'id': 878, 'name': 'Science Fiction'},\n",
              " {'id': 80, 'name': 'Crime'},\n",
              " {'id': 27, 'name': 'Horror'}]"
            ]
          },
          "metadata": {},
          "execution_count": 127
        }
      ]
    },
    {
      "cell_type": "code",
      "source": [
        "for item in unq_genres_df.iloc[0:5].iterrows():\n",
        "  print(type(item))"
      ],
      "metadata": {
        "colab": {
          "base_uri": "https://localhost:8080/"
        },
        "id": "M8-NmT13BT1a",
        "outputId": "f48886b2-c13e-4cf9-c11b-f603c57b9a6c"
      },
      "execution_count": null,
      "outputs": [
        {
          "output_type": "stream",
          "name": "stdout",
          "text": [
            "<class 'tuple'>\n",
            "<class 'tuple'>\n",
            "<class 'tuple'>\n",
            "<class 'tuple'>\n",
            "<class 'tuple'>\n"
          ]
        }
      ]
    },
    {
      "cell_type": "code",
      "source": [
        "for index,row in unq_genres_df.iloc[0:2].iterrows():\n",
        "  print(index)\n",
        "  print(row)"
      ],
      "metadata": {
        "colab": {
          "base_uri": "https://localhost:8080/"
        },
        "id": "enmQQtvZAOui",
        "outputId": "fe9c997e-f664-4ecb-e2e7-ffefa9277967"
      },
      "execution_count": null,
      "outputs": [
        {
          "output_type": "stream",
          "name": "stdout",
          "text": [
            "0\n",
            "budget                                                        14000000\n",
            "genres                                  [{'id': 35, 'name': 'Comedy'}]\n",
            "imdb_id                                                      tt2637294\n",
            "original_language                                                   en\n",
            "original_title                                  Hot Tub Time Machine 2\n",
            "cast                 [{'cast_id': 4, 'character': 'Lou', 'credit_id...\n",
            "crew                 [{'credit_id': '59ac067c92514107af02c8c8', 'de...\n",
            "revenue                                                       12314651\n",
            "profit                                                        -1685349\n",
            "ROI                                                         -12.038207\n",
            "Name: 0, dtype: object\n",
            "1\n",
            "budget                                                        40000000\n",
            "genres               [{'id': 35, 'name': 'Comedy'}, {'id': 18, 'nam...\n",
            "imdb_id                                                      tt0368933\n",
            "original_language                                                   en\n",
            "original_title                The Princess Diaries 2: Royal Engagement\n",
            "cast                 [{'cast_id': 1, 'character': 'Mia Thermopolis'...\n",
            "crew                 [{'credit_id': '52fe43fe9251416c7502563d', 'de...\n",
            "revenue                                                       95149435\n",
            "profit                                                        55149435\n",
            "ROI                                                         137.873588\n",
            "Name: 1, dtype: object\n"
          ]
        }
      ]
    },
    {
      "cell_type": "code",
      "source": [
        "#Create the list of genres \n",
        "genres_list = []\n",
        "\n",
        "#Iterate over each observation in dataframe\n",
        "for index,row in unq_genres_df.iterrows():\n",
        "\n",
        "  #indentify the list of genres\n",
        "  genre_list = row['genres'] \n",
        "\n",
        "  # we will iterate over list of dictionaries\n",
        "  for elem in genre_list:\n",
        "    genres_list.append(elem['name'])"
      ],
      "metadata": {
        "id": "8YYtldvqzzRI"
      },
      "execution_count": null,
      "outputs": []
    },
    {
      "cell_type": "code",
      "source": [
        "# set(genres_list)    # unique genres of movies in this dataset."
      ],
      "metadata": {
        "id": "jwIvDESw9s3-"
      },
      "execution_count": null,
      "outputs": []
    },
    {
      "cell_type": "markdown",
      "source": [
        "##4.Make a table of all the producers and directors of each movie. Find the top 3 producers who have produced movies with the highest average RoI?"
      ],
      "metadata": {
        "id": "mv-KNX47Emoe"
      }
    },
    {
      "cell_type": "code",
      "source": [
        "#Create a dataframe in which we have no null observation for the column crew\n",
        "imdb_no_na_crew = df2[~df2['crew'].isna()]"
      ],
      "metadata": {
        "id": "gvwli-vQDTCg"
      },
      "execution_count": null,
      "outputs": []
    },
    {
      "cell_type": "code",
      "source": [
        "imdb_no_na_crew.shape"
      ],
      "metadata": {
        "colab": {
          "base_uri": "https://localhost:8080/"
        },
        "id": "60sApN82S-PI",
        "outputId": "958e7edb-76f9-4723-dff4-441f68368914"
      },
      "execution_count": null,
      "outputs": [
        {
          "output_type": "execute_result",
          "data": {
            "text/plain": [
              "(2984, 10)"
            ]
          },
          "metadata": {},
          "execution_count": 133
        }
      ]
    },
    {
      "cell_type": "code",
      "source": [
        "imdb_no_na_crew.iloc[0:3]['crew']"
      ],
      "metadata": {
        "colab": {
          "base_uri": "https://localhost:8080/"
        },
        "id": "zX7nz2q3TpHL",
        "outputId": "fe202946-2628-4eee-9fc2-aaef65421b6f"
      },
      "execution_count": null,
      "outputs": [
        {
          "output_type": "execute_result",
          "data": {
            "text/plain": [
              "0    [{'credit_id': '59ac067c92514107af02c8c8', 'de...\n",
              "1    [{'credit_id': '52fe43fe9251416c7502563d', 'de...\n",
              "2    [{'credit_id': '54d5356ec3a3683ba0000039', 'de...\n",
              "Name: crew, dtype: object"
            ]
          },
          "metadata": {},
          "execution_count": 134
        }
      ]
    },
    {
      "cell_type": "code",
      "source": [
        "# creating a function which return the list of producer and director for each movie\n",
        "def get_producer_and_director(row):\n",
        "  try:\n",
        "    # initialize two list corresponding to producer and director\n",
        "    producer_list2 = []\n",
        "    director_list2 = []\n",
        "\n",
        "    #Iterate over the list element\n",
        "    for elem in row['crew']:\n",
        "\n",
        "      if elem['job'] == 'Producer':\n",
        "        #Append the name of the producer to the producer list \n",
        "        producer_list2.append(elem['name'])\n",
        "\n",
        "      if elem['job'] == 'Director':\n",
        "        # Append the name of the director to the director list\n",
        "        director_list2.append(elem['name'])\n",
        "    row['producer'] = producer_list2\n",
        "    row['director'] = director_list2\n",
        "    return row\n",
        "  except:\n",
        "    return None"
      ],
      "metadata": {
        "id": "OKl8QAhcTJWS"
      },
      "execution_count": null,
      "outputs": []
    },
    {
      "cell_type": "code",
      "source": [
        "get_producer_and_director(imdb_no_na_crew.loc[1])"
      ],
      "metadata": {
        "colab": {
          "base_uri": "https://localhost:8080/"
        },
        "id": "o-PQdESSYQYb",
        "outputId": "a809f303-b39b-443f-d899-b449229bd8dc"
      },
      "execution_count": null,
      "outputs": [
        {
          "output_type": "stream",
          "name": "stderr",
          "text": [
            "/usr/local/lib/python3.7/dist-packages/pandas/core/series.py:1056: SettingWithCopyWarning: \n",
            "A value is trying to be set on a copy of a slice from a DataFrame\n",
            "\n",
            "See the caveats in the documentation: https://pandas.pydata.org/pandas-docs/stable/user_guide/indexing.html#returning-a-view-versus-a-copy\n",
            "  cacher_needs_updating = self._check_is_chained_assignment_possible()\n",
            "/usr/local/lib/python3.7/dist-packages/pandas/core/indexing.py:1724: SettingWithCopyWarning: \n",
            "A value is trying to be set on a copy of a slice from a DataFrame\n",
            "\n",
            "See the caveats in the documentation: https://pandas.pydata.org/pandas-docs/stable/user_guide/indexing.html#returning-a-view-versus-a-copy\n",
            "  self._setitem_with_indexer_missing(indexer, value)\n"
          ]
        },
        {
          "output_type": "execute_result",
          "data": {
            "text/plain": [
              "budget                                                        40000000\n",
              "genres               [{'id': 35, 'name': 'Comedy'}, {'id': 18, 'nam...\n",
              "imdb_id                                                      tt0368933\n",
              "original_language                                                   en\n",
              "original_title                The Princess Diaries 2: Royal Engagement\n",
              "cast                 [{'cast_id': 1, 'character': 'Mia Thermopolis'...\n",
              "crew                 [{'credit_id': '52fe43fe9251416c7502563d', 'de...\n",
              "revenue                                                       95149435\n",
              "profit                                                        55149435\n",
              "ROI                                                         137.873588\n",
              "producer             [Whitney Houston, Mario Iscovich, Debra Martin...\n",
              "director                                              [Garry Marshall]\n",
              "Name: 1, dtype: object"
            ]
          },
          "metadata": {},
          "execution_count": 136
        }
      ]
    },
    {
      "cell_type": "code",
      "source": [
        "df3 = df2.apply(get_producer_and_director,axis = 1)"
      ],
      "metadata": {
        "id": "nQ3buKO1-oMA"
      },
      "execution_count": null,
      "outputs": []
    },
    {
      "cell_type": "code",
      "source": [
        "df3.head(3)"
      ],
      "metadata": {
        "colab": {
          "base_uri": "https://localhost:8080/"
        },
        "id": "0SD5skIK_OUV",
        "outputId": "c129b8bf-f3cf-483f-a349-f5fd1128b1c0"
      },
      "execution_count": null,
      "outputs": [
        {
          "output_type": "execute_result",
          "data": {
            "text/plain": [
              "       budget                                             genres    imdb_id  \\\n",
              "0  14000000.0                     [{'id': 35, 'name': 'Comedy'}]  tt2637294   \n",
              "1  40000000.0  [{'id': 35, 'name': 'Comedy'}, {'id': 18, 'nam...  tt0368933   \n",
              "2   3300000.0                      [{'id': 18, 'name': 'Drama'}]  tt2582802   \n",
              "\n",
              "  original_language                            original_title  \\\n",
              "0                en                    Hot Tub Time Machine 2   \n",
              "1                en  The Princess Diaries 2: Royal Engagement   \n",
              "2                en                                  Whiplash   \n",
              "\n",
              "                                                cast  \\\n",
              "0  [{'cast_id': 4, 'character': 'Lou', 'credit_id...   \n",
              "1  [{'cast_id': 1, 'character': 'Mia Thermopolis'...   \n",
              "2  [{'cast_id': 5, 'character': 'Andrew Neimann',...   \n",
              "\n",
              "                                                crew     revenue      profit  \\\n",
              "0  [{'credit_id': '59ac067c92514107af02c8c8', 'de...  12314651.0  -1685349.0   \n",
              "1  [{'credit_id': '52fe43fe9251416c7502563d', 'de...  95149435.0  55149435.0   \n",
              "2  [{'credit_id': '54d5356ec3a3683ba0000039', 'de...  13092000.0   9792000.0   \n",
              "\n",
              "          ROI                                           producer  \\\n",
              "0  -12.038207                                     [Andrew Panay]   \n",
              "1  137.873588  [Whitney Houston, Mario Iscovich, Debra Martin...   \n",
              "2  296.727273  [David Lancaster, Michel Litvak, Jason Blum, H...   \n",
              "\n",
              "            director  \n",
              "0       [Steve Pink]  \n",
              "1   [Garry Marshall]  \n",
              "2  [Damien Chazelle]  "
            ],
            "text/html": [
              "\n",
              "  <div id=\"df-d90cba18-88b4-4633-abe7-fc26fc78c28e\">\n",
              "    <div class=\"colab-df-container\">\n",
              "      <div>\n",
              "<style scoped>\n",
              "    .dataframe tbody tr th:only-of-type {\n",
              "        vertical-align: middle;\n",
              "    }\n",
              "\n",
              "    .dataframe tbody tr th {\n",
              "        vertical-align: top;\n",
              "    }\n",
              "\n",
              "    .dataframe thead th {\n",
              "        text-align: right;\n",
              "    }\n",
              "</style>\n",
              "<table border=\"1\" class=\"dataframe\">\n",
              "  <thead>\n",
              "    <tr style=\"text-align: right;\">\n",
              "      <th></th>\n",
              "      <th>budget</th>\n",
              "      <th>genres</th>\n",
              "      <th>imdb_id</th>\n",
              "      <th>original_language</th>\n",
              "      <th>original_title</th>\n",
              "      <th>cast</th>\n",
              "      <th>crew</th>\n",
              "      <th>revenue</th>\n",
              "      <th>profit</th>\n",
              "      <th>ROI</th>\n",
              "      <th>producer</th>\n",
              "      <th>director</th>\n",
              "    </tr>\n",
              "  </thead>\n",
              "  <tbody>\n",
              "    <tr>\n",
              "      <th>0</th>\n",
              "      <td>14000000.0</td>\n",
              "      <td>[{'id': 35, 'name': 'Comedy'}]</td>\n",
              "      <td>tt2637294</td>\n",
              "      <td>en</td>\n",
              "      <td>Hot Tub Time Machine 2</td>\n",
              "      <td>[{'cast_id': 4, 'character': 'Lou', 'credit_id...</td>\n",
              "      <td>[{'credit_id': '59ac067c92514107af02c8c8', 'de...</td>\n",
              "      <td>12314651.0</td>\n",
              "      <td>-1685349.0</td>\n",
              "      <td>-12.038207</td>\n",
              "      <td>[Andrew Panay]</td>\n",
              "      <td>[Steve Pink]</td>\n",
              "    </tr>\n",
              "    <tr>\n",
              "      <th>1</th>\n",
              "      <td>40000000.0</td>\n",
              "      <td>[{'id': 35, 'name': 'Comedy'}, {'id': 18, 'nam...</td>\n",
              "      <td>tt0368933</td>\n",
              "      <td>en</td>\n",
              "      <td>The Princess Diaries 2: Royal Engagement</td>\n",
              "      <td>[{'cast_id': 1, 'character': 'Mia Thermopolis'...</td>\n",
              "      <td>[{'credit_id': '52fe43fe9251416c7502563d', 'de...</td>\n",
              "      <td>95149435.0</td>\n",
              "      <td>55149435.0</td>\n",
              "      <td>137.873588</td>\n",
              "      <td>[Whitney Houston, Mario Iscovich, Debra Martin...</td>\n",
              "      <td>[Garry Marshall]</td>\n",
              "    </tr>\n",
              "    <tr>\n",
              "      <th>2</th>\n",
              "      <td>3300000.0</td>\n",
              "      <td>[{'id': 18, 'name': 'Drama'}]</td>\n",
              "      <td>tt2582802</td>\n",
              "      <td>en</td>\n",
              "      <td>Whiplash</td>\n",
              "      <td>[{'cast_id': 5, 'character': 'Andrew Neimann',...</td>\n",
              "      <td>[{'credit_id': '54d5356ec3a3683ba0000039', 'de...</td>\n",
              "      <td>13092000.0</td>\n",
              "      <td>9792000.0</td>\n",
              "      <td>296.727273</td>\n",
              "      <td>[David Lancaster, Michel Litvak, Jason Blum, H...</td>\n",
              "      <td>[Damien Chazelle]</td>\n",
              "    </tr>\n",
              "  </tbody>\n",
              "</table>\n",
              "</div>\n",
              "      <button class=\"colab-df-convert\" onclick=\"convertToInteractive('df-d90cba18-88b4-4633-abe7-fc26fc78c28e')\"\n",
              "              title=\"Convert this dataframe to an interactive table.\"\n",
              "              style=\"display:none;\">\n",
              "        \n",
              "  <svg xmlns=\"http://www.w3.org/2000/svg\" height=\"24px\"viewBox=\"0 0 24 24\"\n",
              "       width=\"24px\">\n",
              "    <path d=\"M0 0h24v24H0V0z\" fill=\"none\"/>\n",
              "    <path d=\"M18.56 5.44l.94 2.06.94-2.06 2.06-.94-2.06-.94-.94-2.06-.94 2.06-2.06.94zm-11 1L8.5 8.5l.94-2.06 2.06-.94-2.06-.94L8.5 2.5l-.94 2.06-2.06.94zm10 10l.94 2.06.94-2.06 2.06-.94-2.06-.94-.94-2.06-.94 2.06-2.06.94z\"/><path d=\"M17.41 7.96l-1.37-1.37c-.4-.4-.92-.59-1.43-.59-.52 0-1.04.2-1.43.59L10.3 9.45l-7.72 7.72c-.78.78-.78 2.05 0 2.83L4 21.41c.39.39.9.59 1.41.59.51 0 1.02-.2 1.41-.59l7.78-7.78 2.81-2.81c.8-.78.8-2.07 0-2.86zM5.41 20L4 18.59l7.72-7.72 1.47 1.35L5.41 20z\"/>\n",
              "  </svg>\n",
              "      </button>\n",
              "      \n",
              "  <style>\n",
              "    .colab-df-container {\n",
              "      display:flex;\n",
              "      flex-wrap:wrap;\n",
              "      gap: 12px;\n",
              "    }\n",
              "\n",
              "    .colab-df-convert {\n",
              "      background-color: #E8F0FE;\n",
              "      border: none;\n",
              "      border-radius: 50%;\n",
              "      cursor: pointer;\n",
              "      display: none;\n",
              "      fill: #1967D2;\n",
              "      height: 32px;\n",
              "      padding: 0 0 0 0;\n",
              "      width: 32px;\n",
              "    }\n",
              "\n",
              "    .colab-df-convert:hover {\n",
              "      background-color: #E2EBFA;\n",
              "      box-shadow: 0px 1px 2px rgba(60, 64, 67, 0.3), 0px 1px 3px 1px rgba(60, 64, 67, 0.15);\n",
              "      fill: #174EA6;\n",
              "    }\n",
              "\n",
              "    [theme=dark] .colab-df-convert {\n",
              "      background-color: #3B4455;\n",
              "      fill: #D2E3FC;\n",
              "    }\n",
              "\n",
              "    [theme=dark] .colab-df-convert:hover {\n",
              "      background-color: #434B5C;\n",
              "      box-shadow: 0px 1px 3px 1px rgba(0, 0, 0, 0.15);\n",
              "      filter: drop-shadow(0px 1px 2px rgba(0, 0, 0, 0.3));\n",
              "      fill: #FFFFFF;\n",
              "    }\n",
              "  </style>\n",
              "\n",
              "      <script>\n",
              "        const buttonEl =\n",
              "          document.querySelector('#df-d90cba18-88b4-4633-abe7-fc26fc78c28e button.colab-df-convert');\n",
              "        buttonEl.style.display =\n",
              "          google.colab.kernel.accessAllowed ? 'block' : 'none';\n",
              "\n",
              "        async function convertToInteractive(key) {\n",
              "          const element = document.querySelector('#df-d90cba18-88b4-4633-abe7-fc26fc78c28e');\n",
              "          const dataTable =\n",
              "            await google.colab.kernel.invokeFunction('convertToInteractive',\n",
              "                                                     [key], {});\n",
              "          if (!dataTable) return;\n",
              "\n",
              "          const docLinkHtml = 'Like what you see? Visit the ' +\n",
              "            '<a target=\"_blank\" href=https://colab.research.google.com/notebooks/data_table.ipynb>data table notebook</a>'\n",
              "            + ' to learn more about interactive tables.';\n",
              "          element.innerHTML = '';\n",
              "          dataTable['output_type'] = 'display_data';\n",
              "          await google.colab.output.renderOutput(dataTable, element);\n",
              "          const docLink = document.createElement('div');\n",
              "          docLink.innerHTML = docLinkHtml;\n",
              "          element.appendChild(docLink);\n",
              "        }\n",
              "      </script>\n",
              "    </div>\n",
              "  </div>\n",
              "  "
            ]
          },
          "metadata": {},
          "execution_count": 138
        }
      ]
    },
    {
      "cell_type": "markdown",
      "source": [
        "## ==========OR By using Expand method================"
      ],
      "metadata": {
        "id": "RkvYl80iAykC"
      }
    },
    {
      "cell_type": "code",
      "source": [
        "# # creating a function which return the list of producer and director for each movie\n",
        "# def get_producer_and_director(crew_list):\n",
        "#   try:\n",
        "#     # initialize two list corresponding to producer and director\n",
        "#     producer_list3 = []\n",
        "#     director_list3 = []\n",
        "\n",
        "#     #Iterate over the list element\n",
        "#     for elem in crew_list:\n",
        "\n",
        "#       if elem['job'] == 'Producer':\n",
        "#         #Append the name of the producer to the producer list \n",
        "#         producer_list3.append(elem['name'])\n",
        "\n",
        "#       if elem['job'] == 'Director':\n",
        "#         # Append the name of the director to the director list\n",
        "#         director_list3.append(elem['name'])\n",
        "#     # row['producer'] = producer_list2\n",
        "#     # row['director'] = director_list2\n",
        "#     return producer_list3, director_list3\n",
        "#   except: \n",
        "#     return [], []\n",
        "\n",
        "\n",
        "# # Create the column producer and director\n",
        "\n",
        "# df2[['producer2','director2']] = df2.apply(lambda row: get_producer_and_director(row['crew']), axis= 1, result_type='expand')\n",
        "# df2.head(2)"
      ],
      "metadata": {
        "id": "OdqbcBoxAGmx"
      },
      "execution_count": null,
      "outputs": []
    },
    {
      "cell_type": "code",
      "source": [],
      "metadata": {
        "id": "zPAzLSBoaIEv"
      },
      "execution_count": null,
      "outputs": []
    },
    {
      "cell_type": "code",
      "source": [],
      "metadata": {
        "id": "XNnwt4xe3glO"
      },
      "execution_count": null,
      "outputs": []
    }
  ]
}